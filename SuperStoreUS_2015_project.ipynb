{
 "cells": [
  {
   "cell_type": "code",
   "execution_count": 1,
   "id": "2bd7e81a",
   "metadata": {},
   "outputs": [],
   "source": [
    "import numpy as np\n",
    "import pandas as pd\n",
    "import matplotlib.pyplot as plt\n",
    "import seaborn as sns"
   ]
  },
  {
   "cell_type": "markdown",
   "id": "083161de",
   "metadata": {},
   "source": [
    "______\n",
    "\n",
    "#\n",
    "\n",
    "#### import important librarys like pandas, matplotlib, seaborn, etc.\n",
    "\n",
    "#\n",
    "\n",
    "______"
   ]
  },
  {
   "cell_type": "markdown",
   "id": "bfbe851c",
   "metadata": {},
   "source": [
    "# import dataset of (xlsx)file"
   ]
  },
  {
   "cell_type": "code",
   "execution_count": 2,
   "id": "f973cedc",
   "metadata": {},
   "outputs": [
    {
     "data": {
      "text/html": [
       "<div>\n",
       "<style scoped>\n",
       "    .dataframe tbody tr th:only-of-type {\n",
       "        vertical-align: middle;\n",
       "    }\n",
       "\n",
       "    .dataframe tbody tr th {\n",
       "        vertical-align: top;\n",
       "    }\n",
       "\n",
       "    .dataframe thead th {\n",
       "        text-align: right;\n",
       "    }\n",
       "</style>\n",
       "<table border=\"1\" class=\"dataframe\">\n",
       "  <thead>\n",
       "    <tr style=\"text-align: right;\">\n",
       "      <th></th>\n",
       "      <th>Row ID</th>\n",
       "      <th>Order Priority</th>\n",
       "      <th>Discount</th>\n",
       "      <th>Unit Price</th>\n",
       "      <th>Shipping Cost</th>\n",
       "      <th>Customer ID</th>\n",
       "      <th>Customer Name</th>\n",
       "      <th>Ship Mode</th>\n",
       "      <th>Customer Segment</th>\n",
       "      <th>Product Category</th>\n",
       "      <th>...</th>\n",
       "      <th>Region</th>\n",
       "      <th>State or Province</th>\n",
       "      <th>City</th>\n",
       "      <th>Postal Code</th>\n",
       "      <th>Order Date</th>\n",
       "      <th>Ship Date</th>\n",
       "      <th>Profit</th>\n",
       "      <th>Quantity ordered new</th>\n",
       "      <th>Sales</th>\n",
       "      <th>Order ID</th>\n",
       "    </tr>\n",
       "  </thead>\n",
       "  <tbody>\n",
       "    <tr>\n",
       "      <th>0</th>\n",
       "      <td>20847</td>\n",
       "      <td>High</td>\n",
       "      <td>0.01</td>\n",
       "      <td>2.84</td>\n",
       "      <td>0.93</td>\n",
       "      <td>3</td>\n",
       "      <td>Bonnie Potter</td>\n",
       "      <td>Express Air</td>\n",
       "      <td>Corporate</td>\n",
       "      <td>Office Supplies</td>\n",
       "      <td>...</td>\n",
       "      <td>West</td>\n",
       "      <td>Washington</td>\n",
       "      <td>Anacortes</td>\n",
       "      <td>98221</td>\n",
       "      <td>2015-01-07</td>\n",
       "      <td>2015-01-08</td>\n",
       "      <td>4.5600</td>\n",
       "      <td>4</td>\n",
       "      <td>13.01</td>\n",
       "      <td>88522</td>\n",
       "    </tr>\n",
       "    <tr>\n",
       "      <th>1</th>\n",
       "      <td>20228</td>\n",
       "      <td>Not Specified</td>\n",
       "      <td>0.02</td>\n",
       "      <td>500.98</td>\n",
       "      <td>26.00</td>\n",
       "      <td>5</td>\n",
       "      <td>Ronnie Proctor</td>\n",
       "      <td>Delivery Truck</td>\n",
       "      <td>Home Office</td>\n",
       "      <td>Furniture</td>\n",
       "      <td>...</td>\n",
       "      <td>West</td>\n",
       "      <td>California</td>\n",
       "      <td>San Gabriel</td>\n",
       "      <td>91776</td>\n",
       "      <td>2015-06-13</td>\n",
       "      <td>2015-06-15</td>\n",
       "      <td>4390.3665</td>\n",
       "      <td>12</td>\n",
       "      <td>6362.85</td>\n",
       "      <td>90193</td>\n",
       "    </tr>\n",
       "    <tr>\n",
       "      <th>2</th>\n",
       "      <td>21776</td>\n",
       "      <td>Critical</td>\n",
       "      <td>0.06</td>\n",
       "      <td>9.48</td>\n",
       "      <td>7.29</td>\n",
       "      <td>11</td>\n",
       "      <td>Marcus Dunlap</td>\n",
       "      <td>Regular Air</td>\n",
       "      <td>Home Office</td>\n",
       "      <td>Furniture</td>\n",
       "      <td>...</td>\n",
       "      <td>East</td>\n",
       "      <td>New Jersey</td>\n",
       "      <td>Roselle</td>\n",
       "      <td>7203</td>\n",
       "      <td>2015-02-15</td>\n",
       "      <td>2015-02-17</td>\n",
       "      <td>-53.8096</td>\n",
       "      <td>22</td>\n",
       "      <td>211.15</td>\n",
       "      <td>90192</td>\n",
       "    </tr>\n",
       "    <tr>\n",
       "      <th>3</th>\n",
       "      <td>24844</td>\n",
       "      <td>Medium</td>\n",
       "      <td>0.09</td>\n",
       "      <td>78.69</td>\n",
       "      <td>19.99</td>\n",
       "      <td>14</td>\n",
       "      <td>Gwendolyn F Tyson</td>\n",
       "      <td>Regular Air</td>\n",
       "      <td>Small Business</td>\n",
       "      <td>Furniture</td>\n",
       "      <td>...</td>\n",
       "      <td>Central</td>\n",
       "      <td>Minnesota</td>\n",
       "      <td>Prior Lake</td>\n",
       "      <td>55372</td>\n",
       "      <td>2015-05-12</td>\n",
       "      <td>2015-05-14</td>\n",
       "      <td>803.4705</td>\n",
       "      <td>16</td>\n",
       "      <td>1164.45</td>\n",
       "      <td>86838</td>\n",
       "    </tr>\n",
       "    <tr>\n",
       "      <th>4</th>\n",
       "      <td>24846</td>\n",
       "      <td>Medium</td>\n",
       "      <td>0.08</td>\n",
       "      <td>3.28</td>\n",
       "      <td>2.31</td>\n",
       "      <td>14</td>\n",
       "      <td>Gwendolyn F Tyson</td>\n",
       "      <td>Regular Air</td>\n",
       "      <td>Small Business</td>\n",
       "      <td>Office Supplies</td>\n",
       "      <td>...</td>\n",
       "      <td>Central</td>\n",
       "      <td>Minnesota</td>\n",
       "      <td>Prior Lake</td>\n",
       "      <td>55372</td>\n",
       "      <td>2015-05-12</td>\n",
       "      <td>2015-05-13</td>\n",
       "      <td>-24.0300</td>\n",
       "      <td>7</td>\n",
       "      <td>22.23</td>\n",
       "      <td>86838</td>\n",
       "    </tr>\n",
       "    <tr>\n",
       "      <th>...</th>\n",
       "      <td>...</td>\n",
       "      <td>...</td>\n",
       "      <td>...</td>\n",
       "      <td>...</td>\n",
       "      <td>...</td>\n",
       "      <td>...</td>\n",
       "      <td>...</td>\n",
       "      <td>...</td>\n",
       "      <td>...</td>\n",
       "      <td>...</td>\n",
       "      <td>...</td>\n",
       "      <td>...</td>\n",
       "      <td>...</td>\n",
       "      <td>...</td>\n",
       "      <td>...</td>\n",
       "      <td>...</td>\n",
       "      <td>...</td>\n",
       "      <td>...</td>\n",
       "      <td>...</td>\n",
       "      <td>...</td>\n",
       "      <td>...</td>\n",
       "    </tr>\n",
       "    <tr>\n",
       "      <th>1947</th>\n",
       "      <td>19842</td>\n",
       "      <td>High</td>\n",
       "      <td>0.01</td>\n",
       "      <td>10.90</td>\n",
       "      <td>7.46</td>\n",
       "      <td>3397</td>\n",
       "      <td>Andrea Shaw</td>\n",
       "      <td>Regular Air</td>\n",
       "      <td>Small Business</td>\n",
       "      <td>Office Supplies</td>\n",
       "      <td>...</td>\n",
       "      <td>Central</td>\n",
       "      <td>Illinois</td>\n",
       "      <td>Danville</td>\n",
       "      <td>61832</td>\n",
       "      <td>2015-03-11</td>\n",
       "      <td>2015-03-12</td>\n",
       "      <td>-116.7600</td>\n",
       "      <td>18</td>\n",
       "      <td>207.31</td>\n",
       "      <td>87536</td>\n",
       "    </tr>\n",
       "    <tr>\n",
       "      <th>1948</th>\n",
       "      <td>19843</td>\n",
       "      <td>High</td>\n",
       "      <td>0.10</td>\n",
       "      <td>7.99</td>\n",
       "      <td>5.03</td>\n",
       "      <td>3397</td>\n",
       "      <td>Andrea Shaw</td>\n",
       "      <td>Regular Air</td>\n",
       "      <td>Small Business</td>\n",
       "      <td>Technology</td>\n",
       "      <td>...</td>\n",
       "      <td>Central</td>\n",
       "      <td>Illinois</td>\n",
       "      <td>Danville</td>\n",
       "      <td>61832</td>\n",
       "      <td>2015-03-11</td>\n",
       "      <td>2015-03-12</td>\n",
       "      <td>-160.9520</td>\n",
       "      <td>22</td>\n",
       "      <td>143.12</td>\n",
       "      <td>87536</td>\n",
       "    </tr>\n",
       "    <tr>\n",
       "      <th>1949</th>\n",
       "      <td>26208</td>\n",
       "      <td>Not Specified</td>\n",
       "      <td>0.08</td>\n",
       "      <td>11.97</td>\n",
       "      <td>5.81</td>\n",
       "      <td>3399</td>\n",
       "      <td>Marvin Reid</td>\n",
       "      <td>Regular Air</td>\n",
       "      <td>Small Business</td>\n",
       "      <td>Office Supplies</td>\n",
       "      <td>...</td>\n",
       "      <td>Central</td>\n",
       "      <td>Illinois</td>\n",
       "      <td>Des Plaines</td>\n",
       "      <td>60016</td>\n",
       "      <td>2015-03-29</td>\n",
       "      <td>2015-03-31</td>\n",
       "      <td>-41.8700</td>\n",
       "      <td>5</td>\n",
       "      <td>59.98</td>\n",
       "      <td>87534</td>\n",
       "    </tr>\n",
       "    <tr>\n",
       "      <th>1950</th>\n",
       "      <td>24911</td>\n",
       "      <td>Medium</td>\n",
       "      <td>0.10</td>\n",
       "      <td>9.38</td>\n",
       "      <td>4.93</td>\n",
       "      <td>3400</td>\n",
       "      <td>Florence Gold</td>\n",
       "      <td>Express Air</td>\n",
       "      <td>Small Business</td>\n",
       "      <td>Furniture</td>\n",
       "      <td>...</td>\n",
       "      <td>East</td>\n",
       "      <td>West Virginia</td>\n",
       "      <td>Fairmont</td>\n",
       "      <td>26554</td>\n",
       "      <td>2015-04-04</td>\n",
       "      <td>2015-04-04</td>\n",
       "      <td>-24.7104</td>\n",
       "      <td>15</td>\n",
       "      <td>135.78</td>\n",
       "      <td>87537</td>\n",
       "    </tr>\n",
       "    <tr>\n",
       "      <th>1951</th>\n",
       "      <td>25914</td>\n",
       "      <td>High</td>\n",
       "      <td>0.10</td>\n",
       "      <td>105.98</td>\n",
       "      <td>13.99</td>\n",
       "      <td>3403</td>\n",
       "      <td>Tammy Buckley</td>\n",
       "      <td>Express Air</td>\n",
       "      <td>Consumer</td>\n",
       "      <td>Furniture</td>\n",
       "      <td>...</td>\n",
       "      <td>West</td>\n",
       "      <td>Wyoming</td>\n",
       "      <td>Cheyenne</td>\n",
       "      <td>82001</td>\n",
       "      <td>2015-02-08</td>\n",
       "      <td>2015-02-11</td>\n",
       "      <td>349.4850</td>\n",
       "      <td>5</td>\n",
       "      <td>506.50</td>\n",
       "      <td>87530</td>\n",
       "    </tr>\n",
       "  </tbody>\n",
       "</table>\n",
       "<p>1952 rows × 25 columns</p>\n",
       "</div>"
      ],
      "text/plain": [
       "      Row ID Order Priority  Discount  Unit Price  Shipping Cost  Customer ID  \\\n",
       "0      20847           High      0.01        2.84           0.93            3   \n",
       "1      20228  Not Specified      0.02      500.98          26.00            5   \n",
       "2      21776       Critical      0.06        9.48           7.29           11   \n",
       "3      24844         Medium      0.09       78.69          19.99           14   \n",
       "4      24846         Medium      0.08        3.28           2.31           14   \n",
       "...      ...            ...       ...         ...            ...          ...   \n",
       "1947   19842           High      0.01       10.90           7.46         3397   \n",
       "1948   19843           High      0.10        7.99           5.03         3397   \n",
       "1949   26208  Not Specified      0.08       11.97           5.81         3399   \n",
       "1950   24911         Medium      0.10        9.38           4.93         3400   \n",
       "1951   25914           High      0.10      105.98          13.99         3403   \n",
       "\n",
       "          Customer Name       Ship Mode Customer Segment Product Category  \\\n",
       "0         Bonnie Potter     Express Air        Corporate  Office Supplies   \n",
       "1        Ronnie Proctor  Delivery Truck      Home Office        Furniture   \n",
       "2         Marcus Dunlap     Regular Air      Home Office        Furniture   \n",
       "3     Gwendolyn F Tyson     Regular Air   Small Business        Furniture   \n",
       "4     Gwendolyn F Tyson     Regular Air   Small Business  Office Supplies   \n",
       "...                 ...             ...              ...              ...   \n",
       "1947        Andrea Shaw     Regular Air   Small Business  Office Supplies   \n",
       "1948        Andrea Shaw     Regular Air   Small Business       Technology   \n",
       "1949        Marvin Reid     Regular Air   Small Business  Office Supplies   \n",
       "1950      Florence Gold     Express Air   Small Business        Furniture   \n",
       "1951      Tammy Buckley     Express Air         Consumer        Furniture   \n",
       "\n",
       "      ...   Region State or Province         City  Postal Code Order Date  \\\n",
       "0     ...     West        Washington    Anacortes        98221 2015-01-07   \n",
       "1     ...     West        California  San Gabriel        91776 2015-06-13   \n",
       "2     ...     East        New Jersey      Roselle         7203 2015-02-15   \n",
       "3     ...  Central         Minnesota   Prior Lake        55372 2015-05-12   \n",
       "4     ...  Central         Minnesota   Prior Lake        55372 2015-05-12   \n",
       "...   ...      ...               ...          ...          ...        ...   \n",
       "1947  ...  Central          Illinois     Danville        61832 2015-03-11   \n",
       "1948  ...  Central          Illinois     Danville        61832 2015-03-11   \n",
       "1949  ...  Central          Illinois  Des Plaines        60016 2015-03-29   \n",
       "1950  ...     East     West Virginia     Fairmont        26554 2015-04-04   \n",
       "1951  ...     West           Wyoming     Cheyenne        82001 2015-02-08   \n",
       "\n",
       "      Ship Date     Profit Quantity ordered new    Sales Order ID  \n",
       "0    2015-01-08     4.5600                    4    13.01    88522  \n",
       "1    2015-06-15  4390.3665                   12  6362.85    90193  \n",
       "2    2015-02-17   -53.8096                   22   211.15    90192  \n",
       "3    2015-05-14   803.4705                   16  1164.45    86838  \n",
       "4    2015-05-13   -24.0300                    7    22.23    86838  \n",
       "...         ...        ...                  ...      ...      ...  \n",
       "1947 2015-03-12  -116.7600                   18   207.31    87536  \n",
       "1948 2015-03-12  -160.9520                   22   143.12    87536  \n",
       "1949 2015-03-31   -41.8700                    5    59.98    87534  \n",
       "1950 2015-04-04   -24.7104                   15   135.78    87537  \n",
       "1951 2015-02-11   349.4850                    5   506.50    87530  \n",
       "\n",
       "[1952 rows x 25 columns]"
      ]
     },
     "execution_count": 2,
     "metadata": {},
     "output_type": "execute_result"
    }
   ],
   "source": [
    "df1=pd.read_excel(r\"C:\\Users\\hp\\Desktop\\P6-SuperStoreUS-2015.xlsx\")\n",
    "df1"
   ]
  },
  {
   "cell_type": "markdown",
   "id": "1b6c354e",
   "metadata": {},
   "source": [
    "# observe dataset"
   ]
  },
  {
   "cell_type": "code",
   "execution_count": 3,
   "id": "786dea83",
   "metadata": {},
   "outputs": [
    {
     "data": {
      "text/plain": [
       "Index(['Row ID', 'Order Priority', 'Discount', 'Unit Price', 'Shipping Cost',\n",
       "       'Customer ID', 'Customer Name', 'Ship Mode', 'Customer Segment',\n",
       "       'Product Category', 'Product Sub-Category', 'Product Container',\n",
       "       'Product Name', 'Product Base Margin', 'Country', 'Region',\n",
       "       'State or Province', 'City', 'Postal Code', 'Order Date', 'Ship Date',\n",
       "       'Profit', 'Quantity ordered new', 'Sales', 'Order ID'],\n",
       "      dtype='object')"
      ]
     },
     "execution_count": 3,
     "metadata": {},
     "output_type": "execute_result"
    }
   ],
   "source": [
    "df1.columns"
   ]
  },
  {
   "cell_type": "code",
   "execution_count": 4,
   "id": "c8dbfb02",
   "metadata": {},
   "outputs": [
    {
     "name": "stdout",
     "output_type": "stream",
     "text": [
      "<class 'pandas.core.frame.DataFrame'>\n",
      "RangeIndex: 1952 entries, 0 to 1951\n",
      "Data columns (total 25 columns):\n",
      " #   Column                Non-Null Count  Dtype         \n",
      "---  ------                --------------  -----         \n",
      " 0   Row ID                1952 non-null   int64         \n",
      " 1   Order Priority        1952 non-null   object        \n",
      " 2   Discount              1952 non-null   float64       \n",
      " 3   Unit Price            1952 non-null   float64       \n",
      " 4   Shipping Cost         1952 non-null   float64       \n",
      " 5   Customer ID           1952 non-null   int64         \n",
      " 6   Customer Name         1952 non-null   object        \n",
      " 7   Ship Mode             1952 non-null   object        \n",
      " 8   Customer Segment      1952 non-null   object        \n",
      " 9   Product Category      1952 non-null   object        \n",
      " 10  Product Sub-Category  1952 non-null   object        \n",
      " 11  Product Container     1952 non-null   object        \n",
      " 12  Product Name          1952 non-null   object        \n",
      " 13  Product Base Margin   1936 non-null   float64       \n",
      " 14  Country               1952 non-null   object        \n",
      " 15  Region                1952 non-null   object        \n",
      " 16  State or Province     1952 non-null   object        \n",
      " 17  City                  1952 non-null   object        \n",
      " 18  Postal Code           1952 non-null   int64         \n",
      " 19  Order Date            1952 non-null   datetime64[ns]\n",
      " 20  Ship Date             1952 non-null   datetime64[ns]\n",
      " 21  Profit                1952 non-null   float64       \n",
      " 22  Quantity ordered new  1952 non-null   int64         \n",
      " 23  Sales                 1952 non-null   float64       \n",
      " 24  Order ID              1952 non-null   int64         \n",
      "dtypes: datetime64[ns](2), float64(6), int64(5), object(12)\n",
      "memory usage: 381.4+ KB\n"
     ]
    }
   ],
   "source": [
    "df1.info()"
   ]
  },
  {
   "cell_type": "markdown",
   "id": "8d8d34da",
   "metadata": {},
   "source": [
    "-------\n",
    "\n",
    "#\n",
    "\n",
    "### take sample of different columns to understand data \n",
    "\n",
    "#\n",
    "\n",
    "-------"
   ]
  },
  {
   "cell_type": "code",
   "execution_count": 5,
   "id": "be28cc1d",
   "metadata": {},
   "outputs": [
    {
     "data": {
      "text/plain": [
       "1363          Florida\n",
       "1883    Massachusetts\n",
       "1487     South Dakota\n",
       "1951          Wyoming\n",
       "816              Ohio\n",
       "Name: State or Province, dtype: object"
      ]
     },
     "execution_count": 5,
     "metadata": {},
     "output_type": "execute_result"
    }
   ],
   "source": [
    "df1[\"State or Province\"].sample(5)"
   ]
  },
  {
   "cell_type": "code",
   "execution_count": 6,
   "id": "180e67fd",
   "metadata": {},
   "outputs": [
    {
     "data": {
      "text/plain": [
       "1271   2015-03-25\n",
       "1808   2015-03-30\n",
       "1771   2015-05-17\n",
       "745    2015-03-30\n",
       "748    2015-01-05\n",
       "Name: Order Date, dtype: datetime64[ns]"
      ]
     },
     "execution_count": 6,
     "metadata": {},
     "output_type": "execute_result"
    }
   ],
   "source": [
    "df1[\"Order Date\"].sample(5)"
   ]
  },
  {
   "cell_type": "code",
   "execution_count": 7,
   "id": "c06dfb97",
   "metadata": {},
   "outputs": [
    {
     "data": {
      "text/plain": [
       "1185     7\n",
       "1746    36\n",
       "423      1\n",
       "1137     9\n",
       "1057     7\n",
       "Name: Quantity ordered new, dtype: int64"
      ]
     },
     "execution_count": 7,
     "metadata": {},
     "output_type": "execute_result"
    }
   ],
   "source": [
    "df1[\"Quantity ordered new\"].sample(5)"
   ]
  },
  {
   "cell_type": "code",
   "execution_count": 8,
   "id": "67398efa",
   "metadata": {},
   "outputs": [
    {
     "data": {
      "text/plain": [
       "1943       West\n",
       "1356       West\n",
       "1104       West\n",
       "1292    Central\n",
       "509       South\n",
       "Name: Region, dtype: object"
      ]
     },
     "execution_count": 8,
     "metadata": {},
     "output_type": "execute_result"
    }
   ],
   "source": [
    "df1[\"Region\"].sample(5)"
   ]
  },
  {
   "cell_type": "code",
   "execution_count": 9,
   "id": "07905158",
   "metadata": {},
   "outputs": [
    {
     "data": {
      "text/html": [
       "<div>\n",
       "<style scoped>\n",
       "    .dataframe tbody tr th:only-of-type {\n",
       "        vertical-align: middle;\n",
       "    }\n",
       "\n",
       "    .dataframe tbody tr th {\n",
       "        vertical-align: top;\n",
       "    }\n",
       "\n",
       "    .dataframe thead th {\n",
       "        text-align: right;\n",
       "    }\n",
       "</style>\n",
       "<table border=\"1\" class=\"dataframe\">\n",
       "  <thead>\n",
       "    <tr style=\"text-align: right;\">\n",
       "      <th></th>\n",
       "      <th>Row ID</th>\n",
       "      <th>Discount</th>\n",
       "      <th>Unit Price</th>\n",
       "      <th>Shipping Cost</th>\n",
       "      <th>Customer ID</th>\n",
       "      <th>Product Base Margin</th>\n",
       "      <th>Postal Code</th>\n",
       "      <th>Profit</th>\n",
       "      <th>Quantity ordered new</th>\n",
       "      <th>Sales</th>\n",
       "      <th>Order ID</th>\n",
       "    </tr>\n",
       "  </thead>\n",
       "  <tbody>\n",
       "    <tr>\n",
       "      <th>count</th>\n",
       "      <td>1952.000000</td>\n",
       "      <td>1952.000000</td>\n",
       "      <td>1952.000000</td>\n",
       "      <td>1952.000000</td>\n",
       "      <td>1952.000000</td>\n",
       "      <td>1936.000000</td>\n",
       "      <td>1952.000000</td>\n",
       "      <td>1952.000000</td>\n",
       "      <td>1952.000000</td>\n",
       "      <td>1952.000000</td>\n",
       "      <td>1952.000000</td>\n",
       "    </tr>\n",
       "    <tr>\n",
       "      <th>mean</th>\n",
       "      <td>19916.479508</td>\n",
       "      <td>0.048975</td>\n",
       "      <td>109.079221</td>\n",
       "      <td>12.968151</td>\n",
       "      <td>1735.376537</td>\n",
       "      <td>0.515186</td>\n",
       "      <td>51534.769467</td>\n",
       "      <td>114.793859</td>\n",
       "      <td>12.944672</td>\n",
       "      <td>985.828832</td>\n",
       "      <td>82365.924180</td>\n",
       "    </tr>\n",
       "    <tr>\n",
       "      <th>std</th>\n",
       "      <td>5957.595627</td>\n",
       "      <td>0.031378</td>\n",
       "      <td>393.481301</td>\n",
       "      <td>17.414631</td>\n",
       "      <td>991.078006</td>\n",
       "      <td>0.137055</td>\n",
       "      <td>29362.828420</td>\n",
       "      <td>1141.112387</td>\n",
       "      <td>13.871565</td>\n",
       "      <td>2559.900167</td>\n",
       "      <td>19042.295798</td>\n",
       "    </tr>\n",
       "    <tr>\n",
       "      <th>min</th>\n",
       "      <td>64.000000</td>\n",
       "      <td>0.000000</td>\n",
       "      <td>1.140000</td>\n",
       "      <td>0.490000</td>\n",
       "      <td>3.000000</td>\n",
       "      <td>0.350000</td>\n",
       "      <td>1001.000000</td>\n",
       "      <td>-16476.838000</td>\n",
       "      <td>1.000000</td>\n",
       "      <td>2.250000</td>\n",
       "      <td>359.000000</td>\n",
       "    </tr>\n",
       "    <tr>\n",
       "      <th>25%</th>\n",
       "      <td>19121.000000</td>\n",
       "      <td>0.020000</td>\n",
       "      <td>6.480000</td>\n",
       "      <td>3.230000</td>\n",
       "      <td>875.000000</td>\n",
       "      <td>0.380000</td>\n",
       "      <td>28560.000000</td>\n",
       "      <td>-84.485400</td>\n",
       "      <td>5.000000</td>\n",
       "      <td>58.807500</td>\n",
       "      <td>86767.750000</td>\n",
       "    </tr>\n",
       "    <tr>\n",
       "      <th>50%</th>\n",
       "      <td>21164.500000</td>\n",
       "      <td>0.050000</td>\n",
       "      <td>20.990000</td>\n",
       "      <td>6.150000</td>\n",
       "      <td>1738.000000</td>\n",
       "      <td>0.525000</td>\n",
       "      <td>48765.500000</td>\n",
       "      <td>1.476450</td>\n",
       "      <td>10.000000</td>\n",
       "      <td>202.395000</td>\n",
       "      <td>88376.000000</td>\n",
       "    </tr>\n",
       "    <tr>\n",
       "      <th>75%</th>\n",
       "      <td>23483.250000</td>\n",
       "      <td>0.080000</td>\n",
       "      <td>100.972500</td>\n",
       "      <td>14.362500</td>\n",
       "      <td>2578.250000</td>\n",
       "      <td>0.590000</td>\n",
       "      <td>78550.000000</td>\n",
       "      <td>116.201575</td>\n",
       "      <td>16.000000</td>\n",
       "      <td>802.945000</td>\n",
       "      <td>89957.000000</td>\n",
       "    </tr>\n",
       "    <tr>\n",
       "      <th>max</th>\n",
       "      <td>26389.000000</td>\n",
       "      <td>0.210000</td>\n",
       "      <td>6783.020000</td>\n",
       "      <td>164.730000</td>\n",
       "      <td>3403.000000</td>\n",
       "      <td>0.850000</td>\n",
       "      <td>99362.000000</td>\n",
       "      <td>9228.225600</td>\n",
       "      <td>167.000000</td>\n",
       "      <td>45737.330000</td>\n",
       "      <td>91586.000000</td>\n",
       "    </tr>\n",
       "  </tbody>\n",
       "</table>\n",
       "</div>"
      ],
      "text/plain": [
       "             Row ID     Discount   Unit Price  Shipping Cost  Customer ID  \\\n",
       "count   1952.000000  1952.000000  1952.000000    1952.000000  1952.000000   \n",
       "mean   19916.479508     0.048975   109.079221      12.968151  1735.376537   \n",
       "std     5957.595627     0.031378   393.481301      17.414631   991.078006   \n",
       "min       64.000000     0.000000     1.140000       0.490000     3.000000   \n",
       "25%    19121.000000     0.020000     6.480000       3.230000   875.000000   \n",
       "50%    21164.500000     0.050000    20.990000       6.150000  1738.000000   \n",
       "75%    23483.250000     0.080000   100.972500      14.362500  2578.250000   \n",
       "max    26389.000000     0.210000  6783.020000     164.730000  3403.000000   \n",
       "\n",
       "       Product Base Margin   Postal Code        Profit  Quantity ordered new  \\\n",
       "count          1936.000000   1952.000000   1952.000000           1952.000000   \n",
       "mean              0.515186  51534.769467    114.793859             12.944672   \n",
       "std               0.137055  29362.828420   1141.112387             13.871565   \n",
       "min               0.350000   1001.000000 -16476.838000              1.000000   \n",
       "25%               0.380000  28560.000000    -84.485400              5.000000   \n",
       "50%               0.525000  48765.500000      1.476450             10.000000   \n",
       "75%               0.590000  78550.000000    116.201575             16.000000   \n",
       "max               0.850000  99362.000000   9228.225600            167.000000   \n",
       "\n",
       "              Sales      Order ID  \n",
       "count   1952.000000   1952.000000  \n",
       "mean     985.828832  82365.924180  \n",
       "std     2559.900167  19042.295798  \n",
       "min        2.250000    359.000000  \n",
       "25%       58.807500  86767.750000  \n",
       "50%      202.395000  88376.000000  \n",
       "75%      802.945000  89957.000000  \n",
       "max    45737.330000  91586.000000  "
      ]
     },
     "execution_count": 9,
     "metadata": {},
     "output_type": "execute_result"
    }
   ],
   "source": [
    "df1.describe()"
   ]
  },
  {
   "cell_type": "markdown",
   "id": "06f2f777",
   "metadata": {},
   "source": [
    "---------\n",
    "\n",
    "####\n",
    "\n",
    "### this provid important information about numerical data in data set\n",
    "\n",
    "like:\n",
    "##### 1.min value\n",
    "##### 2.max value\n",
    "##### 3.mean value\n",
    "    \n",
    "####    \n",
    "\n",
    "---------"
   ]
  },
  {
   "cell_type": "code",
   "execution_count": 10,
   "id": "70866c75",
   "metadata": {},
   "outputs": [
    {
     "data": {
      "text/plain": [
       "Row ID                   0\n",
       "Order Priority           0\n",
       "Discount                 0\n",
       "Unit Price               0\n",
       "Shipping Cost            0\n",
       "Customer ID              0\n",
       "Customer Name            0\n",
       "Ship Mode                0\n",
       "Customer Segment         0\n",
       "Product Category         0\n",
       "Product Sub-Category     0\n",
       "Product Container        0\n",
       "Product Name             0\n",
       "Product Base Margin     16\n",
       "Country                  0\n",
       "Region                   0\n",
       "State or Province        0\n",
       "City                     0\n",
       "Postal Code              0\n",
       "Order Date               0\n",
       "Ship Date                0\n",
       "Profit                   0\n",
       "Quantity ordered new     0\n",
       "Sales                    0\n",
       "Order ID                 0\n",
       "dtype: int64"
      ]
     },
     "execution_count": 10,
     "metadata": {},
     "output_type": "execute_result"
    }
   ],
   "source": [
    "df1.isnull().sum()"
   ]
  },
  {
   "cell_type": "code",
   "execution_count": 11,
   "id": "55c58e13",
   "metadata": {},
   "outputs": [
    {
     "name": "stdout",
     "output_type": "stream",
     "text": [
      "percent of missing data in Product Base Margin: 0.819672131147541\n"
     ]
    }
   ],
   "source": [
    "a=df1[\"Product Base Margin\"].isnull().sum()\n",
    "b=df1.shape[0]\n",
    "per=(a/b)*100\n",
    "print(\"percent of missing data in Product Base Margin:\",per)"
   ]
  },
  {
   "cell_type": "markdown",
   "id": "58c0ced9",
   "metadata": {},
   "source": [
    "---------\n",
    "\n",
    "####\n",
    "\n",
    "#### percent of missing data in Product Base Margin: 0.819672131147541 %.which is less than 1% so it do not create problem because it's value is very small\n",
    "\n",
    "####\n",
    "\n",
    "---------"
   ]
  },
  {
   "cell_type": "code",
   "execution_count": 12,
   "id": "d0d023c7",
   "metadata": {},
   "outputs": [],
   "source": [
    "df1[\"Product Base Margin\"].fillna(df1[\"Product Base Margin\"].mean(),inplace=True)"
   ]
  },
  {
   "cell_type": "markdown",
   "id": "d1ea5503",
   "metadata": {},
   "source": [
    "-------\n",
    "\n",
    "#####\n",
    "\n",
    "####  For better analisis we fill the nan values of Product Base Margin by mean value of Product Base Margin\n",
    "\n",
    "####\n",
    "\n",
    "-----"
   ]
  },
  {
   "cell_type": "code",
   "execution_count": 13,
   "id": "c3999900",
   "metadata": {},
   "outputs": [
    {
     "data": {
      "text/plain": [
       "Row ID                  0\n",
       "Order Priority          0\n",
       "Discount                0\n",
       "Unit Price              0\n",
       "Shipping Cost           0\n",
       "Customer ID             0\n",
       "Customer Name           0\n",
       "Ship Mode               0\n",
       "Customer Segment        0\n",
       "Product Category        0\n",
       "Product Sub-Category    0\n",
       "Product Container       0\n",
       "Product Name            0\n",
       "Product Base Margin     0\n",
       "Country                 0\n",
       "Region                  0\n",
       "State or Province       0\n",
       "City                    0\n",
       "Postal Code             0\n",
       "Order Date              0\n",
       "Ship Date               0\n",
       "Profit                  0\n",
       "Quantity ordered new    0\n",
       "Sales                   0\n",
       "Order ID                0\n",
       "dtype: int64"
      ]
     },
     "execution_count": 13,
     "metadata": {},
     "output_type": "execute_result"
    }
   ],
   "source": [
    "df1.isnull().sum()"
   ]
  },
  {
   "cell_type": "markdown",
   "id": "c484cadb",
   "metadata": {},
   "source": [
    "--------------\n",
    "\n",
    "### Now we draw heat map chart on null value\n",
    "\n",
    "--------------"
   ]
  },
  {
   "cell_type": "code",
   "execution_count": 14,
   "id": "9a7753b7",
   "metadata": {},
   "outputs": [
    {
     "data": {
      "text/plain": [
       "<AxesSubplot:>"
      ]
     },
     "execution_count": 14,
     "metadata": {},
     "output_type": "execute_result"
    },
    {
     "data": {
      "image/png": "[encoded data removed]",
      "text/plain": [
       "<Figure size 432x288 with 2 Axes>"
      ]
     },
     "metadata": {
      "needs_background": "light"
     },
     "output_type": "display_data"
    }
   ],
   "source": [
    "sns.heatmap(df1.isnull())"
   ]
  },
  {
   "cell_type": "markdown",
   "id": "86d797fc",
   "metadata": {},
   "source": [
    "-----------\n",
    "\n",
    "#### In heatmap chart we clearly see that now data is missing\n",
    "\n",
    "-----------"
   ]
  },
  {
   "cell_type": "markdown",
   "id": "ed6c3343",
   "metadata": {},
   "source": [
    "##\n",
    "\n",
    "-----------\n",
    "### here we find a correlation between columns of the data and draw a heatmap on the correlation.\n",
    "-----------\n",
    "\n",
    "##"
   ]
  },
  {
   "cell_type": "code",
   "execution_count": 15,
   "id": "889e0d04",
   "metadata": {},
   "outputs": [
    {
     "data": {
      "text/html": [
       "<div>\n",
       "<style scoped>\n",
       "    .dataframe tbody tr th:only-of-type {\n",
       "        vertical-align: middle;\n",
       "    }\n",
       "\n",
       "    .dataframe tbody tr th {\n",
       "        vertical-align: top;\n",
       "    }\n",
       "\n",
       "    .dataframe thead th {\n",
       "        text-align: right;\n",
       "    }\n",
       "</style>\n",
       "<table border=\"1\" class=\"dataframe\">\n",
       "  <thead>\n",
       "    <tr style=\"text-align: right;\">\n",
       "      <th></th>\n",
       "      <th>Row ID</th>\n",
       "      <th>Discount</th>\n",
       "      <th>Unit Price</th>\n",
       "      <th>Shipping Cost</th>\n",
       "      <th>Customer ID</th>\n",
       "      <th>Product Base Margin</th>\n",
       "      <th>Postal Code</th>\n",
       "      <th>Profit</th>\n",
       "      <th>Quantity ordered new</th>\n",
       "      <th>Sales</th>\n",
       "      <th>Order ID</th>\n",
       "    </tr>\n",
       "  </thead>\n",
       "  <tbody>\n",
       "    <tr>\n",
       "      <th>Row ID</th>\n",
       "      <td>1.000000</td>\n",
       "      <td>0.018215</td>\n",
       "      <td>-0.004427</td>\n",
       "      <td>-0.016027</td>\n",
       "      <td>0.064071</td>\n",
       "      <td>0.000136</td>\n",
       "      <td>0.033578</td>\n",
       "      <td>-0.038468</td>\n",
       "      <td>-0.568939</td>\n",
       "      <td>-0.258827</td>\n",
       "      <td>0.918497</td>\n",
       "    </tr>\n",
       "    <tr>\n",
       "      <th>Discount</th>\n",
       "      <td>0.018215</td>\n",
       "      <td>1.000000</td>\n",
       "      <td>-0.008202</td>\n",
       "      <td>0.039908</td>\n",
       "      <td>0.014534</td>\n",
       "      <td>0.018557</td>\n",
       "      <td>-0.025247</td>\n",
       "      <td>-0.061821</td>\n",
       "      <td>-0.009398</td>\n",
       "      <td>-0.030287</td>\n",
       "      <td>0.016719</td>\n",
       "    </tr>\n",
       "    <tr>\n",
       "      <th>Unit Price</th>\n",
       "      <td>-0.004427</td>\n",
       "      <td>-0.008202</td>\n",
       "      <td>1.000000</td>\n",
       "      <td>0.198793</td>\n",
       "      <td>-0.008717</td>\n",
       "      <td>0.029066</td>\n",
       "      <td>0.016086</td>\n",
       "      <td>-0.182067</td>\n",
       "      <td>-0.072472</td>\n",
       "      <td>0.443509</td>\n",
       "      <td>0.003292</td>\n",
       "    </tr>\n",
       "    <tr>\n",
       "      <th>Shipping Cost</th>\n",
       "      <td>-0.016027</td>\n",
       "      <td>0.039908</td>\n",
       "      <td>0.198793</td>\n",
       "      <td>1.000000</td>\n",
       "      <td>-0.016805</td>\n",
       "      <td>0.357878</td>\n",
       "      <td>-0.033903</td>\n",
       "      <td>0.002177</td>\n",
       "      <td>-0.009735</td>\n",
       "      <td>0.322133</td>\n",
       "      <td>-0.014691</td>\n",
       "    </tr>\n",
       "    <tr>\n",
       "      <th>Customer ID</th>\n",
       "      <td>0.064071</td>\n",
       "      <td>0.014534</td>\n",
       "      <td>-0.008717</td>\n",
       "      <td>-0.016805</td>\n",
       "      <td>1.000000</td>\n",
       "      <td>-0.032905</td>\n",
       "      <td>-0.096491</td>\n",
       "      <td>0.008852</td>\n",
       "      <td>-0.027582</td>\n",
       "      <td>-0.015412</td>\n",
       "      <td>0.069118</td>\n",
       "    </tr>\n",
       "    <tr>\n",
       "      <th>Product Base Margin</th>\n",
       "      <td>0.000136</td>\n",
       "      <td>0.018557</td>\n",
       "      <td>0.029066</td>\n",
       "      <td>0.357878</td>\n",
       "      <td>-0.032905</td>\n",
       "      <td>1.000000</td>\n",
       "      <td>0.002912</td>\n",
       "      <td>-0.059031</td>\n",
       "      <td>0.002575</td>\n",
       "      <td>0.105380</td>\n",
       "      <td>0.009367</td>\n",
       "    </tr>\n",
       "    <tr>\n",
       "      <th>Postal Code</th>\n",
       "      <td>0.033578</td>\n",
       "      <td>-0.025247</td>\n",
       "      <td>0.016086</td>\n",
       "      <td>-0.033903</td>\n",
       "      <td>-0.096491</td>\n",
       "      <td>0.002912</td>\n",
       "      <td>1.000000</td>\n",
       "      <td>0.033033</td>\n",
       "      <td>-0.015628</td>\n",
       "      <td>-0.019699</td>\n",
       "      <td>0.052141</td>\n",
       "    </tr>\n",
       "    <tr>\n",
       "      <th>Profit</th>\n",
       "      <td>-0.038468</td>\n",
       "      <td>-0.061821</td>\n",
       "      <td>-0.182067</td>\n",
       "      <td>0.002177</td>\n",
       "      <td>0.008852</td>\n",
       "      <td>-0.059031</td>\n",
       "      <td>0.033033</td>\n",
       "      <td>1.000000</td>\n",
       "      <td>0.118363</td>\n",
       "      <td>0.364258</td>\n",
       "      <td>-0.031008</td>\n",
       "    </tr>\n",
       "    <tr>\n",
       "      <th>Quantity ordered new</th>\n",
       "      <td>-0.568939</td>\n",
       "      <td>-0.009398</td>\n",
       "      <td>-0.072472</td>\n",
       "      <td>-0.009735</td>\n",
       "      <td>-0.027582</td>\n",
       "      <td>0.002575</td>\n",
       "      <td>-0.015628</td>\n",
       "      <td>0.118363</td>\n",
       "      <td>1.000000</td>\n",
       "      <td>0.303099</td>\n",
       "      <td>-0.589746</td>\n",
       "    </tr>\n",
       "    <tr>\n",
       "      <th>Sales</th>\n",
       "      <td>-0.258827</td>\n",
       "      <td>-0.030287</td>\n",
       "      <td>0.443509</td>\n",
       "      <td>0.322133</td>\n",
       "      <td>-0.015412</td>\n",
       "      <td>0.105380</td>\n",
       "      <td>-0.019699</td>\n",
       "      <td>0.364258</td>\n",
       "      <td>0.303099</td>\n",
       "      <td>1.000000</td>\n",
       "      <td>-0.270939</td>\n",
       "    </tr>\n",
       "    <tr>\n",
       "      <th>Order ID</th>\n",
       "      <td>0.918497</td>\n",
       "      <td>0.016719</td>\n",
       "      <td>0.003292</td>\n",
       "      <td>-0.014691</td>\n",
       "      <td>0.069118</td>\n",
       "      <td>0.009367</td>\n",
       "      <td>0.052141</td>\n",
       "      <td>-0.031008</td>\n",
       "      <td>-0.589746</td>\n",
       "      <td>-0.270939</td>\n",
       "      <td>1.000000</td>\n",
       "    </tr>\n",
       "  </tbody>\n",
       "</table>\n",
       "</div>"
      ],
      "text/plain": [
       "                        Row ID  Discount  Unit Price  Shipping Cost  \\\n",
       "Row ID                1.000000  0.018215   -0.004427      -0.016027   \n",
       "Discount              0.018215  1.000000   -0.008202       0.039908   \n",
       "Unit Price           -0.004427 -0.008202    1.000000       0.198793   \n",
       "Shipping Cost        -0.016027  0.039908    0.198793       1.000000   \n",
       "Customer ID           0.064071  0.014534   -0.008717      -0.016805   \n",
       "Product Base Margin   0.000136  0.018557    0.029066       0.357878   \n",
       "Postal Code           0.033578 -0.025247    0.016086      -0.033903   \n",
       "Profit               -0.038468 -0.061821   -0.182067       0.002177   \n",
       "Quantity ordered new -0.568939 -0.009398   -0.072472      -0.009735   \n",
       "Sales                -0.258827 -0.030287    0.443509       0.322133   \n",
       "Order ID              0.918497  0.016719    0.003292      -0.014691   \n",
       "\n",
       "                      Customer ID  Product Base Margin  Postal Code    Profit  \\\n",
       "Row ID                   0.064071             0.000136     0.033578 -0.038468   \n",
       "Discount                 0.014534             0.018557    -0.025247 -0.061821   \n",
       "Unit Price              -0.008717             0.029066     0.016086 -0.182067   \n",
       "Shipping Cost           -0.016805             0.357878    -0.033903  0.002177   \n",
       "Customer ID              1.000000            -0.032905    -0.096491  0.008852   \n",
       "Product Base Margin     -0.032905             1.000000     0.002912 -0.059031   \n",
       "Postal Code             -0.096491             0.002912     1.000000  0.033033   \n",
       "Profit                   0.008852            -0.059031     0.033033  1.000000   \n",
       "Quantity ordered new    -0.027582             0.002575    -0.015628  0.118363   \n",
       "Sales                   -0.015412             0.105380    -0.019699  0.364258   \n",
       "Order ID                 0.069118             0.009367     0.052141 -0.031008   \n",
       "\n",
       "                      Quantity ordered new     Sales  Order ID  \n",
       "Row ID                           -0.568939 -0.258827  0.918497  \n",
       "Discount                         -0.009398 -0.030287  0.016719  \n",
       "Unit Price                       -0.072472  0.443509  0.003292  \n",
       "Shipping Cost                    -0.009735  0.322133 -0.014691  \n",
       "Customer ID                      -0.027582 -0.015412  0.069118  \n",
       "Product Base Margin               0.002575  0.105380  0.009367  \n",
       "Postal Code                      -0.015628 -0.019699  0.052141  \n",
       "Profit                            0.118363  0.364258 -0.031008  \n",
       "Quantity ordered new              1.000000  0.303099 -0.589746  \n",
       "Sales                             0.303099  1.000000 -0.270939  \n",
       "Order ID                         -0.589746 -0.270939  1.000000  "
      ]
     },
     "execution_count": 15,
     "metadata": {},
     "output_type": "execute_result"
    }
   ],
   "source": [
    "df1.corr()"
   ]
  },
  {
   "cell_type": "code",
   "execution_count": 16,
   "id": "122cdbd5",
   "metadata": {},
   "outputs": [
    {
     "data": {
      "text/plain": [
       "<AxesSubplot:>"
      ]
     },
     "execution_count": 16,
     "metadata": {},
     "output_type": "execute_result"
    },
    {
     "data": {
      "image/png": "[encoded data removed]",
      "text/plain": [
       "<Figure size 432x288 with 2 Axes>"
      ]
     },
     "metadata": {
      "needs_background": "light"
     },
     "output_type": "display_data"
    }
   ],
   "source": [
    "sns.heatmap(df1.corr(),annot=True)"
   ]
  },
  {
   "cell_type": "markdown",
   "id": "86952595",
   "metadata": {},
   "source": [
    "## Now observe each columns individually."
   ]
  },
  {
   "cell_type": "markdown",
   "id": "1543bb4b",
   "metadata": {},
   "source": [
    "---------\n",
    "---------\n",
    "\n",
    "## How we find number of unique value of the follwing column \n",
    " \n",
    "#### 1.Country  \n",
    "#### 2.Region                   \n",
    "#### 3.State or Province       \n",
    "#### 4.City                          \n",
    "#### 5.Postal Code    \n",
    "\n",
    "---------\n",
    "---------"
   ]
  },
  {
   "cell_type": "code",
   "execution_count": 17,
   "id": "38ca32ff",
   "metadata": {},
   "outputs": [
    {
     "data": {
      "text/plain": [
       "1"
      ]
     },
     "execution_count": 17,
     "metadata": {},
     "output_type": "execute_result"
    }
   ],
   "source": [
    "df1[\"Country\"].nunique()"
   ]
  },
  {
   "cell_type": "code",
   "execution_count": 18,
   "id": "b95026e2",
   "metadata": {},
   "outputs": [
    {
     "data": {
      "text/plain": [
       "4"
      ]
     },
     "execution_count": 18,
     "metadata": {},
     "output_type": "execute_result"
    }
   ],
   "source": [
    "df1[\"Region\"].nunique()"
   ]
  },
  {
   "cell_type": "code",
   "execution_count": 19,
   "id": "c21152f3",
   "metadata": {},
   "outputs": [
    {
     "data": {
      "text/plain": [
       "49"
      ]
     },
     "execution_count": 19,
     "metadata": {},
     "output_type": "execute_result"
    }
   ],
   "source": [
    "df1[\"State or Province\"].nunique()"
   ]
  },
  {
   "cell_type": "code",
   "execution_count": 20,
   "id": "6d035a4d",
   "metadata": {},
   "outputs": [
    {
     "data": {
      "text/plain": [
       "869"
      ]
     },
     "execution_count": 20,
     "metadata": {},
     "output_type": "execute_result"
    }
   ],
   "source": [
    "df1[\"City\"].nunique()"
   ]
  },
  {
   "cell_type": "code",
   "execution_count": 21,
   "id": "8492d7de",
   "metadata": {},
   "outputs": [
    {
     "data": {
      "text/plain": [
       "981"
      ]
     },
     "execution_count": 21,
     "metadata": {},
     "output_type": "execute_result"
    }
   ],
   "source": [
    "df1[\"Postal Code\"].nunique()"
   ]
  },
  {
   "cell_type": "code",
   "execution_count": 22,
   "id": "9573039c",
   "metadata": {},
   "outputs": [
    {
     "data": {
      "text/plain": [
       "array(['West', 'East', 'Central', 'South'], dtype=object)"
      ]
     },
     "execution_count": 22,
     "metadata": {},
     "output_type": "execute_result"
    }
   ],
   "source": [
    "df1[\"Region\"].unique()"
   ]
  },
  {
   "cell_type": "code",
   "execution_count": 23,
   "id": "ad8e47d4",
   "metadata": {},
   "outputs": [
    {
     "data": {
      "text/plain": [
       "array(['United States'], dtype=object)"
      ]
     },
     "execution_count": 23,
     "metadata": {},
     "output_type": "execute_result"
    }
   ],
   "source": [
    "df1[\"Country\"].unique()"
   ]
  },
  {
   "cell_type": "code",
   "execution_count": 24,
   "id": "36121cfe",
   "metadata": {},
   "outputs": [
    {
     "data": {
      "text/plain": [
       "array(['Washington', 'California', 'New Jersey', 'Minnesota', 'New York',\n",
       "       'Montana', 'Oregon', 'Texas', 'Virginia', 'Vermont', 'Ohio',\n",
       "       'Louisiana', 'Illinois', 'Kansas', 'Maine', 'Massachusetts',\n",
       "       'New Hampshire', 'Utah', 'Connecticut', 'Pennsylvania',\n",
       "       'Tennessee', 'Colorado', 'Michigan', 'Oklahoma', 'North Carolina',\n",
       "       'Iowa', 'Florida', 'New Mexico', 'Arizona', 'Georgia', 'Maryland',\n",
       "       'Rhode Island', 'Nebraska', 'Missouri', 'Nevada', 'Kentucky',\n",
       "       'West Virginia', 'Mississippi', 'Indiana', 'South Carolina',\n",
       "       'Arkansas', 'District of Columbia', 'Delaware', 'Alabama', 'Idaho',\n",
       "       'Wisconsin', 'South Dakota', 'Wyoming', 'North Dakota'],\n",
       "      dtype=object)"
      ]
     },
     "execution_count": 24,
     "metadata": {},
     "output_type": "execute_result"
    }
   ],
   "source": [
    "df1[\"State or Province\"].unique()"
   ]
  },
  {
   "cell_type": "code",
   "execution_count": 25,
   "id": "ba8a743d",
   "metadata": {},
   "outputs": [
    {
     "data": {
      "text/plain": [
       "array(['Anacortes', 'San Gabriel', 'Roselle', 'Prior Lake', 'Smithtown',\n",
       "       'Syracuse', 'Helena', 'Missoula', 'New York City', 'Laguna Niguel',\n",
       "       'Lakewood', 'Grants Pass', 'Gresham', 'Redmond', 'Puyallup',\n",
       "       'Tonawanda', 'Round Rock', 'Salem', 'Napa', 'Burlington', 'Canton',\n",
       "       'Cincinnati', 'Vacaville', 'Vallejo', 'Terrytown', 'Chicago',\n",
       "       'Manhattan', 'Biddeford', 'Boston', 'Dover', 'Lodi', 'Lake Oswego',\n",
       "       'Mcminnville', 'Seattle', 'Layton', 'Tysons Corner', 'Alton',\n",
       "       'Petaluma', 'Ansonia', 'Yarmouth', 'West Mifflin', 'Watauga',\n",
       "       'Kingsport', 'Knoxville', 'Fort Collins', 'Richland', 'Lebanon',\n",
       "       'Baton Rouge', 'Fort Lee', 'San Francisco', 'Arlington',\n",
       "       'Gainesville', 'Arlington Heights', 'Aurora', 'Lehi',\n",
       "       'Overland Park', 'Detroit', 'Bartlesville', 'Troy', 'Utica',\n",
       "       'Murray', 'Mint Hill', 'Orland Park', 'Newton', 'Louisville',\n",
       "       'Fountain', 'Grand Junction', 'Maryville', 'Richfield',\n",
       "       'Highlands Ranch', 'Hanover', 'Seminole', 'Santa Fe',\n",
       "       'Cleveland Heights', 'San Antonio', 'Flagstaff', 'Gilbert',\n",
       "       'Forest Park', 'Charlotte', 'Fairfield', 'Newington', 'Belleville',\n",
       "       'Newark', 'Shawnee', 'Wichita', 'Loveland', 'Pikesville',\n",
       "       'Belchertown', 'Lemon Grove', 'Potomac', 'Batavia', 'Sanford',\n",
       "       'Goffstown', 'Medford', 'Columbus', 'Miami', 'Bangor', 'Portland',\n",
       "       'Watertown', 'Glendale', 'Kingman', 'King of Prussia', 'Cranston',\n",
       "       'Oakland', 'Lewiston', 'Everett', 'Morristown', 'Bloomington',\n",
       "       'Drexel Hill', 'Grand Island', 'Kearney', 'Lincoln', 'Clayton',\n",
       "       'Auburn', 'Albemarle', 'Cuyahoga Falls', 'Dayton',\n",
       "       'South Vineland', 'San Juan', 'Elizabeth', 'Carson City',\n",
       "       'Lunenburg', 'Urbana', 'Norfolk', 'Roseville', 'Los Altos',\n",
       "       'Los Banos', 'Los Gatos', 'Millville', 'West Hollywood',\n",
       "       'Bellingham', 'Beverly', 'Hanson', 'Hawthorne', 'Trenton',\n",
       "       'Atlanta', 'Randallstown', 'Oswego', 'Fresno', 'South Portland',\n",
       "       'Norwood', 'Seatac', 'Murfreesboro', 'Bowling Green', 'Covington',\n",
       "       'Manteca', 'Farragut', 'Mesa', 'Montclair', 'Vernon Hills',\n",
       "       'Morgantown', 'Roswell', 'Seguin', 'Sherman', 'Los Angeles',\n",
       "       'Pleasant Grove', 'Provo', 'Henderson', 'Pekin', 'Pomona',\n",
       "       'Naugatuck', 'Seymour', 'Woburn', 'Concord', 'Wilmette',\n",
       "       'Woodridge', 'Anderson', 'Carmel', 'Reisterstown', 'Pueblo',\n",
       "       'West Islip', 'Pueblo West', 'Southgate', 'Manchester', 'Rutland',\n",
       "       'Steubenville', 'Saint Paul', 'Santa Clara', 'Santa Cruz',\n",
       "       'Santa Maria', 'Shakopee', 'Bolingbrook', 'Buffalo Grove',\n",
       "       'Las Vegas', 'Rancho Cucamonga', 'Oxford', 'South Burlington',\n",
       "       'Nashville', 'Dallas', 'Ottumwa', 'Raytown', 'Rose Hill',\n",
       "       'Spanaway', 'Spokane', 'Papillion', 'Saint Louis', 'Saint Peters',\n",
       "       'Tacoma', 'Thornton', 'Crown Point', 'East Chicago', 'Santa Rosa',\n",
       "       'Winthrop', 'Pahrump', 'Frankfort', 'Stratford', 'Bloomfield',\n",
       "       'Cranford', 'Summit', 'Oro Valley', 'Peoria', 'Florence',\n",
       "       'Georgetown', 'Prescott', 'Prescott Valley', 'Tualatin', 'Quincy',\n",
       "       'Vancouver', 'Rock Island', 'West Linn', 'Allentown', 'Whittier',\n",
       "       'Bristol', 'Mission Viejo', 'Mustang', 'Roy', 'Hilton Head Island',\n",
       "       'New Smyrna Beach', 'Walla Walla', 'Smyrna', 'Spring Hill',\n",
       "       'Abilene', 'Amarillo', 'Texarkana', 'Wheat Ridge', 'Gilroy',\n",
       "       'Goleta', 'Hacienda Heights', 'Hesperia', 'Branford', 'Danbury',\n",
       "       'Shoreview', 'Reno', 'Salt Lake City', 'Scottsdale', 'Bedford',\n",
       "       'Washington', 'Denton', 'Altoona', 'Wilmington', 'Wheeling',\n",
       "       'Bryan', 'Burleson', 'Redding', 'Redlands', 'Augusta',\n",
       "       'Old Bridge', 'Redondo Beach', 'New Milford', 'Saratoga',\n",
       "       'Bayonne', 'Highland Village', 'Redwood City', 'Riverside',\n",
       "       'Searcy', 'Oxnard', 'West Scarborough', 'Ridgewood', 'Bennington',\n",
       "       'Gorham', 'Saco', 'Bryant', 'Apex', 'Asheville', 'Cary',\n",
       "       'Pittsburg', 'Wilkinsburg', 'Central Islip', 'Cheektowaga',\n",
       "       'Commack', 'Delaware', 'Dublin', 'Belle Glade', 'Woodland',\n",
       "       'Yuba City', 'Surprise', 'Coram', 'Burbank', 'Calumet City',\n",
       "       'Carbondale', 'Bethlehem', 'Romeoville', 'Saint Charles',\n",
       "       'Springfield', 'Deer Park', 'Dix Hills', 'Omaha', 'Lake Jackson',\n",
       "       'Lancaster', 'Laredo', 'Yucaipa', 'Arvada', 'Tucson', 'Temecula',\n",
       "       'Norwich', 'Eagle Pass', 'Edinburg', 'El Paso', 'Euless',\n",
       "       'Farmers Branch', 'Carol Stream', 'The Colony', 'Waco',\n",
       "       'South Hadley', 'Montebello', 'Tewksbury', 'Union City',\n",
       "       'Altamonte Springs', 'Spanish Fork', 'Springville', 'Madison',\n",
       "       'Huntington Beach', 'New Britain', 'Immokalee', 'Sudbury',\n",
       "       'Nashua', 'Elmwood Park', 'South Orange', 'Fort Wayne', 'Gary',\n",
       "       'Granger', 'Pawtucket', 'Philadelphia', 'Sulphur Springs',\n",
       "       'Flower Mound', 'Carrollton', 'Cedar Hill', 'Leander',\n",
       "       'Carpentersville', 'Cedar Park', 'Channelview', 'Danville',\n",
       "       'Broomfield', 'Altus', 'Boca Raton', 'La Mesa', 'Hammond',\n",
       "       'Vincennes', 'Tooele', 'West Jordan', 'West Valley City',\n",
       "       'Coos Bay', 'Colorado Springs', 'Commerce City', 'Chambersburg',\n",
       "       'Brandon', 'Carol City', 'Coconut Creek', 'Camp Springs',\n",
       "       'Weatherford', 'Weslaco', 'Muscatine', 'Allen Park', 'Casselberry',\n",
       "       'Lubbock', 'Lufkin', 'Mansfield', 'Stockton', 'Portsmouth',\n",
       "       'Alexandria', 'Menlo Park', 'Sunnyvale', 'Battle Creek',\n",
       "       'Moreno Valley', 'Mountain View', 'Indianapolis', 'Kokomo',\n",
       "       'Lafayette', 'Englewood', 'Bay City', 'Jeffersonville', 'Elyria',\n",
       "       'Euclid', 'South Lake Tahoe', 'Taylors', 'Clearfield',\n",
       "       'Westerville', 'Westlake', 'Wooster', 'Des Plaines',\n",
       "       'Downers Grove', 'Ozark', 'Dundalk', 'Elmira', 'Coral Gables',\n",
       "       'Coral Springs', 'College Station', 'Muncie', 'Hopkins',\n",
       "       'Birmingham', 'Decatur', 'Eden', 'Palm Coast', 'University City',\n",
       "       'Richmond', 'Biloxi', 'Clinton', 'Greenville', 'Gulfport',\n",
       "       'Annandale', 'Blacksburg', 'Fayetteville', 'Waterville',\n",
       "       'Willoughby', 'Huntington', 'Waldorf', 'Woodmere',\n",
       "       'Franklin Square', 'Freeport', 'Sacramento', 'Hopkinton',\n",
       "       'Highland', 'Schererville', 'Glen Cove', 'Greeneville',\n",
       "       'Hattiesburg', 'Horn Lake', 'Jackson', 'Salinas', 'Stamford',\n",
       "       'Friendswood', 'Bethpage', 'Woodstock', 'Asheboro',\n",
       "       'Thousand Oaks', 'Laguna Hills', 'Burke', 'Charlottesville',\n",
       "       'Fairborn', 'Conroe', 'Elgin', 'Harrisburg', 'Reston',\n",
       "       'Hot Springs', 'Levittown', 'Meridian', 'Shaker Heights',\n",
       "       'Pottstown', 'Marietta', 'Martinez', 'Newnan', 'Garner',\n",
       "       'Northport', 'Jonesboro', 'San Diego', 'Hilliard', 'Kent',\n",
       "       'Kettering', 'Moscow', 'Harrison', 'Hempstead', 'Gastonia',\n",
       "       'Goldsboro', 'Enid', 'Lawton', 'Torrance', 'Dunedin',\n",
       "       'Creve Coeur', 'South Bend', 'Terre Haute', 'Valparaiso',\n",
       "       'West Lafayette', 'San Carlos', 'San Clemente', 'Galesburg',\n",
       "       'Parkersburg', 'Olive Branch', 'Pearl', 'Dearborn', 'Bettendorf',\n",
       "       'Cedar Falls', 'Cedar Rapids', 'Townsend', 'Enterprise',\n",
       "       'Carlsbad', 'Webster', 'Alamogordo', 'Palm Beach Gardens',\n",
       "       'Chesapeake', 'Linden', 'Barrington', 'Lima', 'Webster Groves',\n",
       "       'Appleton', 'Lorain', 'Peachtree City', 'Little Rock',\n",
       "       'North Little Rock', 'Paragould', 'Pine Bluff', 'Greer', 'Garland',\n",
       "       'Grand Prairie', 'Emporia', 'Draper', 'Mount Lebanon', 'Bozeman',\n",
       "       'Butte', 'Saginaw', 'Tupelo', 'Willow Grove', 'Dearborn Heights',\n",
       "       'East Lansing', 'Littleton', 'Midland', 'Holladay', 'Kearns',\n",
       "       'East Massapequa', 'Durango', 'Council Bluffs', 'Plum',\n",
       "       'Mount Vernon', 'Rogers', 'Liberal', 'Harrisonburg', 'Albuquerque',\n",
       "       'Hickory', 'High Point', 'North Platte', 'Mechanicsville',\n",
       "       'Newport News', 'Indian Trail', 'Fort Thomas', 'Eastpointe',\n",
       "       'Farmington Hills', 'Flint', 'Garden City', 'Ithaca', 'New City',\n",
       "       'Chico', 'Mount Pleasant', 'Myrtle Beach', 'Mehlville', 'Oakton',\n",
       "       'Sherwood', 'West Memphis', 'Sterling Heights', 'Gladstone',\n",
       "       'Hazelwood', 'Clovis', 'West Palm Beach', 'Fairfax',\n",
       "       'Fort Lauderdale', 'Dubuque', 'Warren', 'Westland', 'Sharon',\n",
       "       'Pasadena', 'Worcester', 'Owensboro', 'Independence', 'New Bern',\n",
       "       'Jamestown', 'Lindenhurst', 'Brooklyn Center', 'Brooklyn Park',\n",
       "       'Burnsville', 'Fort Dodge', 'College Park', 'Bowie', 'Catonsville',\n",
       "       'Massillon', 'Medina', 'Winter Garden', 'Hobbs', 'Lakeland',\n",
       "       'State College', 'Paducah', 'Raleigh', 'Rocky Mount', 'Rome',\n",
       "       'Joplin', 'Kansas City', 'Kirkwood', 'Land O Lakes', 'Mauldin',\n",
       "       'Harker Heights', 'Harlingen', 'Houston', 'Niagara Falls',\n",
       "       'Greensburg', 'Eau Claire', 'Fitchburg', 'Franklin', 'Rock Hill',\n",
       "       'Spartanburg', 'Summerville', 'Coon Rapids', 'Panama City',\n",
       "       'Lehigh Acres', 'Coachella', 'Marion', 'Green Bay', 'Greenfield',\n",
       "       'Cloverleaf', 'Pleasure Ridge Park', 'Crofton', 'Cumberland',\n",
       "       'Edgewood', 'Rock Springs', 'Fort Myers', 'Fruit Cove',\n",
       "       'Pembroke Pines', 'Duluth', 'Grand Rapids', 'Las Cruces',\n",
       "       'Oceanside', 'Sandy Springs', 'Savannah', 'Hanover Park',\n",
       "       'Petersburg', 'Huntsville', 'Hurst', 'Irving', 'Keller', 'Killeen',\n",
       "       'Midwest City', 'Moore', 'Muskego', 'Melbourne', 'Merritt Island',\n",
       "       'Edina', 'Janesville', 'Hoover', 'Mobile', 'Lino Lakes',\n",
       "       'Bossier City', 'Sault Sainte Marie', 'Salisbury', 'Joliet',\n",
       "       'Winter Haven', 'Statesboro', 'Tucker', 'Cabot', 'Costa Mesa',\n",
       "       'Kankakee', 'Lake In The Hills', 'Munster', 'Cheshire',\n",
       "       'Cambridge', 'Providence', 'Corsicana', 'Lake Charles',\n",
       "       'Apple Valley', 'Atascadero', 'Winter Park', 'Winter Springs',\n",
       "       'Virginia Beach', 'Whitehall', 'York', 'Kenosha', 'Ossining',\n",
       "       'Fridley', 'Davis', 'Opelika', 'Phenix City', 'Holland', 'Inkster',\n",
       "       'Manitowoc', 'Athens', 'Merrimack', 'Hackensack', 'Iselin',\n",
       "       'Fords', 'Portage', 'Aberdeen', 'Sioux Falls', 'Bartlett',\n",
       "       'Brentwood', 'Norman', 'Boise', 'Bakersfield', 'Baldwin', 'Derby',\n",
       "       'Rapid City', 'Winchester', 'Port Charlotte', 'Plainview',\n",
       "       'Clifton', 'Tuscaloosa', 'Vestavia Hills', 'Bullhead City',\n",
       "       'Pensacola', 'Ellicott City', 'Kalamazoo', 'Lansing', 'Dalton',\n",
       "       'Chattanooga', 'Clarksville', 'Caldwell', 'Chandler', 'Waynesboro',\n",
       "       'Waterbury', 'Lindenwold', 'Dunwoody', 'East Point',\n",
       "       'Franklin Park', 'Gaithersburg', 'Wilson', 'Woodburn', 'Metairie',\n",
       "       'Madison Heights', 'Marshalltown', 'Mason City', 'Sioux City',\n",
       "       'Pittsburgh', 'East Los Angeles', 'Cleveland', 'Oakville',\n",
       "       'North Las Vegas', 'El Centro', 'Inver Grove Heights', 'Tulsa',\n",
       "       'North Miami', 'Collierville', 'Columbia', 'Odessa', 'Des Moines',\n",
       "       'Hays', 'La Vista', 'Paris', 'Edmonds', 'Hialeah', 'North Olmsted',\n",
       "       'North Miami Beach', 'North Ridgeville', 'North Royalton', 'Parma',\n",
       "       'Livonia', 'Mankato', 'Maple Grove', 'Reynoldsburg',\n",
       "       'Garfield Heights', 'Grand Forks', 'Hagerstown', 'Laurel',\n",
       "       'Charleston', 'El Dorado Hills', 'Stoneham', 'Depew', 'Grove City',\n",
       "       'Maplewood', 'Milwaukee', 'Neenah', 'Van Buren', 'Middle River',\n",
       "       'Hollywood', 'New Berlin', 'Oak Creek', 'Dickinson', 'Sandusky',\n",
       "       'West Des Moines', 'Racine', 'Sheboygan', 'Oak Park', 'Pontiac',\n",
       "       'Port Huron', 'Coeur D Alene', 'Idaho Falls', 'Minnetonka Mills',\n",
       "       'Rochester', 'Encinitas', 'Lombard', 'Mandan', 'Hutchinson',\n",
       "       'Leavenworth', 'Leawood', 'Berkeley', 'Kirkland', 'Lacey',\n",
       "       'Austintown', 'Oakdale', 'Stow', 'Strongsville', 'Toledo',\n",
       "       'North Port', 'Hamilton', 'Shirley', 'Oakland Park', 'New Iberia',\n",
       "       'Orlando', 'New Orleans', 'Melrose Park', 'Moline',\n",
       "       'Mount Prospect', 'Shreveport', 'Mundelein', 'Naperville',\n",
       "       'Laconia', 'Londonderry', 'Pflugerville', 'Pharr', 'Post Falls',\n",
       "       'Rexburg', 'Twentynine Palms', 'Saint Petersburg',\n",
       "       'Ponte Vedra Beach', 'Port Orange', 'Port Saint Lucie',\n",
       "       'Jacksonville', 'Jupiter', 'Owatonna', 'Riverview',\n",
       "       'Stevens Point', 'Northbrook', 'Twin Falls', 'Beverly Hills',\n",
       "       'Addison', 'Sunrise', 'Tallahassee', 'Gallatin', 'Germantown',\n",
       "       'Hendersonville', 'Superior', 'Waukesha', 'Corvallis', 'Hudson',\n",
       "       'Slidell', 'Annapolis', 'Rotterdam', 'Tamarac', 'Longview',\n",
       "       'Lynnwood', 'Adrian', 'Eureka', 'North Plainfield', 'Kendall',\n",
       "       'Kissimmee', 'Herndon', 'Granite Bay', 'Lake Worth', 'New London',\n",
       "       'Agawam', 'Natick', 'Sandwich', 'El Mirage', 'Ormond Beach',\n",
       "       'Tampa', 'Titusville', 'Troutdale', 'Rochester Hills',\n",
       "       'Royal Palm Beach', 'Parkland', 'Pasco', 'Calexico', 'Camarillo',\n",
       "       'Eagle', 'Wauwatosa', 'West Allis', 'West Bend', 'Upper Arlington',\n",
       "       'Odenton', 'Kennesaw', 'La Grange', 'Macon', 'Boardman', 'Pullman',\n",
       "       'Fairmont', 'Cheyenne'], dtype=object)"
      ]
     },
     "execution_count": 25,
     "metadata": {},
     "output_type": "execute_result"
    }
   ],
   "source": [
    "df1[\"City\"].unique()"
   ]
  },
  {
   "cell_type": "code",
   "execution_count": 26,
   "id": "17b36edf",
   "metadata": {},
   "outputs": [
    {
     "data": {
      "text/plain": [
       "array([98221, 91776,  7203, 55372, 11787, 13210, 59601, 59801, 10012,\n",
       "       92677, 90712, 97526, 97030, 98052, 98373, 14150, 78664, 24153,\n",
       "       94559, 10177,  5401, 44708, 45231, 95687, 94591, 70056, 60601,\n",
       "       66502,  4005,  2129,  3820,  7644, 97035, 97128, 98103, 84041,\n",
       "       22102, 62002, 94952,  6401,  2664, 15122, 76148, 37664, 37918,\n",
       "       80525, 99352, 37087, 70802,  7024, 94122,  2474, 76240, 60004,\n",
       "       60505, 84043, 66212, 48138, 74006, 12180, 13501, 84107, 28227,\n",
       "       60462, 50208, 80027, 80817, 81503, 37804, 55423, 80126, 17331,\n",
       "       33772, 87505, 44106, 78207, 86001, 85234, 30297, 28204,  6824,\n",
       "        6111,  7109,  7101, 66203, 67212, 80538, 21208, 98115, 60130,\n",
       "        1007, 91945, 20854, 60510,  4073,  3045, 97504, 43229, 33181,\n",
       "        4401,  4101, 33132, 13601, 85301, 86401, 19406,  2910, 94601,\n",
       "        4240,  2149, 48234, 37814, 61701, 19026, 68801, 68847, 68502,\n",
       "       63105, 13021, 28001, 44221, 45406,  8360, 78589,  7201, 89701,\n",
       "        1462, 61801, 68701, 55113, 94024, 93635, 95032,  8332, 90069,\n",
       "        2019,  1915,  2341,  7506,  8601, 30318, 21133, 60543, 93727,\n",
       "        4106,  2062, 10154, 98158, 37130, 42104, 41011, 95336, 97756,\n",
       "       37922, 85204, 22025, 60061, 26501, 88201, 78155, 75090, 90008,\n",
       "       84062, 84604, 39701, 89015, 61554, 91767,  6770,  6478,  4210,\n",
       "        1801,  3301, 60091, 60517, 46016, 46032, 47201, 21136, 81001,\n",
       "       90045, 11795, 81007, 48195,  3101,  5701, 43952, 55106, 95051,\n",
       "       95062, 93454, 98119, 55379, 60440, 60089, 89115, 91730,  1540,\n",
       "        5403, 37211, 75203, 52501, 64133, 24281, 98387, 99207, 68046,\n",
       "       63116, 63376, 98408, 80229, 46307, 46312, 98105, 90041, 95404,\n",
       "        2152, 89041, 46041,  6614,  1803,  3079,  7003,  7016,  7901,\n",
       "       85737, 85345, 41042, 40324, 86301, 86314, 97062, 62301, 98661,\n",
       "       61201, 97068, 18103, 90604,  6010, 92691, 73064, 84067, 29915,\n",
       "       32168, 99362, 37167, 37174, 79605, 79109, 71854, 80033, 95020,\n",
       "       93117, 91745, 92345,  6405,  6810, 55126, 89502, 84106, 85254,\n",
       "       76021, 20024, 76201, 10039, 16602,  1887, 42420, 26003, 77803,\n",
       "       76028, 96003, 92374,  4330,  8857, 90278,  6776, 95070,  7002,\n",
       "       90049, 75067, 94061, 60610, 92503,  2108, 72143, 93030,  4070,\n",
       "        7450,  5201,  4038,  4072, 72022, 27502, 28806, 27511, 66762,\n",
       "       15221, 11722, 14225, 11725, 43015, 43017, 33430, 95695, 95991,\n",
       "       90004,  2109, 85374, 11727, 60459, 60409, 62901, 18018, 60441,\n",
       "       60174, 62701, 11729, 11746, 10282, 75220, 77566, 75146, 78041,\n",
       "       92399, 80004, 85705, 92592, 95661,  6360, 78852, 78539,  2118,\n",
       "       79907, 76039, 75234, 60188, 75056, 76706,  1075, 90640,  1876,\n",
       "        7086, 19711, 32701, 84660, 84663, 35756, 92646,  6050, 20016,\n",
       "       34142,  1776,  3060,  7407,  7079,  2920, 46806, 46404, 46530,\n",
       "        2112,  2861, 19140, 75482, 75028, 75007, 75104, 36830, 10009,\n",
       "       78641, 60110, 78613, 77530, 80013, 40422, 80020, 73521, 33433,\n",
       "       91941, 46324, 47591, 19134, 84074, 84084, 84120, 97420, 90058,\n",
       "       80906, 80022, 60623, 10170, 17201, 33511, 33055, 33063, 20746,\n",
       "       76086, 78596, 52761, 48101, 32707, 79424, 75901, 76063, 95207,\n",
       "        3801, 22304, 94025, 94086, 60653, 49017, 92553, 94043,  2113,\n",
       "       46203, 46901, 47905, 80112, 48708, 47130, 44035, 44117, 65807,\n",
       "       96150, 29687, 68601, 84015, 43081, 44145, 44691, 60016, 60516,\n",
       "       65721, 21222, 14901, 33134, 33065, 77840, 47302, 55305, 35211,\n",
       "       35601, 27288, 32137, 63130, 47374, 39530, 39056, 38701, 39503,\n",
       "       22003, 24060, 28314,  4901, 44094, 25705, 20601, 11598, 11010,\n",
       "       11520, 95823,  1748, 46322, 17602, 46375, 11542, 37743, 39401,\n",
       "       38637, 39212, 93905,  6901, 77546, 11714, 60098, 27203, 91360,\n",
       "       92653, 22015, 22901, 45324, 45014, 60611, 77301, 60123, 17112,\n",
       "       67114, 20190, 71901, 19057, 39301, 44118, 19464, 30062, 30907,\n",
       "       30265, 27529, 35473, 72401, 92037, 43026, 44240, 45429, 83843,\n",
       "       20012, 10528, 11550, 28052, 27534, 30305, 73703, 73505, 90503,\n",
       "       34698, 63141, 61032, 46614, 47802, 46383, 47906, 94070, 92672,\n",
       "       30188, 61401, 26101, 38654, 39208, 48187, 48126, 52722, 52601,\n",
       "       50613, 52402, 94110,  1469, 36330, 92008,  1570, 88310, 33403,\n",
       "       23320,  7036,  2806, 45801, 63119, 54915, 44052, 30269, 72209,\n",
       "       72113, 72450, 71603, 29611, 29651, 75043, 78626, 75051, 66801,\n",
       "       84020, 15228, 59715, 59750, 33916, 48601, 52732, 38801, 19090,\n",
       "       48127, 48823, 80122, 79701, 84117, 84118, 11758, 81301, 51503,\n",
       "       15239, 75401, 10550, 72756, 67901, 22801, 87105, 28601, 27260,\n",
       "       69101, 23111, 23602, 28079, 41075, 48021, 48336, 48505, 48135,\n",
       "       14853, 10956, 95928, 29464, 29577, 63129, 23518, 22124, 72116,\n",
       "       72301, 48310, 64118, 63042, 88101, 33407, 53094, 20151, 33311,\n",
       "       52001, 48093, 48185, 16146, 91104,  1610, 42301, 64055, 48227,\n",
       "       28560, 14701, 11756, 11757, 55420, 55429, 55445, 55337, 50501,\n",
       "       30337, 20715, 21228, 44646, 44256, 34787, 88240, 33801, 16801,\n",
       "       42003, 27604, 27801, 30161, 64804, 64130, 63122, 34639, 29662,\n",
       "       76543, 78550, 77036, 14304, 15601, 54703, 53713, 53132, 29730,\n",
       "       29301, 29483, 55433, 32404, 10011, 57201, 33971, 92236, 52302,\n",
       "       54302, 53220, 20740, 77015, 40258, 21114, 21501, 21040, 82901,\n",
       "       33917, 32259, 33024, 55803, 49505, 10024, 88001, 11572, 30076,\n",
       "       30328, 31401, 60103, 23805, 23701, 23223, 77340, 76053, 75061,\n",
       "       76248, 76541, 73110, 73160, 53150, 32935, 32953, 33142, 55410,\n",
       "       53545, 35244, 36608, 55014, 10035, 71111, 49783, 28144, 60432,\n",
       "       70506, 33881, 30458, 30084, 72023, 94521, 92627, 92024, 60901,\n",
       "       60102, 46321,  6408,  2138,  7631,  2908, 75109, 70601, 92307,\n",
       "       93422, 32789, 32708, 22153, 23464, 90068, 43213, 17403, 53142,\n",
       "       53711, 10562, 55432, 95616, 10165, 36801, 36869, 49423, 48141,\n",
       "       54220, 30605,  3054,  7601,  8830,  8863, 49002, 57401, 10004,\n",
       "       57103, 38134, 37027, 73071, 83704, 93309, 15234, 67037, 44107,\n",
       "       57701, 22601, 33952, 11803,  7011, 35401, 35216, 86442, 32503,\n",
       "       21042, 49001, 48911, 60438, 30721, 37421, 37042, 98226, 83605,\n",
       "       85224, 10115, 22980,  6708,  8021, 30338, 30344, 94568, 60131,\n",
       "       20877, 28403, 27893, 97071, 70003, 48071, 50158, 50401, 51106,\n",
       "       90022, 37311, 43055, 89031, 83701, 92243, 55076, 74133, 33161,\n",
       "       38017, 38401, 79762, 98198, 32601, 67601, 68128, 75460, 98026,\n",
       "       33012, 44070, 98107, 33160, 28206, 44039, 44133, 44134, 48154,\n",
       "       56001, 55369, 43068, 44125, 58201, 60603, 21740, 20707, 29418,\n",
       "       95630,  2215,  2180,  7960, 48640, 14043, 43123, 55119, 53209,\n",
       "       54956, 72956, 21220, 43050, 33021, 53151, 53154, 58601, 44870,\n",
       "       50265, 53402, 53081, 48237, 48342, 48060, 83814, 83402, 55343,\n",
       "       14609, 60148, 58554, 67846, 67501, 66048, 66209, 94704, 42071,\n",
       "       98034, 98503, 44515, 55128, 90061, 44224, 44136, 43615, 19112,\n",
       "       34287, 45011, 11967, 33334, 77041, 70560, 32839, 70117, 60160,\n",
       "       61265, 60056, 71109, 60060, 60540,  3246,  3053, 77506, 78660,\n",
       "       78577, 83854, 83440, 92277, 33710, 32771, 32004, 32127, 34952,\n",
       "       32216, 33458, 55060, 33569, 54481, 34609, 94109, 60062, 83301,\n",
       "       90210, 60101, 33322, 32303, 37066, 38138, 37075, 54880, 53186,\n",
       "       97330,  3051, 70458, 21403, 10112, 12306, 33319, 98632, 98037,\n",
       "       49221, 95501,  7060, 98273, 29203, 33156, 34741, 20170, 95746,\n",
       "       33461,  6320,  1001,  1760,  2563,  1890, 38301, 85335, 32174,\n",
       "       33614, 32780, 97060, 20006, 48307, 33411, 98444, 99301, 92231,\n",
       "       93010, 83616, 53213, 53214, 53095, 45373, 43221, 21113, 30144,\n",
       "       30240, 31204, 44512, 43402, 94533, 99163, 61832, 26554, 82001],\n",
       "      dtype=int64)"
      ]
     },
     "execution_count": 26,
     "metadata": {},
     "output_type": "execute_result"
    }
   ],
   "source": [
    "df1[\"Postal Code\"].unique()"
   ]
  },
  {
   "cell_type": "markdown",
   "id": "2d0c03f8",
   "metadata": {},
   "source": [
    "-------\n",
    "\n",
    "## now we use histogram for given columns to batter understand it\n",
    "\n",
    "------"
   ]
  },
  {
   "cell_type": "markdown",
   "id": "f3a37138",
   "metadata": {},
   "source": [
    "-------\n",
    "\n",
    "####\n",
    "\n",
    "### now we have to analise different Regions:\n",
    "    \n",
    "1.find Regions which are present in data set.\n",
    "\n",
    "2.draw histogram to represent which region of \"United States\" has number of sales greater than other.\n",
    "\n",
    "####\n",
    "\n",
    "-------"
   ]
  },
  {
   "cell_type": "code",
   "execution_count": 27,
   "id": "b50091e7",
   "metadata": {},
   "outputs": [],
   "source": [
    "region=df1[\"Region\"]\n"
   ]
  },
  {
   "cell_type": "code",
   "execution_count": 28,
   "id": "fb5dba01",
   "metadata": {},
   "outputs": [
    {
     "data": {
      "text/plain": [
       "(array([470.,   0.,   0., 474.,   0.,   0., 566.,   0.,   0., 442.]),\n",
       " array([0. , 0.3, 0.6, 0.9, 1.2, 1.5, 1.8, 2.1, 2.4, 2.7, 3. ]),\n",
       " <BarContainer object of 10 artists>)"
      ]
     },
     "execution_count": 28,
     "metadata": {},
     "output_type": "execute_result"
    },
    {
     "data": {
      "image/png": "[encoded data removed]",
      "text/plain": [
       "<Figure size 432x288 with 1 Axes>"
      ]
     },
     "metadata": {
      "needs_background": "light"
     },
     "output_type": "display_data"
    }
   ],
   "source": [
    "plt.hist(region,color=\"r\")"
   ]
  },
  {
   "cell_type": "markdown",
   "id": "7a895013",
   "metadata": {},
   "source": [
    "---------\n",
    "\n",
    "#####\n",
    "\n",
    "#### this histogram show which Region has large number customer in \"United States\"  accross given data set\n",
    "\n",
    "\"central Region has maximum number of customers\"\n",
    "\n",
    "#####\n",
    "\n",
    "---------"
   ]
  },
  {
   "cell_type": "markdown",
   "id": "580f402c",
   "metadata": {},
   "source": [
    "--------------\n",
    "\n",
    "###\n",
    "\n",
    "### these are top 10 citys of Super Store US which has maximum product traffic \n",
    "\n",
    "###\n",
    "\n",
    "--------------"
   ]
  },
  {
   "cell_type": "code",
   "execution_count": 29,
   "id": "53b68313",
   "metadata": {},
   "outputs": [
    {
     "data": {
      "text/plain": [
       "['New York City',\n",
       " 'Los Angeles',\n",
       " 'Seattle',\n",
       " 'Boston',\n",
       " 'Washington',\n",
       " 'Charlotte',\n",
       " 'Philadelphia',\n",
       " 'Chicago',\n",
       " 'Sanford',\n",
       " 'Miami']"
      ]
     },
     "execution_count": 29,
     "metadata": {},
     "output_type": "execute_result"
    }
   ],
   "source": [
    "city=df1[\"City\"].value_counts(10)[:10].index.tolist()\n",
    "city"
   ]
  },
  {
   "cell_type": "code",
   "execution_count": 30,
   "id": "a2e5c4f7",
   "metadata": {},
   "outputs": [
    {
     "data": {
      "text/plain": [
       "array([47, 44, 21, 19, 15, 12, 12, 11, 10, 10])"
      ]
     },
     "execution_count": 30,
     "metadata": {},
     "output_type": "execute_result"
    }
   ],
   "source": [
    "c1=df1.loc[df1[\"City\"]==\"New York City\"].shape[0]\n",
    "c2=df1.loc[df1[\"City\"]==\"Los Angeles\"].shape[0]\n",
    "c3=df1.loc[df1[\"City\"]==\"Seattle\"].shape[0]\n",
    "c4=df1.loc[df1[\"City\"]==\"Boston\"].shape[0]\n",
    "c5=df1.loc[df1[\"City\"]==\"Washington\"].shape[0]\n",
    "c6=df1.loc[df1[\"City\"]==\"Charlotte\"].shape[0]\n",
    "c7=df1.loc[df1[\"City\"]==\"Philadelphia\"].shape[0]\n",
    "c8=df1.loc[df1[\"City\"]==\"Chicago\"].shape[0]\n",
    "c9=df1.loc[df1[\"City\"]==\"Sanford\"].shape[0]\n",
    "c10=df1.loc[df1[\"City\"]==\"Miami\"].shape[0]\n",
    "\n",
    "a=np.array([c1,c2,c3,c4,c5,c6,c7,c8,c9,c10])\n",
    "a"
   ]
  },
  {
   "cell_type": "code",
   "execution_count": 31,
   "id": "61e9a43e",
   "metadata": {},
   "outputs": [
    {
     "data": {
      "text/plain": [
       "[<matplotlib.lines.Line2D at 0x27a029667f0>]"
      ]
     },
     "execution_count": 31,
     "metadata": {},
     "output_type": "execute_result"
    },
    {
     "data": {
      "image/png": "[encoded data removed]",
      "text/plain": [
       "<Figure size 720x648 with 1 Axes>"
      ]
     },
     "metadata": {
      "needs_background": "light"
     },
     "output_type": "display_data"
    }
   ],
   "source": [
    "plt.figure(figsize=(10,9))\n",
    "plt.ylabel(\"city.\")\n",
    "plt.xlabel(\"no of records.\")\n",
    "plt.plot(a,city,color=\"r\")\n"
   ]
  },
  {
   "cell_type": "markdown",
   "id": "40c17b47",
   "metadata": {},
   "source": [
    "---------\n",
    "\n",
    "#####\n",
    "\n",
    "#### this linechart show top 10 city which has maximum number of product traffic accross given data set\n",
    "\n",
    "total number of city:869\n",
    "\n",
    "#####\n",
    "\n",
    "---------"
   ]
  },
  {
   "cell_type": "markdown",
   "id": "3bbf694f",
   "metadata": {},
   "source": [
    "-------\n",
    "\n",
    "####\n",
    "\n",
    "### now we have to analise different customer segment:\n",
    "    \n",
    "1.count how much number of customer segment are present in data set.\n",
    "\n",
    "2.find number of records present about each customer segment\n",
    "\n",
    "3.draw linechart about analysis of customer segment\n",
    "\n",
    "####\n",
    "\n",
    "-------"
   ]
  },
  {
   "cell_type": "code",
   "execution_count": 32,
   "id": "4bc0e58e",
   "metadata": {},
   "outputs": [
    {
     "data": {
      "text/plain": [
       "4"
      ]
     },
     "execution_count": 32,
     "metadata": {},
     "output_type": "execute_result"
    }
   ],
   "source": [
    "df1[\"Customer Segment\"].nunique()"
   ]
  },
  {
   "cell_type": "code",
   "execution_count": 33,
   "id": "b0f81e78",
   "metadata": {},
   "outputs": [],
   "source": [
    "Customer_Segment=df1[\"Customer Segment\"].unique()"
   ]
  },
  {
   "cell_type": "code",
   "execution_count": 34,
   "id": "7111db59",
   "metadata": {},
   "outputs": [
    {
     "data": {
      "text/plain": [
       "array([684, 470, 388, 410])"
      ]
     },
     "execution_count": 34,
     "metadata": {},
     "output_type": "execute_result"
    }
   ],
   "source": [
    "cs1=df1.loc[df1[\"Customer Segment\"]==\"Corporate\"].shape[0]\n",
    "cs2=df1.loc[df1[\"Customer Segment\"]==\"Home Office\"].shape[0]\n",
    "cs3=df1.loc[df1[\"Customer Segment\"]==\"Small Business\"].shape[0]\n",
    "cs4=df1.loc[df1[\"Customer Segment\"]==\"Consumer\"].shape[0]\n",
    "\n",
    "n=np.array([cs1,cs2,cs3,cs4])\n",
    "n"
   ]
  },
  {
   "cell_type": "code",
   "execution_count": 35,
   "id": "c7f70167",
   "metadata": {},
   "outputs": [
    {
     "data": {
      "text/plain": [
       "[<matplotlib.lines.Line2D at 0x27a02b9a820>]"
      ]
     },
     "execution_count": 35,
     "metadata": {},
     "output_type": "execute_result"
    },
    {
     "data": {
      "image/png": "[encoded data removed]",
      "text/plain": [
       "<Figure size 720x648 with 1 Axes>"
      ]
     },
     "metadata": {
      "needs_background": "light"
     },
     "output_type": "display_data"
    }
   ],
   "source": [
    "plt.figure(figsize=(10,9))\n",
    "plt.ylabel(\"no of product sale.\")\n",
    "plt.xlabel(\"Customer Segment. \")\n",
    "plt.plot(Customer_Segment,n,color=\"g\")"
   ]
  },
  {
   "cell_type": "markdown",
   "id": "ab3578be",
   "metadata": {},
   "source": [
    "-------\n",
    "\n",
    "#####\n",
    "\n",
    "#### now we clearly see that which Customer Segment is maximum number of sales in the data set.\n",
    "\"corporate\" is maximum, no. of product sale: \"684\"\n",
    "\n",
    "#####\n",
    "\n",
    "-------"
   ]
  },
  {
   "cell_type": "markdown",
   "id": "f5ab1d64",
   "metadata": {},
   "source": [
    "-------\n",
    "####\n",
    "\n",
    "### now we have to analise different Order Priority:\n",
    "    \n",
    "1.count how much number of Order Priority are present in data set.\n",
    "\n",
    "2.find number of records present about each Order Priority.\n",
    "\n",
    "3.draw linechart about analysis of Order Priority and find maximum in number.\n",
    "\n",
    "####\n",
    "\n",
    "-------"
   ]
  },
  {
   "cell_type": "code",
   "execution_count": 36,
   "id": "49a15ea8",
   "metadata": {},
   "outputs": [
    {
     "data": {
      "text/plain": [
       "6"
      ]
     },
     "execution_count": 36,
     "metadata": {},
     "output_type": "execute_result"
    }
   ],
   "source": [
    "df1[\"Order Priority\"].nunique()"
   ]
  },
  {
   "cell_type": "code",
   "execution_count": 37,
   "id": "74e10e76",
   "metadata": {},
   "outputs": [
    {
     "data": {
      "text/plain": [
       "array(['High', 'Not Specified', 'Critical', 'Medium', 'Low', 'Critical '],\n",
       "      dtype=object)"
      ]
     },
     "execution_count": 37,
     "metadata": {},
     "output_type": "execute_result"
    }
   ],
   "source": [
    "Order_Priority=df1[\"Order Priority\"].unique()\n",
    "Order_Priority"
   ]
  },
  {
   "cell_type": "code",
   "execution_count": 38,
   "id": "b9c6fe51",
   "metadata": {},
   "outputs": [
    {
     "data": {
      "text/plain": [
       "array([391, 396, 390, 376, 398, 390])"
      ]
     },
     "execution_count": 38,
     "metadata": {},
     "output_type": "execute_result"
    }
   ],
   "source": [
    "op1=df1.loc[df1[\"Order Priority\"]==\"High\"].shape[0]\n",
    "op2=df1.loc[df1[\"Order Priority\"]==\"Not Specified\"].shape[0]\n",
    "op3=df1.loc[df1[\"Order Priority\"]==\"Critical\"].shape[0]\n",
    "op4=df1.loc[df1[\"Order Priority\"]==\"Medium\"].shape[0]\n",
    "op5=df1.loc[df1[\"Order Priority\"]==\"Low\"].shape[0]\n",
    "op6=df1.loc[df1[\"Order Priority\"]==\"Critical\"].shape[0]\n",
    "\n",
    "n2=np.array([op1,op2,op3,op4,op5,op6])\n",
    "n2"
   ]
  },
  {
   "cell_type": "code",
   "execution_count": 39,
   "id": "4e33b4d4",
   "metadata": {},
   "outputs": [
    {
     "data": {
      "text/plain": [
       "[<matplotlib.lines.Line2D at 0x27a029d9820>]"
      ]
     },
     "execution_count": 39,
     "metadata": {},
     "output_type": "execute_result"
    },
    {
     "data": {
      "image/png": "[encoded data removed]",
      "text/plain": [
       "<Figure size 720x648 with 1 Axes>"
      ]
     },
     "metadata": {
      "needs_background": "light"
     },
     "output_type": "display_data"
    }
   ],
   "source": [
    "plt.figure(figsize=(10,9))\n",
    "plt.ylabel(\"no of records.\")\n",
    "plt.xlabel(\"Order Priority\")\n",
    "plt.plot(Order_Priority,n2,color=\"m\")"
   ]
  },
  {
   "cell_type": "markdown",
   "id": "d58eb2c2",
   "metadata": {},
   "source": [
    "--------\n",
    "\n",
    "#####\n",
    "\n",
    "#### now we clearly see that which product priority is maximum in the data and which product priority mostly select by the customers.\n",
    "\"low\" is maximum, no. of records:\"398\"\n",
    "\n",
    "#####\n",
    "\n",
    "--------"
   ]
  },
  {
   "cell_type": "markdown",
   "id": "0a076a17",
   "metadata": {},
   "source": [
    "-------\n",
    "####\n",
    "\n",
    "### now we have to analise different Product Category:\n",
    "    \n",
    "1.count how much number of Product Category are present in data set.\n",
    "\n",
    "2.find number of records present about each Product Category\n",
    "\n",
    "3.draw linechart about analysis of Product Category and which product catagory has maximum number of orders.\n",
    "\n",
    "###"
   ]
  },
  {
   "cell_type": "code",
   "execution_count": 40,
   "id": "287f04a9",
   "metadata": {},
   "outputs": [
    {
     "data": {
      "text/plain": [
       "3"
      ]
     },
     "execution_count": 40,
     "metadata": {},
     "output_type": "execute_result"
    }
   ],
   "source": [
    "df1[\"Product Category\"].nunique()"
   ]
  },
  {
   "cell_type": "code",
   "execution_count": 41,
   "id": "e90e64a7",
   "metadata": {},
   "outputs": [
    {
     "data": {
      "text/plain": [
       "array(['Office Supplies', 'Furniture', 'Technology'], dtype=object)"
      ]
     },
     "execution_count": 41,
     "metadata": {},
     "output_type": "execute_result"
    }
   ],
   "source": [
    "Product_Category=df1[\"Product Category\"].unique()\n",
    "Product_Category"
   ]
  },
  {
   "cell_type": "code",
   "execution_count": 42,
   "id": "6b1bbf70",
   "metadata": {},
   "outputs": [
    {
     "data": {
      "text/plain": [
       "array([1071,  400,  481])"
      ]
     },
     "execution_count": 42,
     "metadata": {},
     "output_type": "execute_result"
    }
   ],
   "source": [
    "pc1=df1.loc[df1[\"Product Category\"]==\"Office Supplies\"].shape[0]\n",
    "pc2=df1.loc[df1[\"Product Category\"]==\"Furniture\"].shape[0]\n",
    "pc3=df1.loc[df1[\"Product Category\"]==\"Technology\"].shape[0]\n",
    "\n",
    "n3=np.array([pc1,pc2,pc3])\n",
    "n3"
   ]
  },
  {
   "cell_type": "code",
   "execution_count": 43,
   "id": "4c13a397",
   "metadata": {},
   "outputs": [
    {
     "data": {
      "text/plain": [
       "[<matplotlib.lines.Line2D at 0x27a02d2e0a0>]"
      ]
     },
     "execution_count": 43,
     "metadata": {},
     "output_type": "execute_result"
    },
    {
     "data": {
      "image/png": "[encoded data removed]",
      "text/plain": [
       "<Figure size 720x648 with 1 Axes>"
      ]
     },
     "metadata": {
      "needs_background": "light"
     },
     "output_type": "display_data"
    }
   ],
   "source": [
    "plt.figure(figsize=(10,9))\n",
    "plt.ylabel(\"no of records.\")\n",
    "plt.xlabel(\"Product Category\")\n",
    "plt.plot(Product_Category,n3,color=\"m\")"
   ]
  },
  {
   "cell_type": "markdown",
   "id": "6aee7109",
   "metadata": {},
   "source": [
    "###\n",
    "\n",
    "------\n",
    "\n",
    "#### this linechart show which product category sales maximum and know different product category.\n",
    "\"office supplies\" is maximum\n",
    "\n",
    "------\n",
    "\n",
    "###\n",
    "\n",
    "------"
   ]
  },
  {
   "cell_type": "markdown",
   "id": "7789af65",
   "metadata": {},
   "source": [
    "--------\n",
    "####\n",
    "\n",
    "### now we have to analise different Product Container:\n",
    "\n",
    "1.count how much type of Product Container are present in data set.\n",
    "\n",
    "2.find number of records present about each Product Container\n",
    "\n",
    "3.draw linechart about analysis of Product Container and which Product Container mostly use to pack products.\n",
    "\n",
    "###"
   ]
  },
  {
   "cell_type": "code",
   "execution_count": 44,
   "id": "aec8233b",
   "metadata": {},
   "outputs": [
    {
     "data": {
      "text/plain": [
       "7"
      ]
     },
     "execution_count": 44,
     "metadata": {},
     "output_type": "execute_result"
    }
   ],
   "source": [
    "df1[\"Product Container\"].nunique()"
   ]
  },
  {
   "cell_type": "code",
   "execution_count": 45,
   "id": "52545ffb",
   "metadata": {},
   "outputs": [
    {
     "data": {
      "text/plain": [
       "array(['Wrap Bag', 'Jumbo Drum', 'Small Pack', 'Small Box', 'Medium Box',\n",
       "       'Jumbo Box', 'Large Box'], dtype=object)"
      ]
     },
     "execution_count": 45,
     "metadata": {},
     "output_type": "execute_result"
    }
   ],
   "source": [
    "Product_Container=df1[\"Product Container\"].unique()\n",
    "Product_Container"
   ]
  },
  {
   "cell_type": "code",
   "execution_count": 46,
   "id": "7f83e4bb",
   "metadata": {},
   "outputs": [
    {
     "data": {
      "text/plain": [
       "array([279, 152, 219, 991,  87,  87, 100])"
      ]
     },
     "execution_count": 46,
     "metadata": {},
     "output_type": "execute_result"
    }
   ],
   "source": [
    "pc1=df1.loc[df1[\"Product Container\"]==\"Wrap Bag\"].shape[0]\n",
    "pc2=df1.loc[df1[\"Product Container\"]==\"Jumbo Drum\"].shape[0]\n",
    "pc3=df1.loc[df1[\"Product Container\"]==\"Small Pack\"].shape[0]\n",
    "pc4=df1.loc[df1[\"Product Container\"]==\"Small Box\"].shape[0]\n",
    "pc5=df1.loc[df1[\"Product Container\"]==\"Medium Box\"].shape[0]\n",
    "pc6=df1.loc[df1[\"Product Container\"]==\"Medium Box\"].shape[0]\n",
    "pc7=df1.loc[df1[\"Product Container\"]==\"Large Box\"].shape[0]\n",
    "\n",
    "n5=np.array([pc1,pc2,pc3,pc4,pc5,pc6,pc7])\n",
    "n5"
   ]
  },
  {
   "cell_type": "code",
   "execution_count": 47,
   "id": "5de74604",
   "metadata": {},
   "outputs": [
    {
     "data": {
      "text/plain": [
       "[<matplotlib.lines.Line2D at 0x27a02d8a910>]"
      ]
     },
     "execution_count": 47,
     "metadata": {},
     "output_type": "execute_result"
    },
    {
     "data": {
      "image/png": "[encoded data removed]",
      "text/plain": [
       "<Figure size 720x648 with 1 Axes>"
      ]
     },
     "metadata": {
      "needs_background": "light"
     },
     "output_type": "display_data"
    }
   ],
   "source": [
    "plt.figure(figsize=(10,9))\n",
    "plt.ylabel(\" no of records.\")\n",
    "plt.xlabel(\"Product Container.\")\n",
    "plt.plot(Product_Container,n5,color=\"g\")"
   ]
  },
  {
   "cell_type": "markdown",
   "id": "cff5075f",
   "metadata": {},
   "source": [
    "###\n",
    "\n",
    "------\n",
    "\n",
    "#### this linechart show which Product Container use mostly for pack product and know different Product Container.\n",
    "\n",
    "\"small box\" use mostly, no. of product packed: \"991\"\n",
    "\n",
    "------\n",
    "\n",
    "###"
   ]
  },
  {
   "cell_type": "markdown",
   "id": "df6100df",
   "metadata": {},
   "source": [
    "---------\n",
    "####\n",
    "\n",
    "### now we have to analise different Product Sub-Category:\n",
    "\n",
    "1.count how much type of Product Sub-Category are present in data set.\n",
    "\n",
    "2.find number of records present about each Product Sub-Category\n",
    "\n",
    "3.draw linechart about analysis of Product Sub-Category and which Product Sub-Category is highly purchase by the customer.\n",
    "\n",
    "###"
   ]
  },
  {
   "cell_type": "code",
   "execution_count": 48,
   "id": "d7bd6dc5",
   "metadata": {},
   "outputs": [
    {
     "data": {
      "text/plain": [
       "17"
      ]
     },
     "execution_count": 48,
     "metadata": {},
     "output_type": "execute_result"
    }
   ],
   "source": [
    "df1[\"Product Sub-Category\"].nunique()"
   ]
  },
  {
   "cell_type": "code",
   "execution_count": 49,
   "id": "44ddcf91",
   "metadata": {},
   "outputs": [
    {
     "data": {
      "text/plain": [
       "array(['Pens & Art Supplies', 'Chairs & Chairmats', 'Office Furnishings',\n",
       "       'Rubber Bands', 'Envelopes', 'Telephones and Communication',\n",
       "       'Office Machines', 'Paper', 'Binders and Binder Accessories',\n",
       "       'Labels', 'Storage & Organization', 'Tables',\n",
       "       'Scissors, Rulers and Trimmers', 'Computer Peripherals',\n",
       "       'Bookcases', 'Appliances', 'Copiers and Fax'], dtype=object)"
      ]
     },
     "execution_count": 49,
     "metadata": {},
     "output_type": "execute_result"
    }
   ],
   "source": [
    "Product_Sub_Category=df1[\"Product Sub-Category\"].unique()\n",
    "Product_Sub_Category"
   ]
  },
  {
   "cell_type": "code",
   "execution_count": 50,
   "id": "1aa23e25",
   "metadata": {},
   "outputs": [
    {
     "data": {
      "text/plain": [
       "array([161,  92, 185,  34,  55, 194,  95, 284, 200,  71, 130,  36, 174,\n",
       "        43, 100,  18,  80])"
      ]
     },
     "execution_count": 50,
     "metadata": {},
     "output_type": "execute_result"
    }
   ],
   "source": [
    "psc1=df1.loc[df1[\"Product Sub-Category\"]==\"Pens & Art Supplies\"].shape[0]\n",
    "psc2=df1.loc[df1[\"Product Sub-Category\"]==\"Chairs & Chairmats\"].shape[0]\n",
    "psc3=df1.loc[df1[\"Product Sub-Category\"]==\"Office Furnishings\"].shape[0]\n",
    "psc4=df1.loc[df1[\"Product Sub-Category\"]==\"Rubber Bands\"].shape[0]\n",
    "psc5=df1.loc[df1[\"Product Sub-Category\"]==\"Envelopes\"].shape[0]\n",
    "psc6=df1.loc[df1[\"Product Sub-Category\"]==\"Telephones and Communication\"].shape[0]\n",
    "psc7=df1.loc[df1[\"Product Sub-Category\"]==\"Office Machines\"].shape[0]\n",
    "psc8=df1.loc[df1[\"Product Sub-Category\"]==\"Paper\"].shape[0]\n",
    "psc9=df1.loc[df1[\"Product Sub-Category\"]==\"Binders and Binder Accessories\"].shape[0]\n",
    "psc10=df1.loc[df1[\"Product Sub-Category\"]==\"Labels\"].shape[0]\n",
    "psc11=df1.loc[df1[\"Product Sub-Category\"]==\"Storage & Organization\"].shape[0]\n",
    "psc12=df1.loc[df1[\"Product Sub-Category\"]==\"Scissors, Rulers and Trimmers\"].shape[0]\n",
    "psc13=df1.loc[df1[\"Product Sub-Category\"]==\"Computer Peripherals\"].shape[0]\n",
    "psc14=df1.loc[df1[\"Product Sub-Category\"]==\"Bookcases\"].shape[0]\n",
    "psc15=df1.loc[df1[\"Product Sub-Category\"]==\"Appliances\"].shape[0]\n",
    "psc16=df1.loc[df1[\"Product Sub-Category\"]==\"Copiers and Fax\"].shape[0]\n",
    "psc17=df1.loc[df1[\"Product Sub-Category\"]==\"Tables\"].shape[0]\n",
    "n6=np.array([psc1,psc2,psc3,psc4,psc5,psc6,psc7,psc8,psc9,psc10,psc11,psc12,psc13,psc14,psc15,psc16,psc17])\n",
    "n6"
   ]
  },
  {
   "cell_type": "code",
   "execution_count": 51,
   "id": "336daecd",
   "metadata": {},
   "outputs": [
    {
     "data": {
      "text/plain": [
       "[<matplotlib.lines.Line2D at 0x27a02df2760>]"
      ]
     },
     "execution_count": 51,
     "metadata": {},
     "output_type": "execute_result"
    },
    {
     "data": {
      "image/png": "[encoded data removed]",
      "text/plain": [
       "<Figure size 720x648 with 1 Axes>"
      ]
     },
     "metadata": {
      "needs_background": "light"
     },
     "output_type": "display_data"
    }
   ],
   "source": [
    "plt.figure(figsize=(10,9))\n",
    "plt.ylabel(\"Product Sub-Category \")\n",
    "plt.xlabel(\"no of purchas.\")\n",
    "plt.plot(n6,Product_Sub_Category,color=\"y\")"
   ]
  },
  {
   "cell_type": "markdown",
   "id": "3e338657",
   "metadata": {},
   "source": [
    "###\n",
    "\n",
    "------\n",
    "\n",
    "##### this linechart show which Product Sub-Category highly purchase by the customer and know different Product Sub-Category.\n",
    "\"Paper\" is maximum: \"284\"\n",
    "\n",
    "------\n",
    "\n",
    "###"
   ]
  },
  {
   "cell_type": "markdown",
   "id": "7fa0b421",
   "metadata": {},
   "source": [
    "--------\n",
    "#####\n",
    "\n",
    "### now we have to analise different Ship Mode:\n",
    "\n",
    "1.count how much type of Ship Mode are present in data set.\n",
    "\n",
    "2.find number of records present about each Ship Mode\n",
    "\n",
    "3.draw linechart about analysis of Ship Mode and which Ship Mode is mostly select by the customer.\n",
    "\n",
    "#####"
   ]
  },
  {
   "cell_type": "code",
   "execution_count": 52,
   "id": "9ec4bc61",
   "metadata": {},
   "outputs": [
    {
     "data": {
      "text/plain": [
       "3"
      ]
     },
     "execution_count": 52,
     "metadata": {},
     "output_type": "execute_result"
    }
   ],
   "source": [
    "df1[\"Ship Mode\"].nunique()"
   ]
  },
  {
   "cell_type": "code",
   "execution_count": 53,
   "id": "84af2f05",
   "metadata": {},
   "outputs": [
    {
     "data": {
      "text/plain": [
       "array(['Express Air', 'Delivery Truck', 'Regular Air'], dtype=object)"
      ]
     },
     "execution_count": 53,
     "metadata": {},
     "output_type": "execute_result"
    }
   ],
   "source": [
    "Ship_Mode=df1[\"Ship Mode\"].unique()\n",
    "Ship_Mode"
   ]
  },
  {
   "cell_type": "code",
   "execution_count": 54,
   "id": "3443fb3e",
   "metadata": {},
   "outputs": [
    {
     "data": {
      "text/plain": [
       "array([ 240,  275, 1437])"
      ]
     },
     "execution_count": 54,
     "metadata": {},
     "output_type": "execute_result"
    }
   ],
   "source": [
    "sm1=df1.loc[df1[\"Ship Mode\"]==\"Express Air\"].shape[0]\n",
    "sm2=df1.loc[df1[\"Ship Mode\"]==\"Delivery Truck\"].shape[0]\n",
    "sm3=df1.loc[df1[\"Ship Mode\"]==\"Regular Air\"].shape[0]\n",
    "n7=np.array([sm1,sm2,sm3])\n",
    "n7"
   ]
  },
  {
   "cell_type": "code",
   "execution_count": 55,
   "id": "fe00fcd3",
   "metadata": {},
   "outputs": [
    {
     "data": {
      "text/plain": [
       "[<matplotlib.lines.Line2D at 0x27a02e69f10>]"
      ]
     },
     "execution_count": 55,
     "metadata": {},
     "output_type": "execute_result"
    },
    {
     "data": {
      "image/png": "[encoded data removed]",
      "text/plain": [
       "<Figure size 720x648 with 1 Axes>"
      ]
     },
     "metadata": {
      "needs_background": "light"
     },
     "output_type": "display_data"
    }
   ],
   "source": [
    "plt.figure(figsize=(10,9))\n",
    "plt.ylabel(\"Ship Mode\")\n",
    "plt.xlabel(\"no. of select \")\n",
    "plt.plot(Ship_Mode,n7,color=\"b\")"
   ]
  },
  {
   "cell_type": "markdown",
   "id": "056c96f7",
   "metadata": {},
   "source": [
    "###\n",
    "\n",
    "------\n",
    "\n",
    "##### this linechart show which Ship Mode mostly select by the customer and know different Ship Mode select count also.\n",
    "\"Regular Air\" is select mostly: \"1437\"\n",
    "\n",
    "------\n",
    "\n",
    "###"
   ]
  },
  {
   "cell_type": "markdown",
   "id": "e239d2a7",
   "metadata": {},
   "source": [
    "---------\n",
    "\n",
    "######\n",
    "\n",
    "### now find profit earn by  each sub-category of product accoding to given amount of data\n",
    " \n",
    "\n",
    "\n",
    "1. find unique Product Sub-Category\n",
    "\n",
    "2. find profit earn by each purchace from a perticular Product Sub-Category and sum all the profit \n",
    "\n",
    "3. now draw line chart on collected data \n",
    "\n",
    "######\n",
    "\n",
    "-----------"
   ]
  },
  {
   "cell_type": "code",
   "execution_count": 56,
   "id": "116e3da5",
   "metadata": {},
   "outputs": [
    {
     "data": {
      "text/plain": [
       "array(['Pens & Art Supplies', 'Chairs & Chairmats', 'Office Furnishings',\n",
       "       'Rubber Bands', 'Envelopes', 'Telephones and Communication',\n",
       "       'Office Machines', 'Paper', 'Binders and Binder Accessories',\n",
       "       'Labels', 'Storage & Organization', 'Tables',\n",
       "       'Scissors, Rulers and Trimmers', 'Computer Peripherals',\n",
       "       'Bookcases', 'Appliances', 'Copiers and Fax'], dtype=object)"
      ]
     },
     "execution_count": 56,
     "metadata": {},
     "output_type": "execute_result"
    }
   ],
   "source": [
    "Product_Sub_Category_profit=df1[\"Product Sub-Category\"].unique()\n",
    "Product_Sub_Category_profit\n"
   ]
  },
  {
   "cell_type": "code",
   "execution_count": 57,
   "id": "96079369",
   "metadata": {},
   "outputs": [
    {
     "data": {
      "text/plain": [
       "array([ -257.6288    , 48695.8366    , 18724.1191    , -1544.8260632 ,\n",
       "       -1194.4125    , 40790.51424   ,  8824.390564  ,  7769.31507   ,\n",
       "       59296.38943   ,  7028.1595    ,  7124.2882    , -1291.0959    ,\n",
       "        1698.04398   ,  -930.4384    , 12594.8206    , 23990.20758   ,\n",
       "       -7240.07136365])"
      ]
     },
     "execution_count": 57,
     "metadata": {},
     "output_type": "execute_result"
    }
   ],
   "source": [
    "p1=df1.loc[df1[\"Product Sub-Category\"]==\"Pens & Art Supplies\"][\"Profit\"].sum()\n",
    "p2=df1.loc[df1[\"Product Sub-Category\"]==\"Chairs & Chairmats\"][\"Profit\"].sum()\n",
    "p3=df1.loc[df1[\"Product Sub-Category\"]==\"Office Furnishings\"][\"Profit\"].sum()\n",
    "p4=df1.loc[df1[\"Product Sub-Category\"]==\"Rubber Bands\"][\"Profit\"].sum()\n",
    "p5=df1.loc[df1[\"Product Sub-Category\"]==\"Envelopes\"][\"Profit\"].sum()\n",
    "p6=df1.loc[df1[\"Product Sub-Category\"]==\"Telephones and Communication\"][\"Profit\"].sum()\n",
    "p7=df1.loc[df1[\"Product Sub-Category\"]==\"Office Machines\"][\"Profit\"].sum()\n",
    "p8=df1.loc[df1[\"Product Sub-Category\"]==\"Paper\"][\"Profit\"].sum()\n",
    "p9=df1.loc[df1[\"Product Sub-Category\"]==\"Binders and Binder Accessories\"][\"Profit\"].sum()\n",
    "p10=df1.loc[df1[\"Product Sub-Category\"]==\"Labels\"][\"Profit\"].sum()\n",
    "p11=df1.loc[df1[\"Product Sub-Category\"]==\"Storage & Organization\"][\"Profit\"].sum()\n",
    "p12=df1.loc[df1[\"Product Sub-Category\"]==\"Scissors, Rulers and Trimmers\"][\"Profit\"].sum()\n",
    "p13=df1.loc[df1[\"Product Sub-Category\"]==\"Computer Peripherals\"][\"Profit\"].sum()\n",
    "p14=df1.loc[df1[\"Product Sub-Category\"]==\"Bookcases\"][\"Profit\"].sum()\n",
    "p15=df1.loc[df1[\"Product Sub-Category\"]==\"Appliances\"][\"Profit\"].sum()\n",
    "p16=df1.loc[df1[\"Product Sub-Category\"]==\"Copiers and Fax\"][\"Profit\"].sum()\n",
    "p17=df1.loc[df1[\"Product Sub-Category\"]==\"Tables\"][\"Profit\"].sum()\n",
    "n8=np.array([p1,p2,p3,p4,p5,p6,p7,p8,p9,p10,p11,p12,p13,p14,p15,p16,p17])\n",
    "n8"
   ]
  },
  {
   "cell_type": "code",
   "execution_count": 58,
   "id": "c857a2e0",
   "metadata": {},
   "outputs": [
    {
     "data": {
      "text/plain": [
       "[<matplotlib.lines.Line2D at 0x27a02ecafd0>]"
      ]
     },
     "execution_count": 58,
     "metadata": {},
     "output_type": "execute_result"
    },
    {
     "data": {
      "image/png": "[encoded data removed]",
      "text/plain": [
       "<Figure size 720x648 with 1 Axes>"
      ]
     },
     "metadata": {
      "needs_background": "light"
     },
     "output_type": "display_data"
    }
   ],
   "source": [
    "plt.figure(figsize=(10,9))\n",
    "plt.ylabel(\"Product Sub-Category \")\n",
    "plt.xlabel(\"overall_profit\")\n",
    "plt.plot(n8,Product_Sub_Category_profit,color=\"c\")"
   ]
  },
  {
   "cell_type": "markdown",
   "id": "396c92f2",
   "metadata": {},
   "source": [
    "###\n",
    "\n",
    "------\n",
    "\n",
    "##### this linechart show which Product Sub-Category provide high profit by the customer and know different Product Sub-Category profit also.\n",
    "\"Binders and Binder Accessories\" is maximum: \"59296.38943\"\n",
    "\n",
    "------\n",
    "\n",
    "###"
   ]
  },
  {
   "cell_type": "code",
   "execution_count": 59,
   "id": "f2bc9005",
   "metadata": {},
   "outputs": [
    {
     "data": {
      "text/plain": [
       "Index(['Row ID', 'Order Priority', 'Discount', 'Unit Price', 'Shipping Cost',\n",
       "       'Customer ID', 'Customer Name', 'Ship Mode', 'Customer Segment',\n",
       "       'Product Category', 'Product Sub-Category', 'Product Container',\n",
       "       'Product Name', 'Product Base Margin', 'Country', 'Region',\n",
       "       'State or Province', 'City', 'Postal Code', 'Order Date', 'Ship Date',\n",
       "       'Profit', 'Quantity ordered new', 'Sales', 'Order ID'],\n",
       "      dtype='object')"
      ]
     },
     "execution_count": 59,
     "metadata": {},
     "output_type": "execute_result"
    }
   ],
   "source": [
    "df1.columns"
   ]
  },
  {
   "cell_type": "markdown",
   "id": "ef8f7d5e",
   "metadata": {},
   "source": [
    "# name of all the product:"
   ]
  },
  {
   "cell_type": "code",
   "execution_count": 60,
   "id": "41914cbb",
   "metadata": {},
   "outputs": [
    {
     "data": {
      "text/plain": [
       "913"
      ]
     },
     "execution_count": 60,
     "metadata": {},
     "output_type": "execute_result"
    }
   ],
   "source": [
    "df1[\"Product Name\"].nunique()"
   ]
  },
  {
   "cell_type": "code",
   "execution_count": 61,
   "id": "6ffd6c94",
   "metadata": {},
   "outputs": [
    {
     "data": {
      "text/plain": [
       "array(['SANFORD Liquid Accent™ Tank-Style Highlighters',\n",
       "       'Global Troy™ Executive Leather Low-Back Tilter',\n",
       "       'DAX Two-Tone Rosewood/Black Document Frame, Desktop, 5 x 7',\n",
       "       'Howard Miller 12-3/4 Diameter Accuwave DS ™ Wall Clock',\n",
       "       'Newell 321', 'Newell 351',\n",
       "       'OIC Colored Binder Clips, Assorted Sizes', 'Grip Seal Envelopes',\n",
       "       'Tyvek ® Top-Opening Peel & Seel ® Envelopes, Gray',\n",
       "       'Staples Gold Paper Clips', 'StarTAC 7797',\n",
       "       'DAX Natural Wood-Tone Poster Frame',\n",
       "       'Hewlett Packard 6S Scientific Calculator',\n",
       "       'Advantus Plastic Paper Clips', 'Xerox 194', 'Newell 323',\n",
       "       'Eldon Image Series Black Desk Accessories',\n",
       "       'Hunt Boston® Vacuum Mount KS Pencil Sharpener',\n",
       "       'Canon P1-DHIII Palm Printing Calculator', 'StarTAC 3000',\n",
       "       'TimeportP7382',\n",
       "       'Storex DuraTech Recycled Plastic Frosted Binders', 'Newell 338',\n",
       "       'AT&T 2230 Dual Handset Phone With Caller ID/Call Waiting', '6160',\n",
       "       'Okidata Pacemark 4410N Wide Format Dot Matrix Printer',\n",
       "       'Xerox 1903', 'Durable Pressboard Binders', 'Newell 310',\n",
       "       'Xerox 193',\n",
       "       'Snap-A-Way® Black Print Carbonless Speed Message, No Reply Area, Duplicate',\n",
       "       'Avery 501', '5165', 'Dual Level, Single-Width Filing Carts',\n",
       "       'Hon 4070 Series Pagoda™ Armless Upholstered Stacking Chairs',\n",
       "       'Hon Valutask™ Swivel Chairs',\n",
       "       'Global High-Back Leather Tilter, Burgundy',\n",
       "       'Hon 94000 Series Round Tables', '6\" Cubicle Wall Clock, Black',\n",
       "       'GBC DocuBind TL300 Electric Binding System',\n",
       "       'Fellowes Super Stor/Drawer® Files', 'Avery 493',\n",
       "       'Prismacolor Color Pencil Set', 'Array® Memo Cubes', '2180',\n",
       "       'REDIFORM Incoming/Outgoing Call Register, 11\" X 8 1/2\", 100 Messages',\n",
       "       'Xerox 1897', 'Acme® 8\" Straight Scissors',\n",
       "       'Office Star - Mid Back Dual function Ergonomic High Back Chair with 2-Way Adjustable Arms',\n",
       "       'Belkin 107-key enhanced keyboard, USB/PS/2 interface', '5185',\n",
       "       'Belkin 105-Key Black Keyboard',\n",
       "       'Atlantic Metals Mobile 5-Shelf Bookcases, Custom Colors',\n",
       "       'Avery Durable Binders',\n",
       "       'Dixon Prang® Watercolor Pencils, 10-Color Set with Brush',\n",
       "       'EcoTones® Memo Sheets', 'Fuji Slim Jewel Case CD-R', 'Avery 51',\n",
       "       '6185', 'Acme® Office Executive Series Stainless Steel Trimmers',\n",
       "       'Eldon Regeneration Recycled Desk Accessories, Smoke',\n",
       "       '#10-4 1/8\" x 9 1/2\" Premium Diagonal Seam Envelopes',\n",
       "       'Xerox 1939', 'Fiskars® Softgrip Scissors', 'Xerox 1964',\n",
       "       'Wirebound Message Books, 2 7/8\" x 5\", 3 Forms per Page',\n",
       "       'Laminate Occasional Tables',\n",
       "       'Tenex B1-RE Series Chair Mats for Low Pile Carpets',\n",
       "       'Global Ergonomic Managers Chair',\n",
       "       'PC Concepts 116 Key Quantum 3000 Keyboard',\n",
       "       'Wausau Papers Astrobrights® Colored Envelopes', 'Newell 335',\n",
       "       'Eldon Cleatmat Plus™ Chair Mats for High Pile Carpets',\n",
       "       'StarTAC Analog', 'Microsoft Natural Keyboard Elite', 'T60',\n",
       "       'Belkin 6 Outlet Metallic Surge Strip',\n",
       "       'Bush Westfield Collection Bookcases, Fully Assembled',\n",
       "       'Xerox 1952', 'Okidata ML320 Series Turbo Dot Matrix Printers',\n",
       "       'Fellowes Mobile Numeric Keypad, Graphite',\n",
       "       'Polycom ViaVideo™ Desktop Video Communications Unit',\n",
       "       'Staples Wirebound Steno Books, 6\" x 9\", 12/Pack',\n",
       "       'Staples® General Use 3-Ring Binders',\n",
       "       'Zoom V.92 USB External Faxmodem',\n",
       "       'Riverleaf Stik-Withit® Designer Note Cubes®',\n",
       "       'Avery Arch Ring Binders',\n",
       "       'APC 7 Outlet Network SurgeArrest Surge Protector',\n",
       "       'Fellowes 17-key keypad for PS/2 interface', 'StarTAC ST7762',\n",
       "       'Panasonic KX-P2130 Dot Matrix Printer',\n",
       "       'Wilson Jones® Four-Pocket Poly Binders', 'Xerox 1996',\n",
       "       'Acco® Hot Clips™ Clips to Go', 'Xerox 1933',\n",
       "       'Imation 3.5\" Unformatted DS/HD Diskettes, 10/Box',\n",
       "       'Super Bands, 12/Pack', '3M Organizer Strips',\n",
       "       'Seth Thomas 8 1/2\" Cubicle Clock', 'Newell 309', '252',\n",
       "       'Kleencut® Forged Office Shears by Acme United Corporation',\n",
       "       'Hewlett-Packard 2600DN Business Color Inkjet Printer',\n",
       "       \"Global Push Button Manager's Chair, Indigo\",\n",
       "       'Fellowes Black Plastic Comb Bindings',\n",
       "       'Eldon Expressions™ Desk Accessory, Wood Pencil Holder, Oak',\n",
       "       'Sanyo 2.5 Cubic Foot Mid-Size Office Refrigerators',\n",
       "       \"Lock-Up Easel 'Spel-Binder'\", 'Memorex 4.7GB DVD+R, 3/Pack',\n",
       "       'Eldon Spacemaker® Box, Quick-Snap Lid, Clear',\n",
       "       'Okidata ML390 Turbo Dot Matrix Printers',\n",
       "       'Xerox Blank Computer Paper',\n",
       "       'Bevis Round Bullnose 29\" High Table Top',\n",
       "       'Storex Dura Pro™ Binders', '270c', 'BPI Conference Tables',\n",
       "       'Avery 514', 'DIXON Oriole® Pencils', 'StarTAC Series',\n",
       "       'Global Adaptabilities™ Conference Tables',\n",
       "       'Acme® Elite Stainless Steel Scissors',\n",
       "       'Maxell Pro 80 Minute CD-R, 10/Pack', 'Newell 340',\n",
       "       'Hon iLevel™ Computer Training Table',\n",
       "       'Keytronic 105-Key Spanish Keyboard', 'Xerox 214',\n",
       "       'Tennsco Commercial Shelving',\n",
       "       'Staples Brown Kraft Recycled Clasp Envelopes',\n",
       "       'Eldon Executive Woodline II Cherry Finish Desk Accessories',\n",
       "       'Tenex Antistatic Computer Chair Mats', 'Xerox 1922',\n",
       "       'Hewlett-Packard Deskjet 940 REFURBISHED Color Inkjet Printer',\n",
       "       'Recycled Premium Regency Composition Covers',\n",
       "       'Brites Rubber Bands, 1 1/2 oz. Box', 'Accessory36',\n",
       "       'ACCOHIDE® Binder by Acco',\n",
       "       \"O'Sullivan Elevations Bookcase, Cherry Finish\",\n",
       "       'Memorex 4.7GB DVD+RW, 3/Pack', 'MicroTAC 650',\n",
       "       'Imation 3.5\", DISKETTE 44766 HGHLD3.52HD/FM, 10/Pack',\n",
       "       '80 Minute Slim Jewel Case CD-R , 10/Pack - Staples',\n",
       "       'Accessory34', 'High Speed Automatic Electric Letter Opener',\n",
       "       'Eldon® Expressions™ Wood Desk Accessories, Oak',\n",
       "       'Decoflex Hanging Personal Folder File, Blue',\n",
       "       'Bell Sonecor JB700 Caller ID', 'Acco Keyboard-In-A-Box®',\n",
       "       'SAFCO Arco Folding Chair',\n",
       "       'Eldon® 200 Class™ Desk Accessories, Burgundy',\n",
       "       'Hoover Commercial Soft Guard Upright Vacuum And Disposable Filtration Bags',\n",
       "       'Master Giant Foot® Doorstop, Safety Yellow',\n",
       "       'Avery Hi-Liter GlideStik Fluorescent Highlighter, Yellow Ink',\n",
       "       'Anderson Hickey Conga Table Tops & Accessories',\n",
       "       'GE 48\" Fluorescent Tube, Cool White Energy Saver, 34 Watts, 30/Box',\n",
       "       'Maxell 3.5\" DS/HD IBM-Formatted Diskettes, 10/Pack', 'Xerox 1898',\n",
       "       'Bevis 36 x 72 Conference Tables', 'M70',\n",
       "       'Sanyo Counter Height Refrigerator with Crisper, 3.6 Cubic Foot, Stainless Steel/Black',\n",
       "       'Executive Impressions 13\" Clairmont Wall Clock',\n",
       "       '1726 Digital Answering Machine',\n",
       "       \"O'Sullivan Living Dimensions 3-Shelf Bookcases\", 'Xerox 1971',\n",
       "       'Accessory4', '3M Office Air Cleaner',\n",
       "       'Deluxe Rollaway Locking File with Drawer',\n",
       "       'Pressboard Data Binder, Crimson, 12\" X 8 1/2\"', '8860',\n",
       "       'GBC Instant Index™ System for Binding Systems',\n",
       "       'Xerox 4200 Series MultiUse Premium Copy Paper (20Lb. and 84 Bright)',\n",
       "       'T18', 'Fellowes EZ Multi-Media Keyboard',\n",
       "       'Telescoping Adjustable Floor Lamp',\n",
       "       'Filing/Storage Totes and Swivel Casters',\n",
       "       'Logitech Access Keyboard', 'Xerox 1929',\n",
       "       'Howard Miller 16\" Diameter Gallery Wall Clock',\n",
       "       'Rediform S.O.S. Phone Message Books', 'Binding Machine Supplies',\n",
       "       'Hot File® 7-Pocket, Floor Stand',\n",
       "       'Polycom Soundstation EX Audio-Conferencing Telephone, Black',\n",
       "       'Accessory20',\n",
       "       'Manila Recycled Extra-Heavyweight Clasp Envelopes, 6\" x 9\"',\n",
       "       '14-7/8 x 11 Blue Bar Computer Printout Paper', 'Newell 333',\n",
       "       'Office Star - Contemporary Task Swivel chair with 2-way adjustable arms, Plum',\n",
       "       '2160i', '210 Trimline Phone, White',\n",
       "       'Vinyl Sectional Post Binders',\n",
       "       'Seth Thomas 14\" Putty-Colored Wall Clock',\n",
       "       'Tenex Personal Self-Stacking Standard File Box, Black/Gray',\n",
       "       'Economy Rollaway Files', 'Panasonic KX-P3200 Dot Matrix Printer',\n",
       "       'Tensor \"Hersey Kiss\" Styled Floor Lamp', 'Holmes Odor Grabber',\n",
       "       'Xerox 188', 'Motorola SB4200 Cable Modem',\n",
       "       'Staples 6 Outlet Surge',\n",
       "       'Cardinal Poly Pocket Divider Pockets for Ring Binders',\n",
       "       'Canon PC1060 Personal Laser Copier', 'Avery 49', 'Accessory25',\n",
       "       'Newell 343', 'Okidata ML395C Color Dot Matrix Printer',\n",
       "       'Southworth 25% Cotton Linen-Finish Paper & Envelopes', 'Xerox 21',\n",
       "       'Advantus Rolling Storage Box',\n",
       "       'Imation 3.5 IBM Formatted Diskettes, 10/Box',\n",
       "       'Adesso Programmable 142-Key Keyboard', 'Xerox 1908',\n",
       "       'Talkabout T8367', 'Tennsco Lockers, Gray',\n",
       "       'SAFCO Folding Chair Trolley', 'Xerox 1910',\n",
       "       'C-Line Peel & Stick Add-On Filing Pockets, 8-3/4 x 5-1/8, 10/Pack',\n",
       "       'Nu-Dell Executive Frame', 'Canon MP41DH Printing Calculator',\n",
       "       'Wirebound Message Book, 4 per Page',\n",
       "       'Bevis Round Conference Table Top, X-Base',\n",
       "       'Fellowes PB500 Electric Punch Plastic Comb Binding Machine with Manual Bind',\n",
       "       'Lexmark 4227 Plus Dot Matrix Printer', 'Xerox 1978',\n",
       "       'GBC Pre-Punched Binding Paper, Plastic, White, 8-1/2\" x 11\"',\n",
       "       'GBC Recycled Regency Composition Covers', 'Accessory29',\n",
       "       'Soundgear Copyboard Conference Phone, Optional Battery',\n",
       "       'DAX Wood Document Frame.',\n",
       "       'Wilson Jones Hanging View Binder, White, 1\"',\n",
       "       'BoxOffice By Design Rectangular and Half-Moon Meeting Room Tables',\n",
       "       'Sharp 1540cs Digital Laser Copier', '2160',\n",
       "       'White GlueTop Scratch Pads',\n",
       "       'Adams Phone Message Book, 200 Message Capacity, 8 1/16” x 11”',\n",
       "       'Fellowes Neat Ideas® Storage Cubes',\n",
       "       'Hon 2090 “Pillow Soft” Series Mid Back Swivel/Tilt Chairs',\n",
       "       'Tripp Lite Isotel 8 Ultra 8 Outlet Metal Surge',\n",
       "       'Catalog Binders with Expanding Posts',\n",
       "       'ACCOHIDE® 3-Ring Binder, Blue, 1\"',\n",
       "       'Hoover Portapower™ Portable Vacuum', 'Multimedia Mailers',\n",
       "       'Peel & Seel® Recycled Catalog Envelopes, Brown', 'Accessory6',\n",
       "       'Tenex File Box, Personal Filing Tote with Lid, Black',\n",
       "       'Acme Hot Forged Carbon Steel Scissors with Nickel-Plated Handles, 3 7/8\" Cut, 8\"L',\n",
       "       'Avery 4027 File Folder Labels for Dot Matrix Printers, 5000 Labels per Box, White',\n",
       "       '9-3/4 Diameter Round Wall Clock',\n",
       "       '80 Minute CD-R Spindle, 100/Pack - Staples',\n",
       "       '3M Hangers With Command Adhesive',\n",
       "       'Adams Telephone Message Book w/Frequently-Called Numbers Space, 400 Messages per Book',\n",
       "       'Bretford “Just In Time” Height-Adjustable Multi-Task Work Tables',\n",
       "       'Xerox 1976', 'Xerox 210', 'Accessory27',\n",
       "       'Park Ridge™ Embossed Executive Business Envelopes',\n",
       "       'Iris® 3-Drawer Stacking Bin, Black',\n",
       "       'Acco PRESSTEX® Data Binder with Storage Hooks, Dark Blue, 14 7/8\" X 11\"',\n",
       "       '1/4 Fold Party Design Invitations & White Envelopes, 24 8-1/2\" X 11\" Cards, 25 Env./Pack',\n",
       "       'Coloredge Poster Frame', 'T28 WORLD', 'Xerox 212',\n",
       "       'Smead Adjustable Mobile File Trolley with Lockable Top',\n",
       "       'Eldon® Wave Desk Accessories',\n",
       "       'Sauder Facets Collection Locker/File Cabinet, Sky Alder Finish',\n",
       "       'Rush Hierlooms Collection Rich Wood Bookcases', '6120', 'KH 688',\n",
       "       'Chromcraft Rectangular Conference Tables',\n",
       "       'Howard Miller 13-3/4\" Diameter Brushed Chrome Round Wall Clock',\n",
       "       'Executive Impressions 13\" Chairman Wall Clock',\n",
       "       'Staples Bulldog Clip',\n",
       "       'Riverside Palais Royal Lawyers Bookcase, Royale Cherry Finish',\n",
       "       'Electrix 20W Halogen Replacement Bulb for Zoom-In Desk Lamp',\n",
       "       'Wilson Jones Suede Grain Vinyl Binders',\n",
       "       'Computer Printout Paper with Letter-Trim Perforations',\n",
       "       'DAX Clear Channel Poster Frame',\n",
       "       'Executive Impressions 14\" Two-Color Numerals Wall Clock',\n",
       "       'Newell® 3-Hole Punched Plastic Slotted Magazine Holders for Binders',\n",
       "       'Avery 498', 'Xerox 1891',\n",
       "       'Sanford Colorific Colored Pencils, 12/Box', 'R380',\n",
       "       'Hoover Replacement Belts For Soft Guard™ & Commercial Ltweight Upright Vacs, 2/Pk',\n",
       "       'Ibico Ibimaster 300 Manual Binding System',\n",
       "       'Executive Impressions 12\" Wall Clock',\n",
       "       'Tennsco Snap-Together Open Shelving Units, Starter Sets and Add-On Units',\n",
       "       'Avery® Durable Slant Ring Binders With Label Holder',\n",
       "       'BASF Silver 74 Minute CD-R', 'Xerox 200',\n",
       "       'DMI Eclipse Executive Suite Bookcases',\n",
       "       'Wilson Jones 14 Line Acrylic Coated Pressboard Data Binders',\n",
       "       'Bush Heritage Pine Collection 5-Shelf Bookcase, Albany Pine Finish, *Special Order',\n",
       "       'i470', 'Bush® Cubix Conference Tables, Fully Assembled',\n",
       "       'Imation Neon Mac Format Diskettes, 10/Pack',\n",
       "       'Deflect-o EconoMat Nonstudded, No Bevel Mat',\n",
       "       'Keytronic Designer 104- Key Black Keyboard',\n",
       "       'Holmes Replacement Filter for HEPA Air Cleaner, Large Room',\n",
       "       'Xerox 1954',\n",
       "       'Staples Pen Style Liquid Stix; Assorted (yellow, pink, green, blue, orange), 5/Pack',\n",
       "       'Staples Vinyl Coated Paper Clips, 800/Box',\n",
       "       '*Staples* vLetter Openers, 2/Pack',\n",
       "       'Imation 3.5, DISKETTE 44766 HGHLD3.52HD/FM, 10/Pack',\n",
       "       'Hewlett-Packard 4.7GB DVD+R Discs',\n",
       "       'Fellowes Stor/Drawer® Steel Plus™ Storage Drawers',\n",
       "       'Eldon Expressions Punched Metal & Wood Desk Accessories, Pewter & Cherry',\n",
       "       'Prang Drawing Pencil Set',\n",
       "       'Array® Parchment Paper, Assorted Colors', 'SC7868i',\n",
       "       'Tennsco Regal Shelving Units',\n",
       "       'Office Star - Professional Matrix Back Chair with 2-to-1 Synchro Tilt and Mesh Fabric Seat',\n",
       "       'Xerox 1937', 'Hon Metal Bookcases, Putty',\n",
       "       'Belkin MediaBoard 104- Keyboard',\n",
       "       'Belkin 8 Outlet SurgeMaster II Gold Surge Protector',\n",
       "       'Wilson Jones Impact Binders',\n",
       "       'Verbatim DVD-R, 4.7GB, Spindle, WE, Blank, Ink Jet/Thermal, 20/Spindle',\n",
       "       'Fellowes Super Stor/Drawer®', 'Avery 479',\n",
       "       'Telephone Message Books with Fax/Mobile Section, 5 1/2\" x 3 3/16\"',\n",
       "       'Epson C82 Color Inkjet Printer',\n",
       "       'Snap-A-Way® Black Print Carbonless Ruled Speed Letter, Triplicate',\n",
       "       'Accessory39', '5170i', 'Memorex 4.7GB DVD-RAM, 3/Pack',\n",
       "       'Acco 6 Outlet Guardian Premium Surge Suppressor',\n",
       "       'Brother DCP1000 Digital 3 in 1 Multifunction Machine',\n",
       "       'Eureka Disposable Bags for Sanitaire® Vibra Groomer I® Upright Vac',\n",
       "       'Sharp EL501VB Scientific Calculator, Battery Operated, 10-Digit Display, Hard Case',\n",
       "       'Home/Office Personal File Carts',\n",
       "       'Southworth 25% Cotton Antique Laid Paper & Envelopes',\n",
       "       'Xerox 1993', 'Avery Printable Repositionable Plastic Tabs',\n",
       "       'Dixon Ticonderoga Core-Lock Colored Pencils',\n",
       "       'Space Solutions Commercial Steel Shelving', 'Xerox 204',\n",
       "       'Novimex Swivel Fabric Task Chair',\n",
       "       'Eldon Portable Mobile Manager', 'Accessory35',\n",
       "       'Microsoft Natural Multimedia Keyboard', 'Xerox 23',\n",
       "       'VTech VT20-2481 2.4GHz Two-Line Phone System w/Answering Machine',\n",
       "       'Avery Hi-Liter® Smear-Safe Highlighters',\n",
       "       'Eldon Expressions Mahogany Wood Desk Collection',\n",
       "       'Atlantic Metals Mobile 3-Shelf Bookcases, Custom Colors',\n",
       "       'Adams Phone Message Book, Professional, 400 Message Capacity, 5 3/6” x 11”',\n",
       "       'Boston 16765 Mini Stand Up Battery Pencil Sharpener',\n",
       "       'Zebra Zazzle Fluorescent Highlighters',\n",
       "       'Dana Fluorescent Magnifying Lamp, White, 36\"',\n",
       "       'Holmes Cool Mist Humidifier for the Whole House with 8-Gallon Output per Day, Extended Life Filter',\n",
       "       'Bagged Rubber Bands',\n",
       "       '2300 Heavy-Duty Transfer File Systems by Perma', 'Accessory41',\n",
       "       'Xerox 1985',\n",
       "       'Deflect-o SuperTray™ Unbreakable Stackable Tray, Letter, Black',\n",
       "       'Carina 42\"Hx23 3/4\"W Media Storage Unit', 'Xerox 224',\n",
       "       'SAFCO PlanMaster Heigh-Adjustable Drafting Table Base, 43w x 30d x 30-37h, Black',\n",
       "       'Xerox 231',\n",
       "       'Eureka Sanitaire ® Multi-Pro Heavy-Duty Upright, Disposable Bags',\n",
       "       'CF 688', 'Staples Standard Envelopes',\n",
       "       'Global Stack Chair without Arms, Black',\n",
       "       'Metal Folding Chairs, Beige, 4/Carton', '232',\n",
       "       'Document Clip Frames', 'Newell 337', 'OIC Thumb-Tacks',\n",
       "       'DS/HD IBM Formatted Diskettes, 200/Pack - Staples',\n",
       "       'Lexmark Z55se Color Inkjet Printer',\n",
       "       'Round Specialty Laser Printer Labels',\n",
       "       'Avery Hanging File Binders', '12 Colored Short Pencils',\n",
       "       'Rediform Wirebound \"Phone Memo\" Message Book, 11 x 5-3/4',\n",
       "       'Advantus 10-Drawer Portable Organizer, Chrome Metal Frame, Smoke Drawers',\n",
       "       'Steel Personal Filing/Posting Tote',\n",
       "       \"O'Sullivan 3-Shelf Heavy-Duty Bookcases\",\n",
       "       'Fellowes Twister Kit, Gray/Clear, 3/pkg', '5180',\n",
       "       'Advantus Push Pins',\n",
       "       'Rush Hierlooms Collection 1\" Thick Stackable Bookcases',\n",
       "       'Adams Telephone Message Books, 5 1/4” x 11”', 'Xerox 1983',\n",
       "       'StarTAC 7760', 'GBC Wire Binding Strips',\n",
       "       'Eldon ClusterMat Chair Mat with Cordless Antistatic Protection',\n",
       "       'Avery Trapezoid Ring Binder, 3\" Capacity, Black, 1040 sheets',\n",
       "       'Epson DFX5000+ Dot Matrix Printer', 'Newell 320',\n",
       "       'Self-Adhesive Address Labels for Typewriters by Universal',\n",
       "       'Turquoise Lead Holder with Pocket Clip',\n",
       "       'Panasonic KX-P1150 Dot Matrix Printer',\n",
       "       'Global Commerce™ Series High-Back Swivel/Tilt Chairs',\n",
       "       'Hoover Replacement Belt for Commercial Guardsman Heavy-Duty Upright Vacuum',\n",
       "       'Companion Letter/Legal File, Black',\n",
       "       'Gyration Ultra Professional Cordless Optical Suite',\n",
       "       'Bretford CR8500 Series Meeting Room Furniture',\n",
       "       'Fellowes Command Center 5-outlet power strip',\n",
       "       'Verbatim DVD-RAM, 9.4GB, Rewritable, Type 1, DS, DataLife Plus',\n",
       "       'Linden® 12\" Wall Clock With Oak Frame', 'Xerox 1893',\n",
       "       'Self-Adhesive Removable Labels',\n",
       "       'Chromcraft Bull-Nose Wood Oval Conference Tables & Bases',\n",
       "       'KF 788', 'Heavy-Duty E-Z-D® Binders',\n",
       "       'Boston 1645 Deluxe Heavier-Duty Electric Pencil Sharpener',\n",
       "       'Xerox 213', \"Jet-Pak Recycled Peel 'N' Seal Padded Mailers\",\n",
       "       'Personal Creations™ Ink Jet Cards and Labels',\n",
       "       'Panasonic KX-P3626 Dot Matrix Printer',\n",
       "       'Ampad #10 Peel & Seel® Holiday Envelopes',\n",
       "       'Ibico Recycled Linen-Style Covers', 'i500plus',\n",
       "       'Imation 3.5\" IBM-Formatted Diskettes, 10/Pack', 'Avery 494',\n",
       "       'Keytronic French Keyboard',\n",
       "       'Canon MP25DIII Desktop Whisper-Quiet Printing Calculator',\n",
       "       'SANFORD Major Accent™ Highlighters',\n",
       "       'Micro Innovations Micro Digital Wireless Keyboard and Mouse, Gray',\n",
       "       'i2000', 'US Robotics 56K V.92 External Faxmodem',\n",
       "       'Fellowes Smart Design 104-Key Enhanced Keyboard, PS/2 Adapter, Platinum',\n",
       "       'Avery 48',\n",
       "       'Luxo Professional Fluorescent Magnifier Lamp with Clamp-Mount Base',\n",
       "       'Electrix Halogen Magnifier Lamp', 'Xerox 1923',\n",
       "       'Wilson Jones Custom Binder Spines & Labels', 'Xerox 1883',\n",
       "       'Accessory37', 'Balt Split Level Computer Training Table',\n",
       "       'Avery Flip-Chart Easel Binder, Black',\n",
       "       'Seth Thomas 13 1/2\" Wall Clock', 'Xerox 1982',\n",
       "       'Boston 16701 Slimline Battery Pencil Sharpener',\n",
       "       'Global Leather & Oak Executive Chair, Burgundy',\n",
       "       'Fellowes Internet Keyboard, Platinum',\n",
       "       'GBC Laser Imprintable Binding System Covers, Desert Sand',\n",
       "       'Eldon® Gobal File Keepers',\n",
       "       'Acme® Forged Steel Scissors with Black Enamel Handles',\n",
       "       'Hon Olson Stacker Stools', 'Westinghouse Clip-On Gooseneck Lamps',\n",
       "       'Epson DFX-8500 Dot Matrix Printer',\n",
       "       'Southworth 25% Cotton Premium Laser Paper and Envelopes',\n",
       "       'Timeport L7089',\n",
       "       'Angle-D Binders with Locking Rings, Label Holders',\n",
       "       'Plymouth Boxed Rubber Bands by Plymouth',\n",
       "       'Important Message Pads, 50 4-1/4 x 5-1/2 Forms per Pad',\n",
       "       'Canon Imageclass D680 Copier / Fax',\n",
       "       'HP Office Recycled Paper (20Lb. and 87 Bright)',\n",
       "       '#10- 4 1/8\" x 9 1/2\" Security-Tint Envelopes',\n",
       "       'Logitech Internet Navigator Keyboard',\n",
       "       'Epson LQ-570e Dot Matrix Printer',\n",
       "       'Hoover WindTunnel™ Plus Canister Vacuum',\n",
       "       'Black Print Carbonless Snap-Off® Rapid Letter, 8 1/2\" x 7\"',\n",
       "       'Staples #10 Laser & Inkjet Envelopes, 4 1/8\" x 9 1/2\", 100/Box',\n",
       "       '5125', 'Global Leather Executive Chair',\n",
       "       'Targus USB Numeric Keypad', 'Accessory9',\n",
       "       'Polycom ViewStation™ ISDN Videoconferencing Unit',\n",
       "       'Harmony HEPA Quiet Air Purifiers',\n",
       "       'Hewlett-Packard Deskjet 1220Cse Color Inkjet Printer',\n",
       "       'Staples Plastic Wall Frames',\n",
       "       'Ibico Laser Imprintable Binding System Covers',\n",
       "       'Dixon Ticonderoga Core-Lock Colored Pencils, 48-Color Set',\n",
       "       'Hon 4700 Series Mobuis™ Mid-Back Task Chairs with Adjustable Arms',\n",
       "       'Avery 497',\n",
       "       'Pressboard Covers with Storage Hooks, 9 1/2\" x 11\", Light Blue',\n",
       "       'Canon imageCLASS 2200 Advanced Copier',\n",
       "       'Verbatim DVD-RAM, 5.2GB, Rewritable, Type 1, DS', 'Newell 312',\n",
       "       'GBC VeloBinder Electric Binding Machine',\n",
       "       'Polycom VoiceStation 100', 'Phone 918',\n",
       "       'Fellowes PB300 Plastic Comb Binding Machine',\n",
       "       'Hewlett-Packard Deskjet 6122 Color Inkjet Printer',\n",
       "       'G.E. Halogen Desk Lamp Bulbs',\n",
       "       'Hayes Optima 56K V.90 Internal Voice Modem',\n",
       "       'Avery Binder Labels',\n",
       "       'Hon Every-Day® Chair Series Swivel Task Chairs',\n",
       "       'IBM Multi-Purpose Copy Paper, 8 1/2 x 11\", Case',\n",
       "       'Bionaire Personal Warm Mist Humidifier/Vaporizer',\n",
       "       'Sauder Forest Hills Library, Woodland Oak Finish',\n",
       "       'Bush Advantage Collection® Round Conference Table',\n",
       "       'Economy Binders',\n",
       "       'Carina Double Wide Media Storage Towers in Natural & Black',\n",
       "       'Advantus Map Pennant Flags and Round Head Tacks',\n",
       "       'Hewlett-Packard Deskjet 5550 Color Inkjet Printer',\n",
       "       'Letter Slitter', 'Colored Envelopes', 'Xerox 1928',\n",
       "       'Sharp EL500L Fraction Calculator',\n",
       "       'Imation 3.5\" DS/HD IBM Formatted Diskettes, 10/Pack',\n",
       "       'Hand-Finished Solid Wood Document Frame',\n",
       "       'Wilson Jones Ledger-Size, Piano-Hinge Binder, 2\", Blue',\n",
       "       'Safco Contoured Stacking Chairs', 'Canon PC-428 Personal Copier',\n",
       "       'Fellowes High-Stak® Drawer Files', '3390', 'Avery 507',\n",
       "       'Deflect-o Glass Clear Studded Chair Mats',\n",
       "       'Acco Pressboard Covers with Storage Hooks, 14 7/8\" x 11\", Light Blue',\n",
       "       'Accessory24',\n",
       "       'Perma STOR-ALL™ Hanging File Box, 13 1/8\"W x 12 1/4\"D x 10 1/2\"H',\n",
       "       'Fluorescent Highlighters by Dixon',\n",
       "       'IBM 80 Minute CD-R Spindle, 50/Pack',\n",
       "       'Staples Metal Binder Clips',\n",
       "       'Advantus Panel Wall Certificate Holder - 8.5x11', 'LX 677',\n",
       "       'Avery 491', 'Avery White Multi-Purpose Labels',\n",
       "       'Epson C62 Color Inkjet Printer', 'Nu-Dell Leatherette Frames',\n",
       "       'Xerox 1894', 'Mead 1st Gear 2\" Zipper Binder, Asst. Colors',\n",
       "       'Advantus Push Pins, Aluminum Head', 'Xerox 1947',\n",
       "       'Presstex Flexible Ring Binders',\n",
       "       'Acco Smartsocket® Color-Coded Six-Outlet AC Adapter Model Surge Protectors',\n",
       "       'Eldon Pizzaz™ Desk Accessories',\n",
       "       'X-Rack™ File for Hanging Folders',\n",
       "       'Wirebound Message Forms, Four 2 3/4 x 5 Forms per Page, Pink Paper',\n",
       "       'Recycled Eldon Regeneration Jumbo File', 'g520',\n",
       "       'Avery Hi-Liter® Fluorescent Desk Style Markers',\n",
       "       'Maxell DVD-RAM Discs', '*Staples* Highlighting Markers',\n",
       "       '#10- 4 1/8\" x 9 1/2\" Recycled Envelopes',\n",
       "       'Global Leather and Oak Executive Chair, Black',\n",
       "       'Tennsco Lockers, Sand',\n",
       "       'Kensington 7 Outlet MasterPiece Power Center',\n",
       "       'Howard Miller 13\" Diameter Goldtone Round Wall Clock',\n",
       "       'Lifetime Advantage™ Folding Chairs, 4/Carton',\n",
       "       'GBC Binding covers',\n",
       "       'Eldon Antistatic Chair Mats for Low to Medium Pile Carpets',\n",
       "       'GBC DocuBind 200 Manual Binding Machine',\n",
       "       'Fellowes Mighty 8 Compact Surge Protector',\n",
       "       'Memorex Slim 80 Minute CD-R, 10/Pack',\n",
       "       'Recycled Desk Saver Line \"While You Were Out\" Book, 5 1/2\" X 4\"',\n",
       "       'Fellowes Staxonsteel® Drawer Files',\n",
       "       'Ibico Covers for Plastic or Wire Binding Elements',\n",
       "       'Hanging Personal Folder File', 'Tennsco Double-Tier Lockers',\n",
       "       'Peel & Stick Add-On Corner Pockets', 'Avery 487',\n",
       "       'Quartet Omega® Colored Chalk, 12/Pack', 'StarTAC 8000',\n",
       "       'Avery Legal 4-Ring Binder', 'Xerox 1888',\n",
       "       'Boston School Pro Electric Pencil Sharpener, 1670',\n",
       "       'GBC DocuBind 300 Electric Binding Machine', 'Avery 508',\n",
       "       'Canon Image Class D660 Copier', 'Portfile® Personal File Boxes',\n",
       "       'Bretford CR4500 Series Slim Rectangular Table',\n",
       "       'Staples Premium Bright 1-Part Blank Computer Paper',\n",
       "       'Staples Surge Protector 6 outlet', 'Avery 482',\n",
       "       'Euro Pro Shark Stick Mini Vacuum', 'Hon GuestStacker Chair',\n",
       "       'Staples 1 Part Blank Computer Paper',\n",
       "       'Fellowes Basic 104-Key Keyboard, Platinum',\n",
       "       'Eldon Expressions™ Desk Accessory, Wood Photo Frame, Mahogany',\n",
       "       'Avery Durable Poly Binders', 'DAX Solid Wood Frames',\n",
       "       'Newell 329', 'Stockwell Push Pins',\n",
       "       'Avery Reinforcements for Hole-Punch Pages',\n",
       "       'GBC Clear Cover, 8-1/2 x 11, unpunched, 25 covers per pack',\n",
       "       'Acme® Preferred Stainless Steel Scissors',\n",
       "       'TDK 4.7GB DVD-R Spindle, 15/Pack',\n",
       "       'Martin-Yale Premier Letter Opener', '600 Series Non-Flip',\n",
       "       'GBC Prepunched Paper, 19-Hole, for Binding Systems, 24-lb',\n",
       "       'Xerox 1882',\n",
       "       'Letter/Legal File Tote with Clear Snap-On Lid, Black Granite',\n",
       "       'Hon 2111 Invitation™ Series Corner Table',\n",
       "       'Trav-L-File Heavy-Duty Shuttle II, Black',\n",
       "       'BOSTON® Ranger® #55 Pencil Sharpener, Black',\n",
       "       'Hewlett-Packard Deskjet 3820 Color Inkjet Printer', 'Newell 336',\n",
       "       '3M Polarizing Task Lamp with Clamp Arm, Light Gray',\n",
       "       'Eaton Premium Continuous-Feed Paper, 25% Cotton, Letter Size, White, 1000 Shts/Box',\n",
       "       'Tenex Contemporary Contur Chairmats for Low and Medium Pile Carpet, Computer, 39\" x 49\"',\n",
       "       'Belkin Premiere Surge Master II 8-outlet surge protector',\n",
       "       'Sony MFD2HD Formatted Diskettes, 10/Pack', 'Avery 485', 'i270',\n",
       "       'Telephone Message Books with Fax/Mobile Section, 4 1/4\" x 6\"',\n",
       "       'Imation DVD-RAM discs', 'Letter Size Cart',\n",
       "       'GBC DocuBind TL200 Manual Binding Machine',\n",
       "       'Staples Colored Interoffice Envelopes',\n",
       "       'Electrix Fluorescent Magnifier Lamps & Weighted Base',\n",
       "       'Eldon® 200 Class™ Desk Accessories',\n",
       "       'Staples Copy Paper (20Lb. and 84 Bright)',\n",
       "       'Tennsco Industrial Shelving', '636',\n",
       "       'Acme Design Line 8\" Stainless Steel Bent Scissors w/Champagne Handles, 3-1/8\" Cut',\n",
       "       '#10 White Business Envelopes,4 1/8 x 9 1/2',\n",
       "       'Fellowes Personal Hanging Folder Files, Navy',\n",
       "       'Ibico Presentation Index for Binding Systems', 'Xerox 207',\n",
       "       'Avery Premier Heavy-Duty Binder with Round Locking Rings',\n",
       "       'Hunt BOSTON® Vista® Battery-Operated Pencil Sharpener, Black',\n",
       "       'TI 36X Solar Scientific Calculator',\n",
       "       'Eldon Simplefile® Box Office®',\n",
       "       'US Robotics 56K V.92 Internal PCI Faxmodem',\n",
       "       'Super Decoflex Portable Personal File', 'Xerox 197',\n",
       "       'Advantus Employee of the Month Certificate Frame, 11 x 13-1/2',\n",
       "       'Newell 308', 'Xerox 1880', 'Accessory28',\n",
       "       'Avery 05222 Permanent Self-Adhesive File Folder Labels for Typewriters, on Rolls, White, 250/Roll',\n",
       "       'Tenex Traditional Chairmats for Medium Pile Carpet, Standard Lip, 36\" x 48\"',\n",
       "       'Accessory17', 'AT&T Black Trimline Phone, Model 210',\n",
       "       '600 Series Flip', '8890', '12-1/2 Diameter Round Wall Clock',\n",
       "       'Regeneration Desk Collection',\n",
       "       'Avery Binding System Hidden Tab™ Executive Style Index Sets',\n",
       "       'Master Caster Door Stop, Brown', 'Newell 342',\n",
       "       'Micro Innovations Media Access Pro Keyboard',\n",
       "       'Lexmark Z54se Color Inkjet Printer',\n",
       "       'Staples Battery-Operated Desktop Pencil Sharpener', 'Xerox 1896',\n",
       "       '3M Polarizing Light Filter Sleeves',\n",
       "       'Gould Plastics 9-Pocket Panel Bin, 18-3/8w x 5-1/4d x 20-1/2h, Black',\n",
       "       'Wirebound Message Books, Four 2 3/4\" x 5\" Forms per Page, 600 Sets per Book',\n",
       "       'Newell 315',\n",
       "       'Bush Westfield Collection Bookcases, Dark Cherry Finish, Fully Assembled',\n",
       "       'Self-Adhesive Ring Binder Labels',\n",
       "       'Tyvek® Side-Opening Peel & Seel® Expanding Envelopes',\n",
       "       'Xerox 1991', 'Epson LQ-870 Dot Matrix Printer',\n",
       "       'Space Solutions™ Industrial Galvanized Steel Shelving.',\n",
       "       'Chromcraft 48\" x 96\" Racetrack Double Pedestal Table',\n",
       "       'Quality Park Security Envelopes',\n",
       "       'Ibico EB-19 Dual Function Manual Binding System',\n",
       "       'TI 30X Scientific Calculator',\n",
       "       'Executive Impressions 13-1/2\" Indoor/Outdoor Wall Clock',\n",
       "       'Executive Impressions 14\" Contract Wall Clock',\n",
       "       'Avery® 3 1/2\" Diskette Storage Pages, 10/Pack',\n",
       "       'Ibico EPK-21 Electric Binding System',\n",
       "       'Office Star - Ergonomic Mid Back Chair with 2-Way Adjustable Arms',\n",
       "       'Belkin F9M820V08 8 Outlet Surge',\n",
       "       'Bravo II™ Megaboss® 12-Amp Hard Body Upright, Replacement Belts, 2 Belts per Pack',\n",
       "       'Rubbermaid ClusterMat Chairmats, Mat Size- 66\" x 60\", Lip 20\" x 11\" -90 Degree Angle',\n",
       "       'Honeywell Quietcare HEPA Air Cleaner',\n",
       "       'Bush Advantage Collection® Racetrack Conference Table',\n",
       "       'Xerox 1986', 'Belkin ErgoBoard™ Keyboard',\n",
       "       'Career Cubicle Clock, 8 1/4\", Black',\n",
       "       'Hammermill Color Copier Paper (28Lb. and 96 Bright)',\n",
       "       'Kensington 6 Outlet Guardian Standard Surge Protector',\n",
       "       'Eldon Jumbo ProFile™ Portable File Boxes Graphite/Black',\n",
       "       '36X48 HARDFLOOR CHAIRMAT',\n",
       "       'White Dual Perf Computer Printout Paper, 2700 Sheets, 1 Part, Heavyweight, 20 lbs., 14 7/8 x 11',\n",
       "       'Sanford Pocket Accent® Highlighters', 'Xerox 1938',\n",
       "       'GBC Standard Therm-A-Bind Covers', 'Xerox 1950', 'Xerox 220',\n",
       "       \"O'Sullivan Living Dimensions 2-Shelf Bookcases\",\n",
       "       'Canon BP1200DH 12-Digit Bubble Jet Printing Calculator', '688',\n",
       "       'Revere Boxed Rubber Bands by Revere', 'Xerox 199',\n",
       "       'Bretford Rectangular Conference Table Tops', 'Newell 326',\n",
       "       'Lumber Crayons',\n",
       "       'Atlantic Metals Mobile 2-Shelf Bookcases, Custom Colors',\n",
       "       'Imation 5.2GB DVD-RAM', 'Avery 481',\n",
       "       'Speediset Carbonless Redi-Letter® 7\" x 8 1/2\"',\n",
       "       'Ultra Door Pull Handle', 'Xerox 1920', 'Binder Clips by OIC',\n",
       "       'Fellowes Superior 10 Outlet Split Surge Protector',\n",
       "       'Hewlett Packard LaserJet 3310 Copier', 'Unpadded Memo Slips',\n",
       "       'Ultra Commercial Grade Dual Valve Door Closer', 'Xerox 1994',\n",
       "       'Sanford Liquid Accent Highlighters', '*Staples* Packaging Labels',\n",
       "       'Bevis Steel Folding Chairs', 'Hon Pagoda™ Stacking Chairs',\n",
       "       'StarTAC 6500', 'Lexmark Z25 Color Inkjet Printer', 'Xerox 1974',\n",
       "       'Bush Mission Pointe Library',\n",
       "       'SouthWestern Bell FA970 Digital Answering Machine with Time/Day Stamp',\n",
       "       'Boston 16801 Nautilus™ Battery Pencil Sharpener',\n",
       "       'Multi-Use Personal File Cart and Caster Set, Three Stacking Bins',\n",
       "       'Hon Deluxe Fabric Upholstered Stacking Chairs, Rounded Back',\n",
       "       'Binder Posts',\n",
       "       'Eldon Cleatmat® Chair Mats for Medium Pile Carpets', 'Xerox 1979',\n",
       "       'Hon Non-Folding Utility Tables',\n",
       "       'Acco PRESSTEX® Data Binder with Storage Hooks, Dark Blue, 9 1/2\" X 11\"',\n",
       "       'Newell 339', 'Brown Kraft Recycled Envelopes',\n",
       "       'Stanley Bostitch Contemporary Electric Pencil Sharpeners', '282',\n",
       "       'Fellowes Strictly Business® Drawer File, Letter/Legal Size',\n",
       "       'Gyration Ultra Cordless Optical Suite',\n",
       "       'Boston 1799 Powerhouse™ Electric Pencil Sharpener',\n",
       "       'Tensor Computer Mounted Lamp', '3285',\n",
       "       'Safco Industrial Wire Shelving',\n",
       "       'Office Star Flex Back Scooter Chair with Aluminum Finish Frame',\n",
       "       'Xerox 1917',\n",
       "       'Tripp Lite Isotel 6 Outlet Surge Protector with Fax/Modem Protection',\n",
       "       'Novimex Turbo Task Chair',\n",
       "       'HP Office Paper (20Lb. and 87 Bright)', 'Accessory15',\n",
       "       'Kensington 7 Outlet MasterPiece Power Center with Fax/Phone Line Protection',\n",
       "       'Acco Four Pocket Poly Ring Binder with Label Holder, Smoke, 1\"',\n",
       "       'Holmes Replacement Filter for HEPA Air Cleaner, Medium Room',\n",
       "       'V70',\n",
       "       'Acme Galleria® Hot Forged Steel Scissors with Colored Handles',\n",
       "       \"Belkin 325VA UPS Surge Protector, 6'\",\n",
       "       'Westinghouse Floor Lamp with Metal Mesh Shade, Black',\n",
       "       'Desktop 3-Pocket Hot File®', 'Holmes HEPA Air Purifier',\n",
       "       'Logitech Cordless Navigator Duo',\n",
       "       'Global Enterprise Series Seating High-Back Swivel/Tilt Chairs',\n",
       "       'Bevis Round Conference Table Top & Single Column Base',\n",
       "       'Holmes Replacement Filter for HEPA Air Cleaner, Very Large Room, HEPA Filter',\n",
       "       'Boston 1730 StandUp Electric Pencil Sharpener', 'Newell 318',\n",
       "       'Rubber Band Ball', 'Wilson Jones DublLock® D-Ring Binders',\n",
       "       'Global Leather Highback Executive Chair with Pneumatic Height Adjustment, Black',\n",
       "       'T65',\n",
       "       'Lesro Sheffield Collection Coffee Table, End Table, Center Table, Corner Table',\n",
       "       'Post-it® “Important Message” Note Pad, Neon Colors, 50 Sheets/Pad',\n",
       "       'DAX Cubicle Frames - 8x10', 'Eldon Shelf Savers™ Cubes and Bins',\n",
       "       'GBC Therma-A-Bind 250T Electric Binding System',\n",
       "       'Imation Primaris 3.5\" 2HD Unformatted Diskettes, 10/Pack',\n",
       "       'Tyvek ® Top-Opening Peel & Seel Envelopes, Plain White',\n",
       "       'Xerox 216', 'Fellowes Binding Cases',\n",
       "       'Sanford EarthWrite® Recycled Pencils, Medium Soft, #2',\n",
       "       'Canon PC1080F Personal Copier',\n",
       "       'Holmes Harmony HEPA Air Purifier for 17 x 20 Room',\n",
       "       'XtraLife® ClearVue™ Slant-D® Ring Binders by Cardinal',\n",
       "       'Global Airflow Leather Mesh Back Chair, Black',\n",
       "       'Logitech Cordless Elite Duo', '7160',\n",
       "       'GBC Standard Plastic Binding Systems Combs',\n",
       "       'Binney & Smith inkTank™ Erasable Pocket Highlighter, Chisel Tip, Yellow',\n",
       "       'Newell 31',\n",
       "       'Deflect-o RollaMat Studded, Beveled Mat for Medium Pile Carpeting',\n",
       "       'GBC Twin Loop™ Wire Binding Elements, 9/16\" Spine, Black',\n",
       "       'Xerox 227', 'Peel-Off® China Markers',\n",
       "       'Hon Rectangular Conference Tables',\n",
       "       \"GBC Standard Plastic Binding Systems' Combs\",\n",
       "       'Nu-Form 106-Key Ergonomic Keyboard w/ Touchpad', 'Xerox 1989',\n",
       "       'Fellowes Recycled Storage Drawers',\n",
       "       'Boston Model 1800 Electric Pencil Sharpener, Gray',\n",
       "       'TDK 4.7GB DVD-R', 'Xerox 1984', 'Xerox 1951', 'Xerox 1905',\n",
       "       'Artistic Insta-Plaque', 'Accessory31',\n",
       "       'Boston KS Multi-Size Manual Pencil Sharpener',\n",
       "       'Dixon Ticonderoga® Erasable Colored Pencil Set, 12-Color',\n",
       "       'GBC ProClick Spines for 32-Hole Punch', 'Aluminum Document Frame',\n",
       "       'DAX Copper Panel Document Frame, 5 x 7 Size',\n",
       "       'Deflect-O® Glasstique™ Clear Desk Accessories',\n",
       "       'Balt Solid Wood Rectangular Table',\n",
       "       'Okidata ML520 Series Dot Matrix Printers',\n",
       "       'TOPS Voice Message Log Book, Flash Format', 'Xerox 20',\n",
       "       'Acme Kleencut® Forged Steel Scissors',\n",
       "       'Eureka The Boss® Cordless Rechargeable Stick Vac',\n",
       "       'Security-Tint Envelopes', '6162',\n",
       "       'Sanford 52201 APSCO Electric Pencil Sharpener',\n",
       "       'Avery Trapezoid Extra Heavy Duty 4\" Binders', 'i1000',\n",
       "       'Eldon Radial Chair Mat for Low to Medium Pile Carpets',\n",
       "       'Global Leather Task Chair, Black', 'Prang Colored Pencils',\n",
       "       'SAFCO Commercial Wire Shelving, Black',\n",
       "       'Kensington 6 Outlet MasterPiece® HOMEOFFICE Power Control Center',\n",
       "       'Executive Impressions 8-1/2\" Career Panel/Partition Cubicle Clock',\n",
       "       'Xerox 1962', 'Staples Vinyl Coated Paper Clips',\n",
       "       'Model L Table or Wall-Mount Pencil Sharpener',\n",
       "       'Deflect-o EconoMat Studded, No Bevel Mat for Low Pile Carpeting',\n",
       "       'DAX Value U-Channel Document Frames, Easel Back',\n",
       "       'GBC Plastic Binding Combs', 'Avery 496',\n",
       "       'Cardinal Holdit Business Card Pockets',\n",
       "       'Hon Metal Bookcases, Black',\n",
       "       'Tenex Personal Project File with Scoop Front Design, Black',\n",
       "       'Avery 492', 'Memo Book, 100 Message Capacity, 5 3/8” x 11”',\n",
       "       'Imation Neon 80 Minute CD-R Spindle, 50/Pack',\n",
       "       'Bush Cubix Collection Bookcases, Fully Assembled',\n",
       "       'Eldon® Expressions™ Wood and Plastic Desk Accessories, Oak',\n",
       "       'Acco Perma® 2700 Stacking Storage Drawers',\n",
       "       'Dixon My First Ticonderoga Pencil, #2',\n",
       "       'Prang Dustless Chalk Sticks', 'Talkabout T8097',\n",
       "       'Hewlett-Packard Business Color Inkjet 3000 [N, DTN] Series Printers',\n",
       "       'Xerox 217', 'Newell 346', 'Wirebound Voice Message Log Book',\n",
       "       'Barrel Sharpener', 'A1228',\n",
       "       'Premier Elliptical Ring Binder, Black',\n",
       "       'Bionaire 99.97% HEPA Air Cleaner',\n",
       "       'Hewlett-Packard cp1700 [D, PS] Series Color Inkjet Printers',\n",
       "       'Surelock™ Post Binders', 'Accessory32',\n",
       "       'Panasonic KP-310 Heavy-Duty Electric Pencil Sharpener',\n",
       "       'GE 4 Foot Flourescent Tube, 40 Watt', 'Xerox 1892',\n",
       "       'Deflect-o DuraMat Antistatic Studded Beveled Mat for Medium Pile Carpeting',\n",
       "       'Fellowes Bases and Tops For Staxonsteel®/High-Stak® Systems',\n",
       "       'Chromcraft Bull-Nose Wood Round Conference Table Top, Wood Base',\n",
       "       'Ibico Hi-Tech Manual Binding System', 'V 3600 Series',\n",
       "       'Avery 510', 'Dana Swing-Arm Lamps',\n",
       "       'Memorex 80 Minute CD-R Spindle, 100/Pack', 'Xerox 1973',\n",
       "       'Xerox 1997', 'KI Conference Tables',\n",
       "       'Serrated Blade or Curved Handle Hand Letter Openers',\n",
       "       'TOPS Money Receipt Book, Consecutively Numbered in Red,',\n",
       "       'Avery Heavy-Duty EZD ™ Binder With Locking Rings', 'Accessory21',\n",
       "       'Iris Project Case', 'Wirebound Service Call Books, 5 1/2\" x 4\"',\n",
       "       'Iceberg OfficeWorks 42\" Round Tables',\n",
       "       'Microsoft Multimedia Keyboard', 'Xerox 196', 'Xerox 1930',\n",
       "       'Xerox 1881',\n",
       "       \"Honeywell Enviracaire Portable HEPA Air Cleaner for 17' x 22' Room\",\n",
       "       'Xerox 1941', '4009® Highlighters by Sanford',\n",
       "       'Hammermill CopyPlus Copy Paper (20Lb. and 84 Bright)',\n",
       "       'Xerox 1906', 'GBC White Gloss Covers, Plain Front', 'Xerox 1995',\n",
       "       'Sharp AL-1530CS Digital Copier',\n",
       "       'Wirebound Four 2-3/4 x 5 Forms per Page, 400 Sets per Book',\n",
       "       'Newell 307',\n",
       "       \"O'Sullivan Cherrywood Estates Traditional Barrister Bookcase\",\n",
       "       'Xerox 1932', 'Quartet Alpha® White Chalk, 12/Pack',\n",
       "       'Zoom V.92 V.44 PCI Internal Controllerless FaxModem',\n",
       "       'Eureka Hand Vacuum, Bagless',\n",
       "       'Kensington 6 Outlet SmartSocket Surge Protector',\n",
       "       'Bevis Boat-Shaped Conference Table',\n",
       "       'File Shuttle II and Handi-File, Black', 'V3682',\n",
       "       'GBC Recycled Grain Textured Covers',\n",
       "       'Panasonic KP-350BK Electric Pencil Sharpener with Auto Stop',\n",
       "       'GBC ProClick™ 150 Presentation Binding System',\n",
       "       'Canon S750 Color Inkjet Printer',\n",
       "       'Acco Smartsocket™ Table Surge Protector, 6 Color-Coded Adapter Outlets',\n",
       "       'Assorted Color Push Pins', 'Imation 3.5 IBM Diskettes, 10/Box',\n",
       "       '300 Series Non-Flip', 'Decoflex Hanging Personal Folder File',\n",
       "       '\"While you Were Out\" Message Book, One Form per Page',\n",
       "       'Hon 4070 Series Pagoda™ Round Back Stacking Chairs',\n",
       "       'Bevis Rectangular Conference Tables',\n",
       "       'Fiskars 8\" Scissors, 2/Pack',\n",
       "       'Fellowes Smart Surge Ten-Outlet Protector, Platinum',\n",
       "       'Gyration RF Keyboard', 'Southworth Structures Collection™',\n",
       "       'Micro Innovations 104 Keyboard', 'Xerox 1961',\n",
       "       'Novimex Fabric Task Chair',\n",
       "       '1.7 Cubic Foot Compact \"Cube\" Office Refrigerators',\n",
       "       'Verbatim DVD-R, 3.95GB, SR, Mitsubishi Branded, Jewel',\n",
       "       'Large Capacity Hanging Post Binders',\n",
       "       'Imation 3.5\" DS/HD IBM Formatted Diskettes, 50/Pack',\n",
       "       'Xerox 1916',\n",
       "       'Imation 3.5\" DS-HD Macintosh Formatted Diskettes, 10/Pack',\n",
       "       'Wilson Jones Elliptical Ring 3 1/2\" Capacity Binders, 800 sheets',\n",
       "       'Canon PC940 Copier', 'Fellowes Officeware™ Wire Shelving',\n",
       "       'Xerox 19', 'Rogers® Profile Extra Capacity Storage Tub',\n",
       "       'G.E. Longer-Life Indoor Recessed Floodlight Bulbs',\n",
       "       'DIXON Ticonderoga® Erasable Checking Pencils',\n",
       "       'Hon Comfortask® Task/Swivel Chairs', 'i1000plus',\n",
       "       'GBC VeloBinder Strips',\n",
       "       'Universal Premium White Copier/Laser Paper (20Lb. and 87 Bright)',\n",
       "       '2190', 'Avery 506', 'Xerox 1936',\n",
       "       'Staples SlimLine Pencil Sharpener',\n",
       "       'Premium Writing Pencils, Soft, #2 by Central Association for the Blind',\n",
       "       'Crate-A-Files™',\n",
       "       'Eldon Expressions Punched Metal & Wood Desk Accessories, Black & Cherry',\n",
       "       'Tenex 46\" x 60\" Computer Anti-Static Chairmat, Rectangular Shaped'],\n",
       "      dtype=object)"
      ]
     },
     "execution_count": 61,
     "metadata": {},
     "output_type": "execute_result"
    }
   ],
   "source": [
    "df1[\"Product Name\"].unique()"
   ]
  },
  {
   "cell_type": "markdown",
   "id": "ad5f8669",
   "metadata": {},
   "source": [
    "### margins of all the product:"
   ]
  },
  {
   "cell_type": "code",
   "execution_count": 62,
   "id": "0fed6fa2",
   "metadata": {},
   "outputs": [
    {
     "data": {
      "text/plain": [
       "0       0.54\n",
       "1       0.60\n",
       "2       0.45\n",
       "3       0.43\n",
       "4       0.56\n",
       "        ... \n",
       "1947    0.59\n",
       "1948    0.60\n",
       "1949    0.60\n",
       "1950    0.57\n",
       "1951    0.65\n",
       "Name: Product Base Margin, Length: 1952, dtype: float64"
      ]
     },
     "execution_count": 62,
     "metadata": {},
     "output_type": "execute_result"
    }
   ],
   "source": [
    "df1[\"Product Base Margin\"]"
   ]
  },
  {
   "cell_type": "markdown",
   "id": "95c87e56",
   "metadata": {},
   "source": [
    "### total margin of all the product:"
   ]
  },
  {
   "cell_type": "code",
   "execution_count": 63,
   "id": "834c7009",
   "metadata": {},
   "outputs": [
    {
     "data": {
      "text/plain": [
       "1005.6429752066116"
      ]
     },
     "execution_count": 63,
     "metadata": {},
     "output_type": "execute_result"
    }
   ],
   "source": [
    "total_margin=df1[\"Product Base Margin\"].sum()\n",
    "total_margin"
   ]
  },
  {
   "cell_type": "code",
   "execution_count": null,
   "id": "bded100d",
   "metadata": {},
   "outputs": [],
   "source": []
  }
 ],
 "metadata": {
  "kernelspec": {
   "display_name": "Python 3 (ipykernel)",
   "language": "python",
   "name": "python3"
  },
  "language_info": {
   "codemirror_mode": {
    "name": "ipython",
    "version": 3
   },
   "file_extension": ".py",
   "mimetype": "text/x-python",
   "name": "python",
   "nbconvert_exporter": "python",
   "pygments_lexer": "ipython3",
   "version": "3.9.12"
  }
 },
 "nbformat": 4,
 "nbformat_minor": 5
}
