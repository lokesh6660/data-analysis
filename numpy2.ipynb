{
 "cells": [
  {
   "cell_type": "code",
   "execution_count": 2,
   "id": "f5ea8000",
   "metadata": {},
   "outputs": [
    {
     "data": {
      "text/plain": [
       "array([[[ 1, 67,  3],\n",
       "        [ 1, 56,  3],\n",
       "        [67,  2,  3]]])"
      ]
     },
     "execution_count": 2,
     "metadata": {},
     "output_type": "execute_result"
    }
   ],
   "source": [
    "#wap to print 3Dmetrix\n",
    "import numpy as np\n",
    "arr1=np.array([[[1,67,3],[1,56,3],[67,2,3]]])\n",
    "arr1"
   ]
  },
  {
   "cell_type": "code",
   "execution_count": 27,
   "id": "f40ad94b",
   "metadata": {},
   "outputs": [
    {
     "data": {
      "text/plain": [
       "array([[ 1, 67,  3],\n",
       "       [ 1, 56,  3],\n",
       "       [67,  2,  3]])"
      ]
     },
     "execution_count": 27,
     "metadata": {},
     "output_type": "execute_result"
    }
   ],
   "source": [
    "arr1[0]"
   ]
  },
  {
   "cell_type": "code",
   "execution_count": 28,
   "id": "872c24f5",
   "metadata": {},
   "outputs": [
    {
     "data": {
      "text/plain": [
       "array([ 1, 67,  3])"
      ]
     },
     "execution_count": 28,
     "metadata": {},
     "output_type": "execute_result"
    }
   ],
   "source": [
    "# useing slising with indexing in array\n",
    "arr1[0][0]"
   ]
  },
  {
   "cell_type": "code",
   "execution_count": 29,
   "id": "869296f6",
   "metadata": {},
   "outputs": [
    {
     "data": {
      "text/plain": [
       "1"
      ]
     },
     "execution_count": 29,
     "metadata": {},
     "output_type": "execute_result"
    }
   ],
   "source": [
    "arr1[0][0][0]"
   ]
  },
  {
   "cell_type": "code",
   "execution_count": 30,
   "id": "9acfb758",
   "metadata": {},
   "outputs": [
    {
     "data": {
      "text/plain": [
       "67"
      ]
     },
     "execution_count": 30,
     "metadata": {},
     "output_type": "execute_result"
    }
   ],
   "source": [
    "arr1[0][0][1]"
   ]
  },
  {
   "cell_type": "code",
   "execution_count": 31,
   "id": "c7a03205",
   "metadata": {},
   "outputs": [
    {
     "data": {
      "text/plain": [
       "2"
      ]
     },
     "execution_count": 31,
     "metadata": {},
     "output_type": "execute_result"
    }
   ],
   "source": [
    "a=np.array([1,2,3])\n",
    "a[1]"
   ]
  },
  {
   "cell_type": "code",
   "execution_count": 32,
   "id": "99863dab",
   "metadata": {},
   "outputs": [
    {
     "data": {
      "text/plain": [
       "56"
      ]
     },
     "execution_count": 32,
     "metadata": {},
     "output_type": "execute_result"
    }
   ],
   "source": [
    "arr1[0][1][1]"
   ]
  },
  {
   "cell_type": "code",
   "execution_count": 34,
   "id": "d7a37cec",
   "metadata": {},
   "outputs": [
    {
     "data": {
      "text/plain": [
       "203"
      ]
     },
     "execution_count": 34,
     "metadata": {},
     "output_type": "execute_result"
    }
   ],
   "source": [
    "#sum\n",
    "a=arr1.sum()\n",
    "a"
   ]
  },
  {
   "cell_type": "code",
   "execution_count": 39,
   "id": "5cc51f67",
   "metadata": {},
   "outputs": [
    {
     "data": {
      "text/plain": [
       "array([[12, 15, 18]])"
      ]
     },
     "execution_count": 39,
     "metadata": {},
     "output_type": "execute_result"
    }
   ],
   "source": [
    "arr=np.array([[[1,2,3],[4,5,6],[7,8,9]]])\n",
    "a=arr.sum(1)\n",
    "a"
   ]
  },
  {
   "cell_type": "code",
   "execution_count": 40,
   "id": "7659ee97",
   "metadata": {},
   "outputs": [
    {
     "data": {
      "text/plain": [
       "array([[1, 2, 3],\n",
       "       [4, 5, 6],\n",
       "       [7, 8, 9]])"
      ]
     },
     "execution_count": 40,
     "metadata": {},
     "output_type": "execute_result"
    }
   ],
   "source": [
    "a=arr.sum(axis=[0][])\n",
    "a"
   ]
  },
  {
   "cell_type": "code",
   "execution_count": 48,
   "id": "1c8aaf5f",
   "metadata": {},
   "outputs": [
    {
     "data": {
      "text/plain": [
       "array([[1, 2, 3],\n",
       "       [1, 2, 3],\n",
       "       [1, 2, 3]])"
      ]
     },
     "execution_count": 48,
     "metadata": {},
     "output_type": "execute_result"
    }
   ],
   "source": [
    "arr3=np.array([[1,2,3],[1,2,3],[1,2,3]])\n",
    "arr3\n"
   ]
  },
  {
   "cell_type": "code",
   "execution_count": 45,
   "id": "185f8a1d",
   "metadata": {},
   "outputs": [
    {
     "data": {
      "text/plain": [
       "(4, 4)"
      ]
     },
     "execution_count": 45,
     "metadata": {},
     "output_type": "execute_result"
    }
   ],
   "source": [
    "arr3.shape"
   ]
  },
  {
   "cell_type": "code",
   "execution_count": 46,
   "id": "2d360c9f",
   "metadata": {},
   "outputs": [
    {
     "data": {
      "text/plain": [
       "16"
      ]
     },
     "execution_count": 46,
     "metadata": {},
     "output_type": "execute_result"
    }
   ],
   "source": [
    "arr3.size"
   ]
  },
  {
   "cell_type": "code",
   "execution_count": 49,
   "id": "1ae66005",
   "metadata": {},
   "outputs": [
    {
     "data": {
      "text/plain": [
       "array([1., 1., 1., 1., 1., 1., 1., 1., 1., 1., 1., 1., 1., 1., 1., 1., 1.,\n",
       "       1., 1., 1.])"
      ]
     },
     "execution_count": 49,
     "metadata": {},
     "output_type": "execute_result"
    }
   ],
   "source": [
    "#zeros and ones\n",
    "np.ones(20)"
   ]
  },
  {
   "cell_type": "code",
   "execution_count": 50,
   "id": "f69f8e99",
   "metadata": {},
   "outputs": [
    {
     "data": {
      "text/plain": [
       "array([0., 0., 0., 0., 0., 0., 0., 0., 0., 0., 0., 0., 0., 0., 0., 0., 0.,\n",
       "       0., 0., 0.])"
      ]
     },
     "execution_count": 50,
     "metadata": {},
     "output_type": "execute_result"
    }
   ],
   "source": [
    "np.zeros(20)"
   ]
  },
  {
   "cell_type": "code",
   "execution_count": 51,
   "id": "8c4b5053",
   "metadata": {},
   "outputs": [
    {
     "data": {
      "text/plain": [
       "array([ 6,  8, 10, 12, 14, 16, 18, 20, 22, 24, 26, 28, 30, 32, 34, 36, 38,\n",
       "       40, 42, 44, 46, 48, 50, 52, 54, 56, 58, 60])"
      ]
     },
     "execution_count": 51,
     "metadata": {},
     "output_type": "execute_result"
    }
   ],
   "source": [
    "#arange funcion\n",
    "np.arange(6,61,2)"
   ]
  },
  {
   "cell_type": "code",
   "execution_count": 52,
   "id": "7a5cdb03",
   "metadata": {},
   "outputs": [
    {
     "data": {
      "text/plain": [
       "array([ 1,  2,  3,  4,  5,  6,  7,  8,  9, 10, 11, 12, 13, 14, 15, 16, 17,\n",
       "       18, 19, 20, 21, 22, 23, 24, 25, 26, 27, 28, 29, 30, 31, 32, 33, 34,\n",
       "       35, 36, 37, 38, 39, 40, 41, 42, 43, 44, 45, 46, 47, 48, 49, 50, 51,\n",
       "       52, 53, 54, 55, 56, 57, 58, 59, 60])"
      ]
     },
     "execution_count": 52,
     "metadata": {},
     "output_type": "execute_result"
    }
   ],
   "source": [
    "np.arange(1,61)"
   ]
  },
  {
   "cell_type": "code",
   "execution_count": 53,
   "id": "b80e9ae5",
   "metadata": {},
   "outputs": [
    {
     "data": {
      "text/plain": [
       "array([ 0,  1,  2,  3,  4,  5,  6,  7,  8,  9, 10, 11, 12, 13, 14, 15, 16,\n",
       "       17, 18, 19, 20, 21, 22, 23, 24, 25, 26, 27, 28, 29, 30, 31, 32, 33,\n",
       "       34, 35, 36, 37, 38, 39, 40, 41, 42, 43, 44, 45, 46, 47, 48, 49, 50,\n",
       "       51, 52, 53, 54, 55, 56, 57, 58, 59, 60])"
      ]
     },
     "execution_count": 53,
     "metadata": {},
     "output_type": "execute_result"
    }
   ],
   "source": [
    "np.arange(61)"
   ]
  },
  {
   "cell_type": "code",
   "execution_count": 54,
   "id": "614e063b",
   "metadata": {},
   "outputs": [
    {
     "data": {
      "text/plain": [
       "array([ 8.22612418e-134, -7.58425513e+010])"
      ]
     },
     "execution_count": 54,
     "metadata": {},
     "output_type": "execute_result"
    }
   ],
   "source": [
    "#empty\n",
    "#linespace\n",
    "np.empty(2)"
   ]
  },
  {
   "cell_type": "code",
   "execution_count": 55,
   "id": "9c244e71",
   "metadata": {},
   "outputs": [
    {
     "data": {
      "text/plain": [
       "array([0., 0., 0., 0., 0., 0.])"
      ]
     },
     "execution_count": 55,
     "metadata": {},
     "output_type": "execute_result"
    }
   ],
   "source": [
    "#to create rendom data\n",
    "np.empty(6)"
   ]
  },
  {
   "cell_type": "code",
   "execution_count": 58,
   "id": "0d842056",
   "metadata": {},
   "outputs": [
    {
     "data": {
      "text/plain": [
       "array([[1.27048199e-311, 1.27048199e-311, 1.27048146e-311,\n",
       "        1.27049983e-311, 1.27049921e-311, 1.27049921e-311],\n",
       "       [1.27047405e-311, 1.27049921e-311, 1.27049981e-311,\n",
       "        1.27047405e-311, 1.27052810e-311, 1.27047405e-311],\n",
       "       [1.27049982e-311, 1.27049979e-311, 1.27047441e-311,\n",
       "        1.27047405e-311, 1.27047407e-311, 1.27047405e-311],\n",
       "       [1.27047405e-311, 1.27049741e-311, 1.27047389e-311,\n",
       "        1.27047405e-311, 1.27049982e-311, 1.27049820e-311],\n",
       "       [1.27049742e-311, 1.27049981e-311, 1.27047405e-311,\n",
       "        1.27049981e-311, 1.27047405e-311, 1.27049753e-311],\n",
       "       [1.27049819e-311, 1.27049753e-311, 1.27049819e-311,\n",
       "        1.27052844e-311, 1.27047407e-311, 1.27047405e-311]])"
      ]
     },
     "execution_count": 58,
     "metadata": {},
     "output_type": "execute_result"
    }
   ],
   "source": [
    "#to create 2d array data\n",
    "np.empty((6,6))"
   ]
  },
  {
   "cell_type": "code",
   "execution_count": 4,
   "id": "0e0095ed",
   "metadata": {},
   "outputs": [
    {
     "data": {
      "text/plain": [
       "array([ 1.        ,  1.15254237,  1.30508475,  1.45762712,  1.61016949,\n",
       "        1.76271186,  1.91525424,  2.06779661,  2.22033898,  2.37288136,\n",
       "        2.52542373,  2.6779661 ,  2.83050847,  2.98305085,  3.13559322,\n",
       "        3.28813559,  3.44067797,  3.59322034,  3.74576271,  3.89830508,\n",
       "        4.05084746,  4.20338983,  4.3559322 ,  4.50847458,  4.66101695,\n",
       "        4.81355932,  4.96610169,  5.11864407,  5.27118644,  5.42372881,\n",
       "        5.57627119,  5.72881356,  5.88135593,  6.03389831,  6.18644068,\n",
       "        6.33898305,  6.49152542,  6.6440678 ,  6.79661017,  6.94915254,\n",
       "        7.10169492,  7.25423729,  7.40677966,  7.55932203,  7.71186441,\n",
       "        7.86440678,  8.01694915,  8.16949153,  8.3220339 ,  8.47457627,\n",
       "        8.62711864,  8.77966102,  8.93220339,  9.08474576,  9.23728814,\n",
       "        9.38983051,  9.54237288,  9.69491525,  9.84745763, 10.        ])"
      ]
     },
     "execution_count": 4,
     "metadata": {},
     "output_type": "execute_result"
    }
   ],
   "source": [
    "#linspace is used to get data between two number first argument denote to starting point, secound argument denote to last point\n",
    "#and third arument denote the number of data create in a list.\n",
    "np.linspace(1,10,60)"
   ]
  },
  {
   "cell_type": "code",
   "execution_count": 68,
   "id": "7cec531f",
   "metadata": {},
   "outputs": [
    {
     "name": "stdout",
     "output_type": "stream",
     "text": [
      "23\n",
      "45\n"
     ]
    }
   ],
   "source": [
    "x1=[23,45,89,34]\n",
    "x2=[78,86,45,23]\n",
    "for i in x1:\n",
    "    for j in x2:\n",
    "        if i==j:\n",
    "            print(i)"
   ]
  },
  {
   "cell_type": "code",
   "execution_count": null,
   "id": "e2285dfc",
   "metadata": {},
   "outputs": [],
   "source": []
  }
 ],
 "metadata": {
  "kernelspec": {
   "display_name": "Python 3 (ipykernel)",
   "language": "python",
   "name": "python3"
  },
  "language_info": {
   "codemirror_mode": {
    "name": "ipython",
    "version": 3
   },
   "file_extension": ".py",
   "mimetype": "text/x-python",
   "name": "python",
   "nbconvert_exporter": "python",
   "pygments_lexer": "ipython3",
   "version": "3.9.12"
  }
 },
 "nbformat": 4,
 "nbformat_minor": 5
}
