{
 "cells": [
  {
   "cell_type": "code",
   "execution_count": 2,
   "id": "31a8edff",
   "metadata": {},
   "outputs": [],
   "source": [
    "import numpy as np\n",
    "x=np.array([[23,90,40],[64,3,45]])"
   ]
  },
  {
   "cell_type": "code",
   "execution_count": 3,
   "id": "6a026edb",
   "metadata": {},
   "outputs": [
    {
     "data": {
      "text/plain": [
       "array([[23, 90, 40],\n",
       "       [64,  3, 45]])"
      ]
     },
     "execution_count": 3,
     "metadata": {},
     "output_type": "execute_result"
    }
   ],
   "source": [
    "x"
   ]
  },
  {
   "cell_type": "markdown",
   "id": "337f0503",
   "metadata": {},
   "source": [
    "# different type of function used in numpy"
   ]
  },
  {
   "cell_type": "code",
   "execution_count": 5,
   "id": "8b846898",
   "metadata": {},
   "outputs": [
    {
     "data": {
      "text/plain": [
       "array([87, 93, 85])"
      ]
     },
     "execution_count": 5,
     "metadata": {},
     "output_type": "execute_result"
    }
   ],
   "source": [
    "#sum accoding to colume\n",
    "x.sum(0)"
   ]
  },
  {
   "cell_type": "code",
   "execution_count": 6,
   "id": "cccae455",
   "metadata": {},
   "outputs": [
    {
     "data": {
      "text/plain": [
       "array([153, 112])"
      ]
     },
     "execution_count": 6,
     "metadata": {},
     "output_type": "execute_result"
    }
   ],
   "source": [
    "#sum accoding to row\n",
    "x.sum(1)"
   ]
  },
  {
   "cell_type": "code",
   "execution_count": 7,
   "id": "e25d66b3",
   "metadata": {},
   "outputs": [
    {
     "data": {
      "text/plain": [
       "array([[1., 1., 1.],\n",
       "       [1., 1., 1.],\n",
       "       [1., 1., 1.],\n",
       "       [1., 1., 1.],\n",
       "       [1., 1., 1.]])"
      ]
     },
     "execution_count": 7,
     "metadata": {},
     "output_type": "execute_result"
    }
   ],
   "source": [
    "np.ones((5,3))"
   ]
  },
  {
   "cell_type": "code",
   "execution_count": 8,
   "id": "800737fa",
   "metadata": {},
   "outputs": [
    {
     "data": {
      "text/plain": [
       "array([[1., 1., 1.],\n",
       "       [1., 1., 1.],\n",
       "       [1., 1., 1.]])"
      ]
     },
     "execution_count": 8,
     "metadata": {},
     "output_type": "execute_result"
    }
   ],
   "source": [
    "np.ones([3,3])"
   ]
  },
  {
   "cell_type": "code",
   "execution_count": 9,
   "id": "836d305b",
   "metadata": {},
   "outputs": [
    {
     "data": {
      "text/plain": [
       "array([[0., 0., 0., 0.],\n",
       "       [0., 0., 0., 0.]])"
      ]
     },
     "execution_count": 9,
     "metadata": {},
     "output_type": "execute_result"
    }
   ],
   "source": [
    "np.zeros([2,4])"
   ]
  },
  {
   "cell_type": "code",
   "execution_count": 10,
   "id": "c974b4c8",
   "metadata": {},
   "outputs": [
    {
     "data": {
      "text/plain": [
       "array([[0., 0., 0.],\n",
       "       [0., 0., 0.],\n",
       "       [0., 0., 0.]])"
      ]
     },
     "execution_count": 10,
     "metadata": {},
     "output_type": "execute_result"
    }
   ],
   "source": [
    "np.zeros((3,3))"
   ]
  },
  {
   "cell_type": "code",
   "execution_count": 13,
   "id": "f75f456f",
   "metadata": {},
   "outputs": [
    {
     "data": {
      "text/plain": [
       "array([[            nan, 0.00000000e+000, 7.10742016e-312,\n",
       "        7.10716415e-312, 0.00000000e+000,             nan,\n",
       "                    nan, 0.00000000e+000, 1.51005560e-207,\n",
       "        0.00000000e+000, 4.44659081e-323, 7.10742016e-312],\n",
       "       [7.10716418e-312,             nan, 0.00000000e+000,\n",
       "                    nan, 0.00000000e+000, 7.08746594e-312,\n",
       "        3.55727265e-322, 5.43472210e-323, 7.10742016e-312,\n",
       "        7.10716418e-312, 0.00000000e+000, 1.38338381e-322],\n",
       "       [            nan, 0.00000000e+000, 7.08746594e-312,\n",
       "        7.11454530e-322, 5.43472210e-323, 7.10742016e-312,\n",
       "        7.10716418e-312,             nan, 1.48219694e-322,\n",
       "                    nan, 0.00000000e+000, 7.08746594e-312],\n",
       "       [1.06718180e-321, 5.43472210e-323, 7.10742016e-312,\n",
       "        7.10716419e-312, 7.10688483e-312, 1.28457068e-322,\n",
       "                    nan, 0.00000000e+000, 7.08746594e-312,\n",
       "        1.42290906e-321, 5.43472210e-323, 7.10742016e-312],\n",
       "       [7.10716417e-312, 7.10688483e-312, 7.90505033e-323,\n",
       "                    nan, 0.00000000e+000, 7.08746594e-312,\n",
       "        4.94065646e-324, 4.44659081e-323, 7.10742016e-312,\n",
       "        7.10688628e-312, 4.94065646e-324, 2.96439388e-323],\n",
       "       [1.48219694e-323, 0.00000000e+000, 4.94065646e-324,\n",
       "        2.13436359e-321, 5.43472210e-323, 7.10742016e-312,\n",
       "        7.10688628e-312, 4.44659081e-323, 2.96439388e-323,\n",
       "        1.48219694e-323, 7.10741821e-312, 7.08746594e-312],\n",
       "       [2.49009086e-321, 4.94065646e-323, 7.10742016e-312,\n",
       "        7.10688628e-312, 0.00000000e+000, 0.00000000e+000,\n",
       "        0.00000000e+000, 0.00000000e+000, 4.94065646e-324,\n",
       "        0.00000000e+000, 7.10742016e-312, 0.00000000e+000],\n",
       "       [7.10742016e-312, 0.00000000e+000, 7.10742016e-312,\n",
       "        0.00000000e+000, 7.10742016e-312, 0.00000000e+000,\n",
       "        2.49009086e-321, 9.88131292e-324, 7.10742016e-312,\n",
       "        7.10716416e-312, 0.00000000e+000, 7.90505033e-323],\n",
       "       [            nan, 0.00000000e+000, 7.08746594e-312,\n",
       "        3.55727265e-321, 4.44659081e-323, 7.10742016e-312,\n",
       "        7.10716416e-312, 4.94065646e-324, 7.90505033e-323,\n",
       "                    nan, 7.10741821e-312, 4.94065646e-324],\n",
       "       [7.10742016e-312, 0.00000000e+000, 0.00000000e+000,\n",
       "        0.00000000e+000, 0.00000000e+000, 0.00000000e+000,\n",
       "        0.00000000e+000, 0.00000000e+000, 0.00000000e+000,\n",
       "        0.00000000e+000, 7.10742016e-312, 0.00000000e+000],\n",
       "       [7.10742016e-312, 0.00000000e+000, 7.10742016e-312,\n",
       "        0.00000000e+000, 7.10742016e-312, 7.10742016e-312,\n",
       "        3.91299992e-321, 9.88131292e-324, 7.10742016e-312,\n",
       "        7.10716416e-312, 0.00000000e+000, 7.90505033e-323],\n",
       "       [            nan, 7.10712950e-312, 4.94065646e-324,\n",
       "        7.10742003e-312, 3.86932715e+285, 7.10741821e-312,\n",
       "        7.08746594e-312, 0.00000000e+000, 0.00000000e+000,\n",
       "        0.00000000e+000, 0.00000000e+000, 0.00000000e+000]])"
      ]
     },
     "execution_count": 13,
     "metadata": {},
     "output_type": "execute_result"
    }
   ],
   "source": [
    "np.empty((12,12))"
   ]
  },
  {
   "cell_type": "code",
   "execution_count": 15,
   "id": "b4bf4695",
   "metadata": {},
   "outputs": [
    {
     "data": {
      "text/plain": [
       "array([ 1.        ,  1.28571429,  1.57142857,  1.85714286,  2.14285714,\n",
       "        2.42857143,  2.71428571,  3.        ,  3.28571429,  3.57142857,\n",
       "        3.85714286,  4.14285714,  4.42857143,  4.71428571,  5.        ,\n",
       "        5.28571429,  5.57142857,  5.85714286,  6.14285714,  6.42857143,\n",
       "        6.71428571,  7.        ,  7.28571429,  7.57142857,  7.85714286,\n",
       "        8.14285714,  8.42857143,  8.71428571,  9.        ,  9.28571429,\n",
       "        9.57142857,  9.85714286, 10.14285714, 10.42857143, 10.71428571,\n",
       "       11.        , 11.28571429, 11.57142857, 11.85714286, 12.14285714,\n",
       "       12.42857143, 12.71428571, 13.        , 13.28571429, 13.57142857,\n",
       "       13.85714286, 14.14285714, 14.42857143, 14.71428571, 15.        ])"
      ]
     },
     "execution_count": 15,
     "metadata": {},
     "output_type": "execute_result"
    }
   ],
   "source": [
    "np.linspace(1,15)"
   ]
  },
  {
   "cell_type": "code",
   "execution_count": 18,
   "id": "94017677",
   "metadata": {},
   "outputs": [
    {
     "data": {
      "text/plain": [
       "array([1.        , 1.26315789, 1.52631579, 1.78947368, 2.05263158,\n",
       "       2.31578947, 2.57894737, 2.84210526, 3.10526316, 3.36842105,\n",
       "       3.63157895, 3.89473684, 4.15789474, 4.42105263, 4.68421053,\n",
       "       4.94736842, 5.21052632, 5.47368421, 5.73684211, 6.        ])"
      ]
     },
     "execution_count": 18,
     "metadata": {},
     "output_type": "execute_result"
    }
   ],
   "source": [
    "np.linspace(1,6,20)"
   ]
  },
  {
   "cell_type": "code",
   "execution_count": 19,
   "id": "b7f8450c",
   "metadata": {},
   "outputs": [
    {
     "data": {
      "text/plain": [
       "array([ 1,  2,  3,  4,  5,  6,  7,  8,  9, 10, 11])"
      ]
     },
     "execution_count": 19,
     "metadata": {},
     "output_type": "execute_result"
    }
   ],
   "source": [
    "#arange\n",
    "np.arange(1,12)"
   ]
  },
  {
   "cell_type": "code",
   "execution_count": 20,
   "id": "a1aba3b7",
   "metadata": {},
   "outputs": [
    {
     "data": {
      "text/plain": [
       "array([ 1,  3,  5,  7,  9, 11])"
      ]
     },
     "execution_count": 20,
     "metadata": {},
     "output_type": "execute_result"
    }
   ],
   "source": [
    "np.arange(1,12,2)"
   ]
  },
  {
   "cell_type": "code",
   "execution_count": null,
   "id": "a7be259c",
   "metadata": {},
   "outputs": [],
   "source": []
  }
 ],
 "metadata": {
  "kernelspec": {
   "display_name": "Python 3 (ipykernel)",
   "language": "python",
   "name": "python3"
  },
  "language_info": {
   "codemirror_mode": {
    "name": "ipython",
    "version": 3
   },
   "file_extension": ".py",
   "mimetype": "text/x-python",
   "name": "python",
   "nbconvert_exporter": "python",
   "pygments_lexer": "ipython3",
   "version": "3.9.12"
  }
 },
 "nbformat": 4,
 "nbformat_minor": 5
}
